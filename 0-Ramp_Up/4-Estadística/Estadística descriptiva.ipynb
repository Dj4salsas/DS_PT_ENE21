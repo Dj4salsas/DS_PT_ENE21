{
 "cells": [
  {
   "cell_type": "markdown",
   "id": "dutch-romantic",
   "metadata": {},
   "source": [
    "# Estadística descriptiva"
   ]
  },
  {
   "cell_type": "markdown",
   "id": "unauthorized-prime",
   "metadata": {},
   "source": [
    "## Conceptos básicos de la estadística descriptiva\n",
    "\n",
    "En *[estadística descriptiva](https://es.wikipedia.org/wiki/Estad%C3%ADstica_descriptiva)* se utilizan distintas medidas para intentar describir las propiedades de nuestros datos, algunos de los conceptos básicos, son:\n",
    "\n",
    "* **Media aritmética**: La [media aritmética](https://es.wikipedia.org/wiki/Media_aritm%C3%A9tica) es el valor obtenido al sumar todos los *[datos](https://es.wikipedia.org/wiki/Dato)* y dividir el resultado entre el número total elementos. Se suele representar con la letra griega $\\mu$. Si tenemos una [muestra](https://es.wikipedia.org/wiki/Muestra_estad%C3%ADstica) de $n$ valores, $x_i$, la *media aritmética*, $\\mu$, es la suma de los valores divididos por el numero de elementos; en otras palabras:\n",
    "$$\\mu = \\frac{1}{n} \\sum_{i}x_i$$\n",
    "\n",
    "\n",
    "* **Varianza**: La [varianza](https://es.wikipedia.org/wiki/Varianza) es la media aritmética del cuadrado de las desviaciones respecto a la media de una distribución estadística. La varianza intenta describir la dispersión de los *[datos](https://es.wikipedia.org/wiki/Dato). Básicamente representa lo que varían los datos*. **Como está elevada al cuadrado, la varianza no puede tener las mismas unidades que los datos**. Una varianza elevada significa que los datos están más dispersos. Mientras que un valor bajo, indica que los datos están próximos a la media. Se representa como $\\sigma^2$. \n",
    "$$\\sigma^2 = \\frac{\\sum\\limits_{i=1}^n(x_i - \\mu)^2}{n} $$\n",
    "\n",
    "\n",
    "* **Desviación típica**: La [desviación típica](https://es.wikipedia.org/wiki/Desviaci%C3%B3n_t%C3%ADpica) es la raíz cuadrada de la varianza. Se representa con la letra griega $\\sigma$.\n",
    "$$\\sigma = \\sqrt{\\frac{\\sum\\limits_{i=1}^n(x_i - \\mu)^2}{n}} $$\n",
    "\n",
    "\n",
    "* **Mediana**: La <a href=\"https://es.wikipedia.org/wiki/Mediana_(estad%C3%ADstica)\">mediana</a> es el valor que ocupa el lugar central de todos los datos cuando éstos están ordenados de menor a mayor. \n"
   ]
  },
  {
   "cell_type": "markdown",
   "id": "angry-friendship",
   "metadata": {},
   "source": [
    "Veamos como calcularlos en Python"
   ]
  },
  {
   "cell_type": "code",
   "execution_count": 1,
   "id": "homeless-chaos",
   "metadata": {},
   "outputs": [],
   "source": [
    "import numpy as np"
   ]
  },
  {
   "cell_type": "code",
   "execution_count": 2,
   "id": "transsexual-boston",
   "metadata": {},
   "outputs": [],
   "source": [
    "poblaciones = np.array([8082, 29575, 11314, 87599, 99872, 202, 225100])"
   ]
  },
  {
   "cell_type": "code",
   "execution_count": 3,
   "id": "limiting-chosen",
   "metadata": {},
   "outputs": [
    {
     "data": {
      "text/plain": [
       "65963.42857142857"
      ]
     },
     "execution_count": 3,
     "metadata": {},
     "output_type": "execute_result"
    }
   ],
   "source": [
    "# Media\n",
    "np.mean(poblaciones)"
   ]
  },
  {
   "cell_type": "code",
   "execution_count": 4,
   "id": "confident-criterion",
   "metadata": {},
   "outputs": [
    {
     "data": {
      "text/plain": [
       "5561120081.673469"
      ]
     },
     "execution_count": 4,
     "metadata": {},
     "output_type": "execute_result"
    }
   ],
   "source": [
    "# Varianza\n",
    "np.var(poblaciones)"
   ]
  },
  {
   "cell_type": "code",
   "execution_count": 6,
   "id": "southeast-steal",
   "metadata": {},
   "outputs": [
    {
     "data": {
      "text/plain": [
       "74572.91788359544"
      ]
     },
     "execution_count": 6,
     "metadata": {},
     "output_type": "execute_result"
    }
   ],
   "source": [
    "# Desviación típca\n",
    "np.std(poblaciones)"
   ]
  },
  {
   "cell_type": "code",
   "execution_count": 7,
   "id": "clean-yesterday",
   "metadata": {},
   "outputs": [
    {
     "data": {
      "text/plain": [
       "5561120081.673469"
      ]
     },
     "execution_count": 7,
     "metadata": {},
     "output_type": "execute_result"
    }
   ],
   "source": [
    "# Deviación típica = Varianza al cuadrado\n",
    "np.std(poblaciones)**2"
   ]
  },
  {
   "cell_type": "code",
   "execution_count": 8,
   "id": "municipal-bhutan",
   "metadata": {},
   "outputs": [
    {
     "data": {
      "text/plain": [
       "29575.0"
      ]
     },
     "execution_count": 8,
     "metadata": {},
     "output_type": "execute_result"
    }
   ],
   "source": [
    "# Mediana\n",
    "np.median(poblaciones)"
   ]
  },
  {
   "cell_type": "markdown",
   "id": "neither-spectacular",
   "metadata": {},
   "source": [
    "## Percentiles y cuartiles - (Medidas de posición o tendencia central)\n",
    "### Percentil\n",
    "El percentil es el valor que divide un conjunto ordenado de datos estadísticos de forma que un porcentaje de tales datos sea inferior a dicho valor”.\n",
    "\n",
    "**Teniendo la variable ordenada en sentido ascendente, el percentil representa el orden relativo de cada valor respecto al resto de variables.**\n",
    "\n",
    "Por ejemplo, si en una clase hay 100 alumnos, y en un examen solo tenemos 5 personas que hayan sacado mejor nota que nosotros, estaremos en el percentil 95%."
   ]
  },
  {
   "cell_type": "markdown",
   "id": "moving-civilization",
   "metadata": {},
   "source": [
    "### Quartiles\n",
    "Los **[cuartiles](https://es.wikipedia.org/wiki/Cuartil)** son los tres valores de la variable estadística que dividen a un [conjunto de datos](https://es.wikipedia.org/wiki/Conjunto_de_datos) ordenados en cuatro partes iguales. Q1, Q2 y Q3 determinan los valores correspondientes a **los percentiles 25%, al 50% y al 75% de los datos**. Q2 coincide con la <a href=\"https://es.wikipedia.org/wiki/Mediana_(estad%C3%ADstica)\">mediana</a>.\n",
    "\n"
   ]
  },
  {
   "cell_type": "code",
   "execution_count": 10,
   "id": "solar-correlation",
   "metadata": {},
   "outputs": [
    {
     "name": "stdout",
     "output_type": "stream",
     "text": [
      "3.0\n",
      "6.0\n",
      "8.0\n"
     ]
    }
   ],
   "source": [
    "x = np.array([4,6,2,1,7,8,11,3,15])\n",
    "\n",
    "p_25 = np.percentile(x,25)\n",
    "p_50 = np.percentile(x, 50)\n",
    "p_75 = np.percentile(x, 75)\n",
    "\n",
    "print(p_25)\n",
    "print(p_50)\n",
    "print(p_75)"
   ]
  },
  {
   "cell_type": "markdown",
   "id": "sporting-sunday",
   "metadata": {},
   "source": [
    "## Diagramas de cajas\n",
    "\n",
    "\n",
    "Los [diagramas de cajas](https://es.wikipedia.org/wiki/Diagrama_de_caja) son una presentación visual que describe varias características importantes al mismo tiempo, tales como la dispersión y simetría. Para su realización se representan los tres cuartiles y los valores mínimo y máximo de los datos, sobre un rectángulo, alineado horizontal o verticalmente. Estos gráficos nos proporcionan abundante información y son sumamente útiles para encontrar [valores atípicos](https://es.wikipedia.org/wiki/Valor_at%C3%ADpico) y comparar dos [conjunto de datos](https://es.wikipedia.org/wiki/Conjunto_de_datos). \n",
    "\n",
    "\n",
    "<img alt=\"diagrama de cajas\" title=\"Diagrama de cajas\" src=\"https://miro.medium.com/max/18000/1*2c21SkzJMf3frPXPAR_gZA.png\" width=\"600\">"
   ]
  },
  {
   "cell_type": "code",
   "execution_count": 11,
   "id": "private-arena",
   "metadata": {},
   "outputs": [
    {
     "data": {
      "image/png": "[encoded data removed]",
      "text/plain": [
       "<Figure size 648x432 with 1 Axes>"
      ]
     },
     "metadata": {
      "needs_background": "light"
     },
     "output_type": "display_data"
    }
   ],
   "source": [
    "# Ejemplo de grafico de cajas en python\n",
    "import matplotlib.pyplot as plt\n",
    "fig = plt.figure(1, figsize=(9,6))\n",
    "\n",
    "ax = fig.add_subplot()\n",
    "bp = ax.boxplot(poblaciones)"
   ]
  },
  {
   "cell_type": "code",
   "execution_count": 12,
   "id": "needed-composer",
   "metadata": {},
   "outputs": [
    {
     "name": "stderr",
     "output_type": "stream",
     "text": [
      "C:\\Users\\rzambrano\\Anaconda3\\envs\\general\\lib\\site-packages\\seaborn\\_decorators.py:43: FutureWarning: Pass the following variable as a keyword arg: x. From version 0.12, the only valid positional argument will be `data`, and passing other arguments without an explicit keyword will result in an error or misinterpretation.\n",
      "  FutureWarning\n"
     ]
    },
    {
     "data": {
      "text/plain": [
       "<AxesSubplot:>"
      ]
     },
     "execution_count": 12,
     "metadata": {},
     "output_type": "execute_result"
    },
    {
     "data": {
      "image/png": "[encoded data removed]",
      "text/plain": [
       "<Figure size 432x288 with 1 Axes>"
      ]
     },
     "metadata": {
      "needs_background": "light"
     },
     "output_type": "display_data"
    }
   ],
   "source": [
    "import seaborn as sns\n",
    "sns.boxplot(poblaciones)"
   ]
  },
  {
   "cell_type": "markdown",
   "id": "traditional-colonial",
   "metadata": {},
   "source": [
    "## Outliers\n",
    "Un outlier es una observación anormal y extrema en una muestra estadística o serie temporal de datos que puede afectar potencialmente a la estimación de los parámetros del mismo.\n",
    "\n",
    "Se trata de datos que no son consistentes con el resto.\n",
    "\n",
    "Veamos un ejemplo de cómo afectan los outliers al análisis. Imaginemos que tenemos una muestra con alturas de los alumnos dentro de una clase"
   ]
  },
  {
   "cell_type": "code",
   "execution_count": 13,
   "id": "saving-auckland",
   "metadata": {},
   "outputs": [
    {
     "name": "stdout",
     "output_type": "stream",
     "text": [
      "Media de alturas: 1.737\n",
      "Máximo: 1.85\n",
      "Mínimo: 1.62\n"
     ]
    }
   ],
   "source": [
    "alturas = np.array([1.65, 1.80, 1.72, 1.68, 1.75, 1.85, 1.62, 1.79, 1.82, 1.69])\n",
    "print(\"Media de alturas:\", np.mean(alturas))\n",
    "print(\"Máximo:\", np.max(alturas))\n",
    "print(\"Mínimo:\", np.min(alturas))"
   ]
  },
  {
   "cell_type": "markdown",
   "id": "thermal-baseline",
   "metadata": {},
   "source": [
    "La altura media cae aproximadamente a mitad del rango (1.735), lo cual tiene sentido al ser una medida de centralidad. Ahora imaginemos que se incorporan a la clase dos futuros NBA."
   ]
  },
  {
   "cell_type": "code",
   "execution_count": 14,
   "id": "considered-leadership",
   "metadata": {},
   "outputs": [
    {
     "name": "stdout",
     "output_type": "stream",
     "text": [
      "Media de alturas: 1.8141666666666667\n",
      "Máximo: 2.22\n",
      "Mínimo: 1.62\n"
     ]
    }
   ],
   "source": [
    "alturas = np.array([1.65, 1.80, 1.72, 1.68, 1.75, 1.85, 1.62, 1.79, 1.82, 1.69, 2.18, 2.22])\n",
    "print(\"Media de alturas:\", np.mean(alturas))\n",
    "print(\"Máximo:\", np.max(alturas))\n",
    "print(\"Mínimo:\", np.min(alturas))"
   ]
  },
  {
   "cell_type": "markdown",
   "id": "civilian-offset",
   "metadata": {},
   "source": [
    "Ahora la media difiere bastante de la mitad del rango (1.92), por lo que nos desvirtúa bastante el cálculo.\n"
   ]
  },
  {
   "cell_type": "code",
   "execution_count": 28,
   "id": "attractive-campbell",
   "metadata": {},
   "outputs": [
    {
     "data": {
      "image/png": "[encoded data removed]",
      "text/plain": [
       "<Figure size 648x432 with 1 Axes>"
      ]
     },
     "metadata": {
      "needs_background": "light"
     },
     "output_type": "display_data"
    }
   ],
   "source": [
    "fig = plt.figure(1,figsize=(9,6))\n",
    "ax = fig.add_subplot()\n",
    "ax.grid()\n",
    "bp = ax.boxplot(alturas2)"
   ]
  },
  {
   "cell_type": "code",
   "execution_count": 27,
   "id": "valid-louis",
   "metadata": {},
   "outputs": [],
   "source": [
    "alturas2 = np.array([1.65, 1.8 , 1.72, 1.68, 1.75, 1.85, 1.62, 1.79, 1.82, 1.69, 2.18,\n",
    "       2.22,2])"
   ]
  },
  {
   "cell_type": "code",
   "execution_count": 25,
   "id": "negative-reservation",
   "metadata": {},
   "outputs": [
    {
     "data": {
      "text/plain": [
       "2.0375000000000005"
      ]
     },
     "execution_count": 25,
     "metadata": {},
     "output_type": "execute_result"
    }
   ],
   "source": [
    "p_75 = np.percentile(alturas,75)\n",
    "p_25 = np.percentile(alturas,25)\n",
    "\n",
    "p_75 + 1.5 * (p_75-p_25)"
   ]
  },
  {
   "cell_type": "markdown",
   "id": "magnetic-engagement",
   "metadata": {},
   "source": [
    "**¿Qué hacemos con los outliers? No hay una regla para el tratamiento de los mismos**, pero podemos tomar las siguientes decisiones:\n",
    "\n",
    "* Mantenerlos\n",
    "* Elimiar si son valores erróneos\n",
    "* Eliminar si superan  1.5 * IQR\n",
    "* Imputar el valor por otro nuevo (como la mediana)\n",
    "* Tratar por separado como una nueva muestra (si se cuenta con el suficiente volumen)."
   ]
  },
  {
   "cell_type": "markdown",
   "id": "confident-spectacular",
   "metadata": {},
   "source": [
    "## Frecuencias"
   ]
  },
  {
   "cell_type": "code",
   "execution_count": 29,
   "id": "attached-highway",
   "metadata": {},
   "outputs": [],
   "source": [
    "# Creamos un array con las preferencias vacacionales españolas\n",
    "vacaciones = np.array(['Canarias', 'Baleares', 'País Vasco', 'Canarias', 'Madrid', 'País Vasco', 'Canarias',\n",
    "                      'Canarias', 'Madrid', 'Barcelona', 'Baleares', 'Galicia', 'Baleares', 'Baleares', 'Canarias'])"
   ]
  },
  {
   "cell_type": "code",
   "execution_count": 32,
   "id": "sufficient-kenya",
   "metadata": {},
   "outputs": [
    {
     "data": {
      "text/plain": [
       "(array(['Baleares', 'Barcelona', 'Canarias', 'Galicia', 'Madrid',\n",
       "        'País Vasco'], dtype='<U10'),\n",
       " array([4, 1, 5, 1, 2, 2], dtype=int64))"
      ]
     },
     "execution_count": 32,
     "metadata": {},
     "output_type": "execute_result"
    }
   ],
   "source": [
    "np.unique(vacaciones, return_counts=True)"
   ]
  },
  {
   "cell_type": "code",
   "execution_count": 33,
   "id": "satisfied-paris",
   "metadata": {},
   "outputs": [
    {
     "name": "stderr",
     "output_type": "stream",
     "text": [
      "C:\\Users\\rzambrano\\Anaconda3\\envs\\general\\lib\\site-packages\\seaborn\\_decorators.py:43: FutureWarning: Pass the following variable as a keyword arg: x. From version 0.12, the only valid positional argument will be `data`, and passing other arguments without an explicit keyword will result in an error or misinterpretation.\n",
      "  FutureWarning\n"
     ]
    },
    {
     "data": {
      "text/plain": [
       "<AxesSubplot:ylabel='count'>"
      ]
     },
     "execution_count": 33,
     "metadata": {},
     "output_type": "execute_result"
    },
    {
     "data": {
      "image/png": "[encoded data removed]",
      "text/plain": [
       "<Figure size 432x288 with 1 Axes>"
      ]
     },
     "metadata": {
      "needs_background": "light"
     },
     "output_type": "display_data"
    }
   ],
   "source": [
    "import seaborn as sns\n",
    "sns.countplot(vacaciones)"
   ]
  },
  {
   "cell_type": "markdown",
   "id": "destroyed-simulation",
   "metadata": {},
   "source": [
    "## Histogramas \n",
    "\n",
    "Muchas veces los indicadores de la estadística descriptiva no nos proporcionan una imagen clara de nuestros datos.  Por esta razón, siempre es útil complementarlos con gráficos de las distribuciones de los datos, que describan con qué frecuencia aparece cada valor. La representación más común de una distribución es un [histograma](https://es.wikipedia.org/wiki/Histograma), que es un gráfico que muestra la frecuencia o probabilidad de cada valor El eje horizontal representa los valores del conjunto de datos y el eje vertical representa la frecuencia con que esos valores ocurren.\n"
   ]
  },
  {
   "cell_type": "code",
   "execution_count": 41,
   "id": "unnecessary-being",
   "metadata": {},
   "outputs": [
    {
     "data": {
      "image/png": "[encoded data removed]",
      "text/plain": [
       "<Figure size 432x288 with 1 Axes>"
      ]
     },
     "metadata": {
      "needs_background": "light"
     },
     "output_type": "display_data"
    }
   ],
   "source": [
    "import matplotlib.pyplot as plt\n",
    "\n",
    "x = np.random.normal(170,10,1000)\n",
    "y = np.concatenate((x, np.array([300,301,302])))\n",
    "plt.hist(y,bins=50);"
   ]
  },
  {
   "cell_type": "markdown",
   "id": "fundamental-addition",
   "metadata": {},
   "source": [
    "## Correlación\n",
    "\n",
    "La [correlación](https://es.wikipedia.org/wiki/Correlaci%C3%B3n) trata de establecer la relación o **dependencia que existe entre las dos variables que intervienen en una distribución bidimensional**. Es decir, determinar si los cambios en una de las variables influyen en los cambios de la otra. En caso de que suceda, diremos que las variables están correlacionadas o que hay correlación entre ellas. La correlación es **positiva** cuando los valores de las variables aumenta juntos; y es **negativa** cuando un valor de una variable se reduce cuando el valor de la otra variable aumenta.\n",
    "\n",
    "![imagen](./img/corr.png)\n",
    "\n",
    "Lo comunmente conocido como correlación es realmente el coeficiente de correlación de Pearson, que se calcula con la siguiente fórmula:\n",
    "\n",
    "![imagen](./img/coef_corr.png)\n",
    "\n",
    "Por suerte el coeficiente de correlación de Pearson está normalizado y se puede interpretar de manera sencilla:\n",
    "\n",
    "* Si r = 1, existe una correlación positiva perfecta. El índice indica una dependencia total entre las dos variables denominada relación directa: cuando una de ellas aumenta, la otra también lo hace en proporción constante.\n",
    "* Si 0 < r < 1, existe una correlación positiva.\n",
    "* Si r = 0, no existe relación lineal. Pero esto no necesariamente implica que las variables son independientes: pueden existir todavía relaciones no lineales entre las dos variables.\n",
    "* Si -1 < r < 0, existe una correlación negativa.\n",
    "* Si r = -1, existe una correlación negativa perfecta. El índice indica una dependencia total entre las dos variables llamada relación inversa: cuando una de ellas aumenta, la otra disminuye en proporción constante."
   ]
  },
  {
   "cell_type": "code",
   "execution_count": 43,
   "id": "worst-shepherd",
   "metadata": {},
   "outputs": [
    {
     "data": {
      "text/plain": [
       "array([[1.        , 0.97082448],\n",
       "       [0.97082448, 1.        ]])"
      ]
     },
     "execution_count": 43,
     "metadata": {},
     "output_type": "execute_result"
    }
   ],
   "source": [
    "# Veamos un ejemplo con la distancia recorrida vs gasolina gastada\n",
    "\n",
    "distancia = np.array([100, 150, 125, 150, 170, 210, 220, 240, 255, 270, 300, 333, 340,349, 356, 400, 425, 434, 478, 532, 529])\n",
    "gasolina = np.array([22, 20, 22,33, 25, 31,37, 32, 36, 41, 44, 50,39, 45, 55, 53, 57, 60, 66, 68, 69])\n",
    "\n",
    "np.corrcoef(gasolina,distancia)"
   ]
  },
  {
   "cell_type": "code",
   "execution_count": 45,
   "id": "transsexual-index",
   "metadata": {
    "scrolled": true
   },
   "outputs": [
    {
     "data": {
      "image/png": "[encoded data removed]",
      "text/plain": [
       "<Figure size 432x288 with 1 Axes>"
      ]
     },
     "metadata": {
      "needs_background": "light"
     },
     "output_type": "display_data"
    }
   ],
   "source": [
    "plt.plot(distancia,gasolina,'o');"
   ]
  },
  {
   "cell_type": "code",
   "execution_count": 46,
   "id": "known-housing",
   "metadata": {},
   "outputs": [
    {
     "data": {
      "text/plain": [
       "array([[1.        , 0.03043268],\n",
       "       [0.03043268, 1.        ]])"
      ]
     },
     "execution_count": 46,
     "metadata": {},
     "output_type": "execute_result"
    }
   ],
   "source": [
    "# Otro ejemplo de dos variables no correlacionadas\n",
    "\n",
    "# Horas examen teleco\n",
    "horas = np.array([30, 50, 25, 67, 110, 43])\n",
    "calif = np.array([3, 6, 1, 1, 3, 4])\n",
    "\n",
    "np.corrcoef(horas, calif)"
   ]
  },
  {
   "cell_type": "code",
   "execution_count": 48,
   "id": "clear-miller",
   "metadata": {},
   "outputs": [
    {
     "data": {
      "image/png": "[encoded data removed]",
      "text/plain": [
       "<Figure size 432x288 with 1 Axes>"
      ]
     },
     "metadata": {
      "needs_background": "light"
     },
     "output_type": "display_data"
    }
   ],
   "source": [
    "plt.plot(horas,calif,'o');"
   ]
  },
  {
   "cell_type": "markdown",
   "id": "pacific-initial",
   "metadata": {},
   "source": [
    "En muchas ocasiones, se utilizan matrices de correlación para visualizar de forma ágil la correlación entre todas las variables\n",
    "<img src='https://46gyn61z4i0t1u1pnq2bbk2e-wpengine.netdna-ssl.com/wp-content/uploads/2018/08/correlation-heat.png'>"
   ]
  }
 ],
 "metadata": {
  "kernelspec": {
   "display_name": "Python 3",
   "language": "python",
   "name": "python3"
  },
  "language_info": {
   "codemirror_mode": {
    "name": "ipython",
    "version": 3
   },
   "file_extension": ".py",
   "mimetype": "text/x-python",
   "name": "python",
   "nbconvert_exporter": "python",
   "pygments_lexer": "ipython3",
   "version": "3.7.9"
  }
 },
 "nbformat": 4,
 "nbformat_minor": 5
}
