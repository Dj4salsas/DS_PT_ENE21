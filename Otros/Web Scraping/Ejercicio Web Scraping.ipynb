{
 "cells": [
  {
   "cell_type": "markdown",
   "metadata": {},
   "source": [
    "# Ejercicio Web Scraping"
   ]
  },
  {
   "attachments": {},
   "cell_type": "markdown",
   "metadata": {},
   "source": [
    "Imagina que dispones de las siguientes participaciones en estos fondos de inversión:\n",
    "<table><thead><tr><th>Nombre del fondo</th><th>Número de participaciones</th></tr></thead><tbody><tr><td>&nbsp;&nbsp;&nbsp;<br>BGF Euro Short&nbsp;&nbsp;&nbsp;Duration Bond A2 EUR&nbsp;&nbsp;&nbsp;</td><td>&nbsp;&nbsp;&nbsp;<br>22.45&nbsp;&nbsp;&nbsp;</td></tr><tr><td>&nbsp;&nbsp;&nbsp;<br>iShares Euro Govt&nbsp;&nbsp;&nbsp;Bd Idx (LU) A2 EUR&nbsp;&nbsp;&nbsp;</td><td>&nbsp;&nbsp;&nbsp;<br>8.34&nbsp;&nbsp;&nbsp;</td></tr><tr><td>&nbsp;&nbsp;&nbsp;<br>iShares Em Mkts Govt Bd Idx (LU) A2 EURH&nbsp;&nbsp;&nbsp;</td><td>&nbsp;&nbsp;&nbsp;<br>13.22&nbsp;&nbsp;&nbsp;</td></tr><tr><td>&nbsp;&nbsp;&nbsp;<br>iShares Europe&nbsp;&nbsp;&nbsp;Equity Index (LU) A2 EUR&nbsp;&nbsp;&nbsp;</td><td>&nbsp;&nbsp;&nbsp;<br>11.77&nbsp;&nbsp;&nbsp;</td></tr><tr><td>&nbsp;&nbsp;&nbsp;<br>iShares Dev Rl Ett Idx (IE) Instl Acc €&nbsp;&nbsp;&nbsp;</td><td>&nbsp;&nbsp;&nbsp;<br>31.32&nbsp;&nbsp;&nbsp;</td></tr><tr><td>&nbsp;&nbsp;&nbsp;<br>iShares North&nbsp;&nbsp;&nbsp;America Eq Idx (LU) A2 USD&nbsp;&nbsp;&nbsp;</td><td>&nbsp;&nbsp;&nbsp;<br>7.41&nbsp;&nbsp;&nbsp;</td></tr><tr><td>&nbsp;&nbsp;&nbsp;<br>iShares Japan Equity Index (LU) A2 USD&nbsp;&nbsp;&nbsp;</td><td>&nbsp;&nbsp;&nbsp;<br>6.22&nbsp;&nbsp;&nbsp;</td></tr><tr><td>&nbsp;&nbsp;&nbsp;<br>iShares Emerging&nbsp;&nbsp;&nbsp;Mkts Eq Idx (LU) A2 USD&nbsp;&nbsp;&nbsp;</td><td>&nbsp;&nbsp;&nbsp;<br>9.77&nbsp;&nbsp;&nbsp;</td></tr></tbody></table>\n",
    "\n",
    "### **SE PIDE:**\n",
    "\n",
    "Programar un código en Python que devuelva el valor total de todos los fondos, calculado como la suma del valor individual multiplicado por el número de participaciones (en euros):\n",
    "\n",
    "$$\\text{valor total} = \\sum \\text{fondo} \\times \\text{participaciones}$$\n",
    "\n",
    "Para ello, primero debes encontrar webs que contengan el valor actualizado de cada fondo, y realizar scraping con cada una de ellas (se recomienda utilizar la web de morningstar)\n",
    "\n",
    "**PISTA**: Algunos de los fondos están en dólares, por lo que deberás obtener también el valor actualizado del cambio EURO-DOLAR  a través de alguna página web."
   ]
  },
  {
   "cell_type": "code",
   "execution_count": null,
   "metadata": {},
   "outputs": [],
   "source": []
  }
 ],
 "metadata": {
  "kernelspec": {
   "display_name": "Python 3",
   "language": "python",
   "name": "python3"
  },
  "language_info": {
   "codemirror_mode": {
    "name": "ipython",
    "version": 3
   },
   "file_extension": ".py",
   "mimetype": "text/x-python",
   "name": "python",
   "nbconvert_exporter": "python",
   "pygments_lexer": "ipython3",
   "version": "3.7.10"
  }
 },
 "nbformat": 4,
 "nbformat_minor": 2
}
