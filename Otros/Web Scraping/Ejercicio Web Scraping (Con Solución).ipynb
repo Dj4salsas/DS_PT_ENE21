{
 "cells": [
  {
   "cell_type": "markdown",
   "metadata": {},
   "source": [
    "# Ejercicio Web Scraping"
   ]
  },
  {
   "cell_type": "markdown",
   "metadata": {},
   "source": [
    "Imagina que dispones de las siguientes participaciones en estos fondos de inversión:\n",
    "<table><thead><tr><th>Nombre del fondo</th><th>Número de participaciones</th></tr></thead><tbody><tr><td>&nbsp;&nbsp;&nbsp;<br>BGF Euro Short&nbsp;&nbsp;&nbsp;Duration Bond A2 EUR&nbsp;&nbsp;&nbsp;</td><td>&nbsp;&nbsp;&nbsp;<br>22.45&nbsp;&nbsp;&nbsp;</td></tr><tr><td>&nbsp;&nbsp;&nbsp;<br>iShares Euro Govt&nbsp;&nbsp;&nbsp;Bd Idx (LU) A2 EUR&nbsp;&nbsp;&nbsp;</td><td>&nbsp;&nbsp;&nbsp;<br>8.34&nbsp;&nbsp;&nbsp;</td></tr><tr><td>&nbsp;&nbsp;&nbsp;<br>iShares Em Mkts Govt Bd Idx (LU) A2 EURH&nbsp;&nbsp;&nbsp;</td><td>&nbsp;&nbsp;&nbsp;<br>13.22&nbsp;&nbsp;&nbsp;</td></tr><tr><td>&nbsp;&nbsp;&nbsp;<br>iShares Europe&nbsp;&nbsp;&nbsp;Equity Index (LU) A2 EUR&nbsp;&nbsp;&nbsp;</td><td>&nbsp;&nbsp;&nbsp;<br>11.77&nbsp;&nbsp;&nbsp;</td></tr><tr><td>&nbsp;&nbsp;&nbsp;<br>iShares Dev Rl Ett Idx (IE) Instl Acc €&nbsp;&nbsp;&nbsp;</td><td>&nbsp;&nbsp;&nbsp;<br>31.32&nbsp;&nbsp;&nbsp;</td></tr><tr><td>&nbsp;&nbsp;&nbsp;<br>iShares North&nbsp;&nbsp;&nbsp;America Eq Idx (LU) A2 USD&nbsp;&nbsp;&nbsp;</td><td>&nbsp;&nbsp;&nbsp;<br>7.41&nbsp;&nbsp;&nbsp;</td></tr><tr><td>&nbsp;&nbsp;&nbsp;<br>iShares Japan Equity Index (LU) A2 USD&nbsp;&nbsp;&nbsp;</td><td>&nbsp;&nbsp;&nbsp;<br>6.22&nbsp;&nbsp;&nbsp;</td></tr><tr><td>&nbsp;&nbsp;&nbsp;<br>iShares Emerging&nbsp;&nbsp;&nbsp;Mkts Eq Idx (LU) A2 USD&nbsp;&nbsp;&nbsp;</td><td>&nbsp;&nbsp;&nbsp;<br>9.77&nbsp;&nbsp;&nbsp;</td></tr></tbody></table>\n",
    "\n",
    "### **SE PIDE:**\n",
    "\n",
    "Programar un código en Python que devuelva el valor total de todos los fondos, calculado como la suma del valor individual multiplicado por el número de participaciones (en euros):\n",
    "\n",
    "$$\\text{valor total} = \\sum \\text{fondo} \\times \\text{participaciones}$$\n",
    "\n",
    "Para ello, primero debes encontrar webs que contengan el valor actualizado de cada fondo, y realizar scraping con cada una de ellas (se recomienda utilizar la web de morningstar)\n",
    "\n",
    "**PISTA**: Algunos de los fondos están en dólares, por lo que deberás obtener también el valor actualizado del cambio EURO-DOLAR  a través de alguna página web."
   ]
  },
  {
   "cell_type": "code",
   "execution_count": 1,
   "metadata": {},
   "outputs": [],
   "source": [
    "import urllib.request\n",
    "from bs4 import BeautifulSoup"
   ]
  },
  {
   "cell_type": "code",
   "execution_count": 2,
   "metadata": {},
   "outputs": [
    {
     "data": {
      "text/plain": [
       "0.8468"
      ]
     },
     "execution_count": 2,
     "metadata": {},
     "output_type": "execute_result"
    }
   ],
   "source": [
    "# Euro dolar\n",
    "url='https://es.valutafx.com/USD-EUR.htm'\n",
    "html = urllib.request.urlopen(url).read()\n",
    "soup = BeautifulSoup(html)\n",
    "tags = soup.find_all(\"div\", class_=\"rate-value\")\n",
    "USDEUR = float(tags[0].contents[0].replace(',','.'))\n",
    "USDEUR"
   ]
  },
  {
   "cell_type": "code",
   "execution_count": 3,
   "metadata": {},
   "outputs": [
    {
     "data": {
      "text/plain": [
       "403.128"
      ]
     },
     "execution_count": 3,
     "metadata": {},
     "output_type": "execute_result"
    }
   ],
   "source": [
    "#BGF Euro Short Duration Bond A2 EUR\n",
    "part1 = 25.45\n",
    "url='https://www.blackrock.com/es/productos/228419/blackrock-euro-short-duration-bond-a2-eur-fund'\n",
    "html = urllib.request.urlopen(url).read()\n",
    "soup = BeautifulSoup(html)\n",
    "tags = soup.find_all(\"span\", class_=\"header-nav-data\")\n",
    "prec1 = float(tags[0].contents[0].replace(',','.').replace('\\n','').replace('EUR ',''))\n",
    "tot1 = part1 * prec1\n",
    "tot1"
   ]
  },
  {
   "cell_type": "code",
   "execution_count": 5,
   "metadata": {},
   "outputs": [
    {
     "data": {
      "text/plain": [
       "1109.5536"
      ]
     },
     "execution_count": 5,
     "metadata": {},
     "output_type": "execute_result"
    }
   ],
   "source": [
    "# iShares Euro Govt Bd Idx (LU) A2 EUR\n",
    "part2 = 8.34\n",
    "url='http://www.morningstar.es/es/funds/snapshot/snapshot.aspx?id=F00000OYMY'\n",
    "html = urllib.request.urlopen(url).read()\n",
    "soup = BeautifulSoup(html)\n",
    "tags = soup.find_all(\"td\", class_=\"line text\")\n",
    "prec2 = float(tags[0].contents[0].replace(',','.').replace('\\n','').replace('EUR\\xa0',''))\n",
    "tot2 = part2 * prec2\n",
    "tot2"
   ]
  },
  {
   "cell_type": "code",
   "execution_count": 8,
   "metadata": {},
   "outputs": [
    {
     "data": {
      "text/plain": [
       "1478.2604"
      ]
     },
     "execution_count": 8,
     "metadata": {},
     "output_type": "execute_result"
    }
   ],
   "source": [
    "#iShares Em Mkts Govt Bd Idx (LU) A2 EURH\n",
    "part3 = 13.22\n",
    "url='http://www.morningstarfunds.ie/ie/funds/snapshot/snapshot.aspx?id=F00000X4QX'\n",
    "html = urllib.request.urlopen(url).read()\n",
    "soup = BeautifulSoup(html)\n",
    "tags = soup.find_all(\"td\", class_=\"line text\")\n",
    "prec3 = float(tags[0].contents[0].replace(',','.').replace('\\n','').replace('EUR\\xa0',''))\n",
    "tot3 = part3 * prec3\n",
    "tot3"
   ]
  },
  {
   "cell_type": "code",
   "execution_count": 9,
   "metadata": {},
   "outputs": [
    {
     "data": {
      "text/plain": [
       "2190.2793"
      ]
     },
     "execution_count": 9,
     "metadata": {},
     "output_type": "execute_result"
    }
   ],
   "source": [
    "#iShares Europe Equity Index (LU) A2 EUR\n",
    "part4 = 11.77\n",
    "url='https://www.blackrock.com/es/productos/243969/blackrock-europe-equity-index-a2-eur-fund'\n",
    "html = urllib.request.urlopen(url).read()\n",
    "soup = BeautifulSoup(html)\n",
    "tags = soup.find_all(\"span\", class_=\"header-nav-data\")\n",
    "prec4 = float(tags[0].contents[0].replace(',','.').replace('\\n','').replace('EUR ',''))\n",
    "tot4 = part4 * prec4\n",
    "tot4"
   ]
  },
  {
   "cell_type": "code",
   "execution_count": 11,
   "metadata": {},
   "outputs": [
    {
     "data": {
      "text/plain": [
       "511.45559999999995"
      ]
     },
     "execution_count": 11,
     "metadata": {},
     "output_type": "execute_result"
    }
   ],
   "source": [
    "#iShares Dev Rl Ett Idx (IE) Instl Acc €\n",
    "part5 = 31.32\n",
    "url='http://www.morningstarfunds.ie/ie/funds/snapshot/snapshot.aspx?id=F00000PJME'\n",
    "html = urllib.request.urlopen(url).read()\n",
    "soup = BeautifulSoup(html)\n",
    "tags = soup.find_all(\"td\", class_=\"line text\")\n",
    "prec5 = float(tags[0].contents[0].replace(',','.').replace('\\n','').replace('EUR\\xa0',''))\n",
    "tot5 = part5 * prec5\n",
    "tot5"
   ]
  },
  {
   "cell_type": "code",
   "execution_count": 14,
   "metadata": {},
   "outputs": [
    {
     "data": {
      "text/plain": [
       "1826.84177832"
      ]
     },
     "execution_count": 14,
     "metadata": {},
     "output_type": "execute_result"
    }
   ],
   "source": [
    "#iShares North America Eq Idx (LU) A2 USD\n",
    "part6 = 7.41\n",
    "url='http://www.morningstar.es/es/funds/snapshot/snapshot.aspx?id=F00000OYNC'\n",
    "html = urllib.request.urlopen(url).read()\n",
    "soup = BeautifulSoup(html)\n",
    "tags = soup.find_all(\"td\", class_=\"line text\")\n",
    "prec6 = float(tags[0].contents[0].replace(',','.').replace('\\n','').replace('USD\\xa0',''))\n",
    "tot6 = part6 * prec6 * USDEUR\n",
    "tot6"
   ]
  },
  {
   "cell_type": "code",
   "execution_count": 15,
   "metadata": {},
   "outputs": [
    {
     "data": {
      "text/plain": [
       "1062.1625793599999"
      ]
     },
     "execution_count": 15,
     "metadata": {},
     "output_type": "execute_result"
    }
   ],
   "source": [
    "#iShares Japan Equity Index (LU) A2 USD\n",
    "part7 = 6.22\n",
    "url='http://www.morningstar.es/es/funds/snapshot/snapshot.aspx?id=F00000OYN8'\n",
    "html = urllib.request.urlopen(url).read()\n",
    "soup = BeautifulSoup(html)\n",
    "tags = soup.find_all(\"td\", class_=\"line text\")\n",
    "prec7 = float(tags[0].contents[0].replace(',','.').replace('\\n','').replace('USD\\xa0',''))\n",
    "tot7 = part7 * prec7 * USDEUR\n",
    "tot7"
   ]
  },
  {
   "cell_type": "code",
   "execution_count": 16,
   "metadata": {},
   "outputs": [
    {
     "data": {
      "text/plain": [
       "1286.98459216"
      ]
     },
     "execution_count": 16,
     "metadata": {},
     "output_type": "execute_result"
    }
   ],
   "source": [
    "#iShares Emerging Mkts Eq Idx (LU) A2 USD\n",
    "part8 = 9.77\n",
    "url='https://www.blackrock.com/latamiberia/products/244127/blackrock-emerging-markts-equity-index-a2-usd-fund'\n",
    "html = urllib.request.urlopen(url).read()\n",
    "soup = BeautifulSoup(html)\n",
    "tags = soup.find_all(\"span\", class_=\"header-nav-data\")\n",
    "prec8 = float(tags[0].contents[0].replace(',','.').replace('\\n','').replace('USD ',''))\n",
    "tot8 = part8 * prec8 * USDEUR\n",
    "tot8"
   ]
  },
  {
   "cell_type": "code",
   "execution_count": 17,
   "metadata": {},
   "outputs": [
    {
     "data": {
      "text/plain": [
       "9868.66584984"
      ]
     },
     "execution_count": 17,
     "metadata": {},
     "output_type": "execute_result"
    }
   ],
   "source": [
    "Valor = tot1 + tot2 + tot3 + tot4 + tot5 + tot6 + tot7 + tot8\n",
    "Valor"
   ]
  }
 ],
 "metadata": {
  "kernelspec": {
   "display_name": "Python 3",
   "language": "python",
   "name": "python3"
  },
  "language_info": {
   "codemirror_mode": {
    "name": "ipython",
    "version": 3
   },
   "file_extension": ".py",
   "mimetype": "text/x-python",
   "name": "python",
   "nbconvert_exporter": "python",
   "pygments_lexer": "ipython3",
   "version": "3.7.10"
  }
 },
 "nbformat": 4,
 "nbformat_minor": 2
}
