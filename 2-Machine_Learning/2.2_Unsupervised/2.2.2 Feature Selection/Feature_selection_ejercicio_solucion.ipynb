{
 "cells": [
  {
   "cell_type": "markdown",
   "id": "5286103f",
   "metadata": {},
   "source": [
    "# Feature selection - Práctica\n",
    "\n",
    "Al extraer de forma inteligente las features más importantes de nuestros datos e ignorar el ruido, los algoritmos de selección de variables logran dos resultados principales:\n",
    "\n",
    "- Reducción del tiempo de entrenamiento y predicción: al disponer de menos datos, esto generalmente da como resultado un mejor ajuste del modelo y tiempos de predicción, lo que hace que los entrenamientos o transformaciones sean más rápidas en general.\n",
    "\n",
    "- Mejor rendimiento del modelo: al eliminar los datos redundantes, es menos probable que tomemos decisiones basadas en datos ruidosos e irrelevantes, y también permite que nuestros modelos se centren en las características importantes, mejorando así el rendimiento predictivo del pipeline del modelo."
   ]
  },
  {
   "cell_type": "markdown",
   "id": "490e3595",
   "metadata": {},
   "source": [
    "Para obtener una comprensión más realista de cómo y por qué los datos ruidosos se interponen en nuestro camino, vamos a trabajar con un conjunto de datos de fraude en tarjetas de crédito. EL objetivo que perseguían estos datos era el de investigar los incumplimiento de pago de los clientes en Taiwán.\n",
    "\n",
    "Trabajaremos con 23 variables y el target. El target es booleana. La razón por la que estamos trabajando con 23 features es que queremos ver si podemos encontrar cuáles de las 23 variables nos ayudarán en nuestro aprendizaje y cuáles nos perjudicarán.\n",
    "\n",
    "Puedes encontrar el fichero con los datos en la carpeta `data` o en http://archive.ics.uci.edu/ml/datasets/default+of+credit+card+clients\n",
    "\n",
    "Encontrarás en la página web más información que te ayudará a entender los datos de los que disponemos con mayor profundidad. "
   ]
  },
  {
   "cell_type": "markdown",
   "id": "9f2e97a9",
   "metadata": {},
   "source": [
    "### 1. Carga los datos\n",
    "Importa las librerías necesarias y realiza una carga de los datos (*default_of_credit_card_clients.xls*)\n",
    "\n",
    "Fija una semilla en 123 para asegurarnos obtener los mismos números aleatorios y poder comparar."
   ]
  },
  {
   "cell_type": "code",
   "execution_count": 2,
   "id": "ffb3c62b",
   "metadata": {},
   "outputs": [],
   "source": [
    "import numpy as np\n",
    "import pandas as pd\n",
    "np.random.seed(123)\n",
    "\n",
    "credit_card_default = pd.read_excel('data/default_of_credit_card_clients.xls', index_col = [0], skiprows=[0]) "
   ]
  },
  {
   "cell_type": "markdown",
   "id": "79776a86",
   "metadata": {},
   "source": [
    "Sigue adelante con un pequeño EDA."
   ]
  },
  {
   "cell_type": "code",
   "execution_count": 3,
   "id": "889f9754",
   "metadata": {},
   "outputs": [
    {
     "data": {
      "text/plain": [
       "(30000, 24)"
      ]
     },
     "execution_count": 3,
     "metadata": {},
     "output_type": "execute_result"
    }
   ],
   "source": [
    "# Verificamos cómo de grande es nuestro dataset\n",
    "\n",
    "credit_card_default.shape"
   ]
  },
  {
   "cell_type": "code",
   "execution_count": 4,
   "id": "97c4d6db",
   "metadata": {},
   "outputs": [
    {
     "data": {
      "text/html": [
       "<div>\n",
       "<style scoped>\n",
       "    .dataframe tbody tr th:only-of-type {\n",
       "        vertical-align: middle;\n",
       "    }\n",
       "\n",
       "    .dataframe tbody tr th {\n",
       "        vertical-align: top;\n",
       "    }\n",
       "\n",
       "    .dataframe thead th {\n",
       "        text-align: right;\n",
       "    }\n",
       "</style>\n",
       "<table border=\"1\" class=\"dataframe\">\n",
       "  <thead>\n",
       "    <tr style=\"text-align: right;\">\n",
       "      <th></th>\n",
       "      <th>count</th>\n",
       "      <th>mean</th>\n",
       "      <th>std</th>\n",
       "      <th>min</th>\n",
       "      <th>25%</th>\n",
       "      <th>50%</th>\n",
       "      <th>75%</th>\n",
       "      <th>max</th>\n",
       "    </tr>\n",
       "  </thead>\n",
       "  <tbody>\n",
       "    <tr>\n",
       "      <th>LIMIT_BAL</th>\n",
       "      <td>30000.0</td>\n",
       "      <td>167484.322667</td>\n",
       "      <td>129747.661567</td>\n",
       "      <td>10000.0</td>\n",
       "      <td>50000.00</td>\n",
       "      <td>140000.0</td>\n",
       "      <td>240000.00</td>\n",
       "      <td>1000000.0</td>\n",
       "    </tr>\n",
       "    <tr>\n",
       "      <th>SEX</th>\n",
       "      <td>30000.0</td>\n",
       "      <td>1.603733</td>\n",
       "      <td>0.489129</td>\n",
       "      <td>1.0</td>\n",
       "      <td>1.00</td>\n",
       "      <td>2.0</td>\n",
       "      <td>2.00</td>\n",
       "      <td>2.0</td>\n",
       "    </tr>\n",
       "    <tr>\n",
       "      <th>EDUCATION</th>\n",
       "      <td>30000.0</td>\n",
       "      <td>1.853133</td>\n",
       "      <td>0.790349</td>\n",
       "      <td>0.0</td>\n",
       "      <td>1.00</td>\n",
       "      <td>2.0</td>\n",
       "      <td>2.00</td>\n",
       "      <td>6.0</td>\n",
       "    </tr>\n",
       "    <tr>\n",
       "      <th>MARRIAGE</th>\n",
       "      <td>30000.0</td>\n",
       "      <td>1.551867</td>\n",
       "      <td>0.521970</td>\n",
       "      <td>0.0</td>\n",
       "      <td>1.00</td>\n",
       "      <td>2.0</td>\n",
       "      <td>2.00</td>\n",
       "      <td>3.0</td>\n",
       "    </tr>\n",
       "    <tr>\n",
       "      <th>AGE</th>\n",
       "      <td>30000.0</td>\n",
       "      <td>35.485500</td>\n",
       "      <td>9.217904</td>\n",
       "      <td>21.0</td>\n",
       "      <td>28.00</td>\n",
       "      <td>34.0</td>\n",
       "      <td>41.00</td>\n",
       "      <td>79.0</td>\n",
       "    </tr>\n",
       "    <tr>\n",
       "      <th>PAY_0</th>\n",
       "      <td>30000.0</td>\n",
       "      <td>-0.016700</td>\n",
       "      <td>1.123802</td>\n",
       "      <td>-2.0</td>\n",
       "      <td>-1.00</td>\n",
       "      <td>0.0</td>\n",
       "      <td>0.00</td>\n",
       "      <td>8.0</td>\n",
       "    </tr>\n",
       "    <tr>\n",
       "      <th>PAY_2</th>\n",
       "      <td>30000.0</td>\n",
       "      <td>-0.133767</td>\n",
       "      <td>1.197186</td>\n",
       "      <td>-2.0</td>\n",
       "      <td>-1.00</td>\n",
       "      <td>0.0</td>\n",
       "      <td>0.00</td>\n",
       "      <td>8.0</td>\n",
       "    </tr>\n",
       "    <tr>\n",
       "      <th>PAY_3</th>\n",
       "      <td>30000.0</td>\n",
       "      <td>-0.166200</td>\n",
       "      <td>1.196868</td>\n",
       "      <td>-2.0</td>\n",
       "      <td>-1.00</td>\n",
       "      <td>0.0</td>\n",
       "      <td>0.00</td>\n",
       "      <td>8.0</td>\n",
       "    </tr>\n",
       "    <tr>\n",
       "      <th>PAY_4</th>\n",
       "      <td>30000.0</td>\n",
       "      <td>-0.220667</td>\n",
       "      <td>1.169139</td>\n",
       "      <td>-2.0</td>\n",
       "      <td>-1.00</td>\n",
       "      <td>0.0</td>\n",
       "      <td>0.00</td>\n",
       "      <td>8.0</td>\n",
       "    </tr>\n",
       "    <tr>\n",
       "      <th>PAY_5</th>\n",
       "      <td>30000.0</td>\n",
       "      <td>-0.266200</td>\n",
       "      <td>1.133187</td>\n",
       "      <td>-2.0</td>\n",
       "      <td>-1.00</td>\n",
       "      <td>0.0</td>\n",
       "      <td>0.00</td>\n",
       "      <td>8.0</td>\n",
       "    </tr>\n",
       "    <tr>\n",
       "      <th>PAY_6</th>\n",
       "      <td>30000.0</td>\n",
       "      <td>-0.291100</td>\n",
       "      <td>1.149988</td>\n",
       "      <td>-2.0</td>\n",
       "      <td>-1.00</td>\n",
       "      <td>0.0</td>\n",
       "      <td>0.00</td>\n",
       "      <td>8.0</td>\n",
       "    </tr>\n",
       "    <tr>\n",
       "      <th>BILL_AMT1</th>\n",
       "      <td>30000.0</td>\n",
       "      <td>51223.330900</td>\n",
       "      <td>73635.860576</td>\n",
       "      <td>-165580.0</td>\n",
       "      <td>3558.75</td>\n",
       "      <td>22381.5</td>\n",
       "      <td>67091.00</td>\n",
       "      <td>964511.0</td>\n",
       "    </tr>\n",
       "    <tr>\n",
       "      <th>BILL_AMT2</th>\n",
       "      <td>30000.0</td>\n",
       "      <td>49179.075167</td>\n",
       "      <td>71173.768783</td>\n",
       "      <td>-69777.0</td>\n",
       "      <td>2984.75</td>\n",
       "      <td>21200.0</td>\n",
       "      <td>64006.25</td>\n",
       "      <td>983931.0</td>\n",
       "    </tr>\n",
       "    <tr>\n",
       "      <th>BILL_AMT3</th>\n",
       "      <td>30000.0</td>\n",
       "      <td>47013.154800</td>\n",
       "      <td>69349.387427</td>\n",
       "      <td>-157264.0</td>\n",
       "      <td>2666.25</td>\n",
       "      <td>20088.5</td>\n",
       "      <td>60164.75</td>\n",
       "      <td>1664089.0</td>\n",
       "    </tr>\n",
       "    <tr>\n",
       "      <th>BILL_AMT4</th>\n",
       "      <td>30000.0</td>\n",
       "      <td>43262.948967</td>\n",
       "      <td>64332.856134</td>\n",
       "      <td>-170000.0</td>\n",
       "      <td>2326.75</td>\n",
       "      <td>19052.0</td>\n",
       "      <td>54506.00</td>\n",
       "      <td>891586.0</td>\n",
       "    </tr>\n",
       "    <tr>\n",
       "      <th>BILL_AMT5</th>\n",
       "      <td>30000.0</td>\n",
       "      <td>40311.400967</td>\n",
       "      <td>60797.155770</td>\n",
       "      <td>-81334.0</td>\n",
       "      <td>1763.00</td>\n",
       "      <td>18104.5</td>\n",
       "      <td>50190.50</td>\n",
       "      <td>927171.0</td>\n",
       "    </tr>\n",
       "    <tr>\n",
       "      <th>BILL_AMT6</th>\n",
       "      <td>30000.0</td>\n",
       "      <td>38871.760400</td>\n",
       "      <td>59554.107537</td>\n",
       "      <td>-339603.0</td>\n",
       "      <td>1256.00</td>\n",
       "      <td>17071.0</td>\n",
       "      <td>49198.25</td>\n",
       "      <td>961664.0</td>\n",
       "    </tr>\n",
       "    <tr>\n",
       "      <th>PAY_AMT1</th>\n",
       "      <td>30000.0</td>\n",
       "      <td>5663.580500</td>\n",
       "      <td>16563.280354</td>\n",
       "      <td>0.0</td>\n",
       "      <td>1000.00</td>\n",
       "      <td>2100.0</td>\n",
       "      <td>5006.00</td>\n",
       "      <td>873552.0</td>\n",
       "    </tr>\n",
       "    <tr>\n",
       "      <th>PAY_AMT2</th>\n",
       "      <td>30000.0</td>\n",
       "      <td>5921.163500</td>\n",
       "      <td>23040.870402</td>\n",
       "      <td>0.0</td>\n",
       "      <td>833.00</td>\n",
       "      <td>2009.0</td>\n",
       "      <td>5000.00</td>\n",
       "      <td>1684259.0</td>\n",
       "    </tr>\n",
       "    <tr>\n",
       "      <th>PAY_AMT3</th>\n",
       "      <td>30000.0</td>\n",
       "      <td>5225.681500</td>\n",
       "      <td>17606.961470</td>\n",
       "      <td>0.0</td>\n",
       "      <td>390.00</td>\n",
       "      <td>1800.0</td>\n",
       "      <td>4505.00</td>\n",
       "      <td>896040.0</td>\n",
       "    </tr>\n",
       "    <tr>\n",
       "      <th>PAY_AMT4</th>\n",
       "      <td>30000.0</td>\n",
       "      <td>4826.076867</td>\n",
       "      <td>15666.159744</td>\n",
       "      <td>0.0</td>\n",
       "      <td>296.00</td>\n",
       "      <td>1500.0</td>\n",
       "      <td>4013.25</td>\n",
       "      <td>621000.0</td>\n",
       "    </tr>\n",
       "    <tr>\n",
       "      <th>PAY_AMT5</th>\n",
       "      <td>30000.0</td>\n",
       "      <td>4799.387633</td>\n",
       "      <td>15278.305679</td>\n",
       "      <td>0.0</td>\n",
       "      <td>252.50</td>\n",
       "      <td>1500.0</td>\n",
       "      <td>4031.50</td>\n",
       "      <td>426529.0</td>\n",
       "    </tr>\n",
       "    <tr>\n",
       "      <th>PAY_AMT6</th>\n",
       "      <td>30000.0</td>\n",
       "      <td>5215.502567</td>\n",
       "      <td>17777.465775</td>\n",
       "      <td>0.0</td>\n",
       "      <td>117.75</td>\n",
       "      <td>1500.0</td>\n",
       "      <td>4000.00</td>\n",
       "      <td>528666.0</td>\n",
       "    </tr>\n",
       "    <tr>\n",
       "      <th>default payment next month</th>\n",
       "      <td>30000.0</td>\n",
       "      <td>0.221200</td>\n",
       "      <td>0.415062</td>\n",
       "      <td>0.0</td>\n",
       "      <td>0.00</td>\n",
       "      <td>0.0</td>\n",
       "      <td>0.00</td>\n",
       "      <td>1.0</td>\n",
       "    </tr>\n",
       "  </tbody>\n",
       "</table>\n",
       "</div>"
      ],
      "text/plain": [
       "                              count           mean            std       min  \\\n",
       "LIMIT_BAL                   30000.0  167484.322667  129747.661567   10000.0   \n",
       "SEX                         30000.0       1.603733       0.489129       1.0   \n",
       "EDUCATION                   30000.0       1.853133       0.790349       0.0   \n",
       "MARRIAGE                    30000.0       1.551867       0.521970       0.0   \n",
       "AGE                         30000.0      35.485500       9.217904      21.0   \n",
       "PAY_0                       30000.0      -0.016700       1.123802      -2.0   \n",
       "PAY_2                       30000.0      -0.133767       1.197186      -2.0   \n",
       "PAY_3                       30000.0      -0.166200       1.196868      -2.0   \n",
       "PAY_4                       30000.0      -0.220667       1.169139      -2.0   \n",
       "PAY_5                       30000.0      -0.266200       1.133187      -2.0   \n",
       "PAY_6                       30000.0      -0.291100       1.149988      -2.0   \n",
       "BILL_AMT1                   30000.0   51223.330900   73635.860576 -165580.0   \n",
       "BILL_AMT2                   30000.0   49179.075167   71173.768783  -69777.0   \n",
       "BILL_AMT3                   30000.0   47013.154800   69349.387427 -157264.0   \n",
       "BILL_AMT4                   30000.0   43262.948967   64332.856134 -170000.0   \n",
       "BILL_AMT5                   30000.0   40311.400967   60797.155770  -81334.0   \n",
       "BILL_AMT6                   30000.0   38871.760400   59554.107537 -339603.0   \n",
       "PAY_AMT1                    30000.0    5663.580500   16563.280354       0.0   \n",
       "PAY_AMT2                    30000.0    5921.163500   23040.870402       0.0   \n",
       "PAY_AMT3                    30000.0    5225.681500   17606.961470       0.0   \n",
       "PAY_AMT4                    30000.0    4826.076867   15666.159744       0.0   \n",
       "PAY_AMT5                    30000.0    4799.387633   15278.305679       0.0   \n",
       "PAY_AMT6                    30000.0    5215.502567   17777.465775       0.0   \n",
       "default payment next month  30000.0       0.221200       0.415062       0.0   \n",
       "\n",
       "                                 25%       50%        75%        max  \n",
       "LIMIT_BAL                   50000.00  140000.0  240000.00  1000000.0  \n",
       "SEX                             1.00       2.0       2.00        2.0  \n",
       "EDUCATION                       1.00       2.0       2.00        6.0  \n",
       "MARRIAGE                        1.00       2.0       2.00        3.0  \n",
       "AGE                            28.00      34.0      41.00       79.0  \n",
       "PAY_0                          -1.00       0.0       0.00        8.0  \n",
       "PAY_2                          -1.00       0.0       0.00        8.0  \n",
       "PAY_3                          -1.00       0.0       0.00        8.0  \n",
       "PAY_4                          -1.00       0.0       0.00        8.0  \n",
       "PAY_5                          -1.00       0.0       0.00        8.0  \n",
       "PAY_6                          -1.00       0.0       0.00        8.0  \n",
       "BILL_AMT1                    3558.75   22381.5   67091.00   964511.0  \n",
       "BILL_AMT2                    2984.75   21200.0   64006.25   983931.0  \n",
       "BILL_AMT3                    2666.25   20088.5   60164.75  1664089.0  \n",
       "BILL_AMT4                    2326.75   19052.0   54506.00   891586.0  \n",
       "BILL_AMT5                    1763.00   18104.5   50190.50   927171.0  \n",
       "BILL_AMT6                    1256.00   17071.0   49198.25   961664.0  \n",
       "PAY_AMT1                     1000.00    2100.0    5006.00   873552.0  \n",
       "PAY_AMT2                      833.00    2009.0    5000.00  1684259.0  \n",
       "PAY_AMT3                      390.00    1800.0    4505.00   896040.0  \n",
       "PAY_AMT4                      296.00    1500.0    4013.25   621000.0  \n",
       "PAY_AMT5                      252.50    1500.0    4031.50   426529.0  \n",
       "PAY_AMT6                      117.75    1500.0    4000.00   528666.0  \n",
       "default payment next month      0.00       0.0       0.00        1.0  "
      ]
     },
     "execution_count": 4,
     "metadata": {},
     "output_type": "execute_result"
    }
   ],
   "source": [
    "# Breve descripción estadística\n",
    "\n",
    "credit_card_default.describe().T"
   ]
  },
  {
   "cell_type": "code",
   "execution_count": 5,
   "id": "4dbf88a1",
   "metadata": {
    "scrolled": false
   },
   "outputs": [
    {
     "data": {
      "text/plain": [
       "LIMIT_BAL                     0\n",
       "SEX                           0\n",
       "EDUCATION                     0\n",
       "MARRIAGE                      0\n",
       "AGE                           0\n",
       "PAY_0                         0\n",
       "PAY_2                         0\n",
       "PAY_3                         0\n",
       "PAY_4                         0\n",
       "PAY_5                         0\n",
       "PAY_6                         0\n",
       "BILL_AMT1                     0\n",
       "BILL_AMT2                     0\n",
       "BILL_AMT3                     0\n",
       "BILL_AMT4                     0\n",
       "BILL_AMT5                     0\n",
       "BILL_AMT6                     0\n",
       "PAY_AMT1                      0\n",
       "PAY_AMT2                      0\n",
       "PAY_AMT3                      0\n",
       "PAY_AMT4                      0\n",
       "PAY_AMT5                      0\n",
       "PAY_AMT6                      0\n",
       "default payment next month    0\n",
       "dtype: int64"
      ]
     },
     "execution_count": 5,
     "metadata": {},
     "output_type": "execute_result"
    }
   ],
   "source": [
    "# comprobamos missing values, afortunadamente no tenemos.\n",
    "credit_card_default.isnull().sum()"
   ]
  },
  {
   "cell_type": "code",
   "execution_count": 6,
   "id": "0aad3234",
   "metadata": {},
   "outputs": [
    {
     "name": "stdout",
     "output_type": "stream",
     "text": [
      "<class 'pandas.core.frame.DataFrame'>\n",
      "Int64Index: 30000 entries, 1 to 30000\n",
      "Data columns (total 24 columns):\n",
      " #   Column                      Non-Null Count  Dtype\n",
      "---  ------                      --------------  -----\n",
      " 0   LIMIT_BAL                   30000 non-null  int64\n",
      " 1   SEX                         30000 non-null  int64\n",
      " 2   EDUCATION                   30000 non-null  int64\n",
      " 3   MARRIAGE                    30000 non-null  int64\n",
      " 4   AGE                         30000 non-null  int64\n",
      " 5   PAY_0                       30000 non-null  int64\n",
      " 6   PAY_2                       30000 non-null  int64\n",
      " 7   PAY_3                       30000 non-null  int64\n",
      " 8   PAY_4                       30000 non-null  int64\n",
      " 9   PAY_5                       30000 non-null  int64\n",
      " 10  PAY_6                       30000 non-null  int64\n",
      " 11  BILL_AMT1                   30000 non-null  int64\n",
      " 12  BILL_AMT2                   30000 non-null  int64\n",
      " 13  BILL_AMT3                   30000 non-null  int64\n",
      " 14  BILL_AMT4                   30000 non-null  int64\n",
      " 15  BILL_AMT5                   30000 non-null  int64\n",
      " 16  BILL_AMT6                   30000 non-null  int64\n",
      " 17  PAY_AMT1                    30000 non-null  int64\n",
      " 18  PAY_AMT2                    30000 non-null  int64\n",
      " 19  PAY_AMT3                    30000 non-null  int64\n",
      " 20  PAY_AMT4                    30000 non-null  int64\n",
      " 21  PAY_AMT5                    30000 non-null  int64\n",
      " 22  PAY_AMT6                    30000 non-null  int64\n",
      " 23  default payment next month  30000 non-null  int64\n",
      "dtypes: int64(24)\n",
      "memory usage: 5.7 MB\n"
     ]
    }
   ],
   "source": [
    "credit_card_default.info()"
   ]
  },
  {
   "cell_type": "markdown",
   "id": "33c9e333",
   "metadata": {},
   "source": [
    "A continuación, realiza el preprocesado que consideres necesario. Puedes empezar a buscar las métricas de las que te vas a ayudar para preparar tu clasificador. "
   ]
  },
  {
   "cell_type": "code",
   "execution_count": 26,
   "id": "30c0e2da",
   "metadata": {},
   "outputs": [
    {
     "data": {
      "text/html": [
       "<div>\n",
       "<style scoped>\n",
       "    .dataframe tbody tr th:only-of-type {\n",
       "        vertical-align: middle;\n",
       "    }\n",
       "\n",
       "    .dataframe tbody tr th {\n",
       "        vertical-align: top;\n",
       "    }\n",
       "\n",
       "    .dataframe thead th {\n",
       "        text-align: right;\n",
       "    }\n",
       "</style>\n",
       "<table border=\"1\" class=\"dataframe\">\n",
       "  <thead>\n",
       "    <tr style=\"text-align: right;\">\n",
       "      <th></th>\n",
       "      <th>LIMIT_BAL</th>\n",
       "      <th>SEX</th>\n",
       "      <th>EDUCATION</th>\n",
       "      <th>MARRIAGE</th>\n",
       "      <th>AGE</th>\n",
       "      <th>PAY_0</th>\n",
       "      <th>PAY_2</th>\n",
       "      <th>PAY_3</th>\n",
       "      <th>PAY_4</th>\n",
       "      <th>PAY_5</th>\n",
       "      <th>...</th>\n",
       "      <th>BILL_AMT4</th>\n",
       "      <th>BILL_AMT5</th>\n",
       "      <th>BILL_AMT6</th>\n",
       "      <th>PAY_AMT1</th>\n",
       "      <th>PAY_AMT2</th>\n",
       "      <th>PAY_AMT3</th>\n",
       "      <th>PAY_AMT4</th>\n",
       "      <th>PAY_AMT5</th>\n",
       "      <th>PAY_AMT6</th>\n",
       "      <th>default payment next month</th>\n",
       "    </tr>\n",
       "  </thead>\n",
       "  <tbody>\n",
       "    <tr>\n",
       "      <th>0</th>\n",
       "      <td>0.010101</td>\n",
       "      <td>1.0</td>\n",
       "      <td>0.333333</td>\n",
       "      <td>0.333333</td>\n",
       "      <td>0.051724</td>\n",
       "      <td>0.4</td>\n",
       "      <td>0.4</td>\n",
       "      <td>0.1</td>\n",
       "      <td>0.1</td>\n",
       "      <td>0.0</td>\n",
       "      <td>...</td>\n",
       "      <td>0.160138</td>\n",
       "      <td>0.080648</td>\n",
       "      <td>0.260979</td>\n",
       "      <td>0.000000</td>\n",
       "      <td>0.000409</td>\n",
       "      <td>0.000000</td>\n",
       "      <td>0.000000</td>\n",
       "      <td>0.000000</td>\n",
       "      <td>0.000000</td>\n",
       "      <td>1.0</td>\n",
       "    </tr>\n",
       "    <tr>\n",
       "      <th>1</th>\n",
       "      <td>0.111111</td>\n",
       "      <td>1.0</td>\n",
       "      <td>0.333333</td>\n",
       "      <td>0.666667</td>\n",
       "      <td>0.086207</td>\n",
       "      <td>0.1</td>\n",
       "      <td>0.4</td>\n",
       "      <td>0.2</td>\n",
       "      <td>0.2</td>\n",
       "      <td>0.2</td>\n",
       "      <td>...</td>\n",
       "      <td>0.163220</td>\n",
       "      <td>0.084074</td>\n",
       "      <td>0.263485</td>\n",
       "      <td>0.000000</td>\n",
       "      <td>0.000594</td>\n",
       "      <td>0.001116</td>\n",
       "      <td>0.001610</td>\n",
       "      <td>0.000000</td>\n",
       "      <td>0.003783</td>\n",
       "      <td>1.0</td>\n",
       "    </tr>\n",
       "    <tr>\n",
       "      <th>2</th>\n",
       "      <td>0.080808</td>\n",
       "      <td>1.0</td>\n",
       "      <td>0.333333</td>\n",
       "      <td>0.666667</td>\n",
       "      <td>0.224138</td>\n",
       "      <td>0.2</td>\n",
       "      <td>0.2</td>\n",
       "      <td>0.2</td>\n",
       "      <td>0.2</td>\n",
       "      <td>0.2</td>\n",
       "      <td>...</td>\n",
       "      <td>0.173637</td>\n",
       "      <td>0.095470</td>\n",
       "      <td>0.272928</td>\n",
       "      <td>0.001738</td>\n",
       "      <td>0.000891</td>\n",
       "      <td>0.001116</td>\n",
       "      <td>0.001610</td>\n",
       "      <td>0.002345</td>\n",
       "      <td>0.009458</td>\n",
       "      <td>0.0</td>\n",
       "    </tr>\n",
       "    <tr>\n",
       "      <th>3</th>\n",
       "      <td>0.040404</td>\n",
       "      <td>1.0</td>\n",
       "      <td>0.333333</td>\n",
       "      <td>0.333333</td>\n",
       "      <td>0.275862</td>\n",
       "      <td>0.2</td>\n",
       "      <td>0.2</td>\n",
       "      <td>0.2</td>\n",
       "      <td>0.2</td>\n",
       "      <td>0.2</td>\n",
       "      <td>...</td>\n",
       "      <td>0.186809</td>\n",
       "      <td>0.109363</td>\n",
       "      <td>0.283685</td>\n",
       "      <td>0.002290</td>\n",
       "      <td>0.001199</td>\n",
       "      <td>0.001339</td>\n",
       "      <td>0.001771</td>\n",
       "      <td>0.002506</td>\n",
       "      <td>0.001892</td>\n",
       "      <td>0.0</td>\n",
       "    </tr>\n",
       "    <tr>\n",
       "      <th>4</th>\n",
       "      <td>0.040404</td>\n",
       "      <td>0.0</td>\n",
       "      <td>0.333333</td>\n",
       "      <td>0.333333</td>\n",
       "      <td>0.620690</td>\n",
       "      <td>0.1</td>\n",
       "      <td>0.2</td>\n",
       "      <td>0.1</td>\n",
       "      <td>0.2</td>\n",
       "      <td>0.2</td>\n",
       "      <td>...</td>\n",
       "      <td>0.179863</td>\n",
       "      <td>0.099633</td>\n",
       "      <td>0.275681</td>\n",
       "      <td>0.002290</td>\n",
       "      <td>0.021779</td>\n",
       "      <td>0.011160</td>\n",
       "      <td>0.014493</td>\n",
       "      <td>0.001615</td>\n",
       "      <td>0.001284</td>\n",
       "      <td>0.0</td>\n",
       "    </tr>\n",
       "  </tbody>\n",
       "</table>\n",
       "<p>5 rows × 24 columns</p>\n",
       "</div>"
      ],
      "text/plain": [
       "   LIMIT_BAL  SEX  EDUCATION  MARRIAGE       AGE  PAY_0  PAY_2  PAY_3  PAY_4  \\\n",
       "0   0.010101  1.0   0.333333  0.333333  0.051724    0.4    0.4    0.1    0.1   \n",
       "1   0.111111  1.0   0.333333  0.666667  0.086207    0.1    0.4    0.2    0.2   \n",
       "2   0.080808  1.0   0.333333  0.666667  0.224138    0.2    0.2    0.2    0.2   \n",
       "3   0.040404  1.0   0.333333  0.333333  0.275862    0.2    0.2    0.2    0.2   \n",
       "4   0.040404  0.0   0.333333  0.333333  0.620690    0.1    0.2    0.1    0.2   \n",
       "\n",
       "   PAY_5  ...  BILL_AMT4  BILL_AMT5  BILL_AMT6  PAY_AMT1  PAY_AMT2  PAY_AMT3  \\\n",
       "0    0.0  ...   0.160138   0.080648   0.260979  0.000000  0.000409  0.000000   \n",
       "1    0.2  ...   0.163220   0.084074   0.263485  0.000000  0.000594  0.001116   \n",
       "2    0.2  ...   0.173637   0.095470   0.272928  0.001738  0.000891  0.001116   \n",
       "3    0.2  ...   0.186809   0.109363   0.283685  0.002290  0.001199  0.001339   \n",
       "4    0.2  ...   0.179863   0.099633   0.275681  0.002290  0.021779  0.011160   \n",
       "\n",
       "   PAY_AMT4  PAY_AMT5  PAY_AMT6  default payment next month  \n",
       "0  0.000000  0.000000  0.000000                         1.0  \n",
       "1  0.001610  0.000000  0.003783                         1.0  \n",
       "2  0.001610  0.002345  0.009458                         0.0  \n",
       "3  0.001771  0.002506  0.001892                         0.0  \n",
       "4  0.014493  0.001615  0.001284                         0.0  \n",
       "\n",
       "[5 rows x 24 columns]"
      ]
     },
     "execution_count": 26,
     "metadata": {},
     "output_type": "execute_result"
    }
   ],
   "source": [
    "# Vamos a escalar los datos\n",
    "\n",
    "from sklearn.preprocessing import MinMaxScaler\n",
    "\n",
    "mms = MinMaxScaler()\n",
    "escaladas = mms.fit_transform(credit_card_default)\n",
    "df_escalado = pd.DataFrame(escaladas, columns = credit_card_default.columns)\n",
    "\n",
    "\n",
    "df_escalado.head()"
   ]
  },
  {
   "cell_type": "code",
   "execution_count": 27,
   "id": "1ab4dc7b",
   "metadata": {},
   "outputs": [
    {
     "data": {
      "image/png": "[encoded data removed]",
      "text/plain": [
       "<Figure size 432x288 with 1 Axes>"
      ]
     },
     "metadata": {
      "needs_background": "light"
     },
     "output_type": "display_data"
    }
   ],
   "source": [
    "import matplotlib.pyplot as plt\n",
    "\n",
    "plt.hist(df_escalado['default payment next month']);"
   ]
  },
  {
   "cell_type": "markdown",
   "id": "ee09d54f",
   "metadata": {},
   "source": [
    "Los datos están muy desbalanceados."
   ]
  },
  {
   "cell_type": "markdown",
   "id": "0646788f",
   "metadata": {},
   "source": [
    "Obtén la X y la Y, así como tu set de train y test. Deja para el test un 20% de los datos."
   ]
  },
  {
   "cell_type": "code",
   "execution_count": 71,
   "id": "82ce2794",
   "metadata": {},
   "outputs": [
    {
     "name": "stdout",
     "output_type": "stream",
     "text": [
      "X antes de SMOTE: (30000, 23)\n",
      "X después de SMOTE: (46728, 23)\n",
      "\n",
      "Balance de las clases fraude vs no fraude (%):\n",
      "\n",
      "Vemos que SMOTE nos añade la diferencia que teníamos entre nuestras clases\n",
      " 16728\n"
     ]
    }
   ],
   "source": [
    "from collections import Counter\n",
    "from imblearn.over_sampling import SMOTE\n",
    "from sklearn.model_selection import train_test_split\n",
    "\n",
    "# Generamos nuestra matriz de variables\n",
    "X = df_escalado.drop('default payment next month', axis=1)\n",
    "\n",
    "# generamos el target\n",
    "y = df_escalado['default payment next month']\n",
    "\n",
    "#Balancear las clases\n",
    "\n",
    "smote = SMOTE(random_state=42)\n",
    "\n",
    "X_sm, y_sm = smote.fit_resample(X, y)\n",
    "\n",
    "print(f'''X antes de SMOTE: {X.shape}\n",
    "X después de SMOTE: {X_sm.shape}''')\n",
    "\n",
    "print('\\nBalance de las clases fraude vs no fraude (%):')\n",
    "y_sm.value_counts(normalize=True) * 100\n",
    "\n",
    "print(f'\\nVemos que SMOTE nos añade la diferencia que teníamos entre nuestras clases\\n', # por defecto\n",
    "     y.value_counts()[0] - y.value_counts()[1])"
   ]
  },
  {
   "cell_type": "code",
   "execution_count": 72,
   "id": "84577b09",
   "metadata": {},
   "outputs": [
    {
     "name": "stdout",
     "output_type": "stream",
     "text": [
      "Clases en train:\n",
      " 0.0    50.024076\n",
      "1.0    49.975924\n",
      "Name: default payment next month, dtype: float64\n",
      "Clases en test:\n",
      " 1.0    50.096298\n",
      "0.0    49.903702\n",
      "Name: default payment next month, dtype: float64\n"
     ]
    }
   ],
   "source": [
    "# dividimos en train y test\n",
    "\n",
    "X_train, X_test, y_train, y_test = train_test_split(\n",
    "    X_sm, y_sm, test_size=0.20, random_state=42\n",
    ")\n",
    "\n",
    "# Comprobamos el rebalanceo de las clases\n",
    "print('Clases en train:\\n', y_train.value_counts(normalize=True) * 100)\n",
    "print('Clases en test:\\n',y_test.value_counts(normalize=True) * 100)"
   ]
  },
  {
   "cell_type": "markdown",
   "id": "dfcfd5ff",
   "metadata": {},
   "source": [
    "Encuentra el mejor modelo para nuestro problema y después trabajaremos para mejorar ese modelo con la selección de variables. Realiza una comparación con los cuatro propuestos y después haremos la misma prueba habiendo aplicado las diversas técnicas que hemos visto de feature selection. Puedes empezar a buscar las métricas de las que te vas a ayudar para preparar tu clasificador.\n",
    "\n",
    "- Regresión logística\n",
    "- KNN\n",
    "- Árbol de decisión\n",
    "- Random forest"
   ]
  },
  {
   "cell_type": "code",
   "execution_count": 73,
   "id": "8fba2ed5",
   "metadata": {},
   "outputs": [],
   "source": [
    "# Importamos los 4 modelos\n",
    "from sklearn.linear_model import LogisticRegression\n",
    "from sklearn.neighbors import KNeighborsClassifier\n",
    "from sklearn.tree import DecisionTreeClassifier\n",
    "from sklearn.ensemble import RandomForestClassifier\n",
    "from sklearn.model_selection import GridSearchCV"
   ]
  },
  {
   "cell_type": "markdown",
   "id": "ead95ae1",
   "metadata": {},
   "source": [
    "#### Lo meto en un grid search para poder tener el tiempo de entrenamiento, ya que decission tree no nos da esa opción."
   ]
  },
  {
   "cell_type": "code",
   "execution_count": 74,
   "id": "72757bda",
   "metadata": {},
   "outputs": [
    {
     "name": "stdout",
     "output_type": "stream",
     "text": [
      "Average Time to Fit (s): 0.12\n",
      "Average Time to Score (s): 0.003\n"
     ]
    }
   ],
   "source": [
    "def get_best_model_and_accuracy(model, params, X, y):\n",
    "    grid = GridSearchCV(model, # modelo para el grid search\n",
    "                        params)\n",
    "    \n",
    "    grid.fit(X, y) \n",
    "    \n",
    "    # Tiempo medio del modelo en entrenar en segundos\n",
    "    print(\"Average Time to Fit (s): {}\".format(round(grid.cv_results_['mean_fit_time'].mean(), 3)))\n",
    "    \n",
    "    # Tiempo medio del modelo en hacer la predicción en segundos\n",
    "    \n",
    "    print(\"Average Time to Score (s): {}\".format(round(grid.cv_results_['mean_score_time'].mean(), 3)))\n",
    "    \n",
    "    return grid\n",
    "\n",
    "tree_params = {'max_depth':[3]}\n",
    "\n",
    "grid = get_best_model_and_accuracy(DecisionTreeClassifier(), tree_params, X_train, y_train)"
   ]
  },
  {
   "cell_type": "markdown",
   "id": "dde4d16f",
   "metadata": {},
   "source": [
    "#### Generamos las predicciones"
   ]
  },
  {
   "cell_type": "code",
   "execution_count": 75,
   "id": "01a964ad",
   "metadata": {},
   "outputs": [
    {
     "data": {
      "text/plain": [
       "0.6933447464155789"
      ]
     },
     "execution_count": 75,
     "metadata": {},
     "output_type": "execute_result"
    }
   ],
   "source": [
    "from sklearn.metrics import accuracy_score\n",
    "from sklearn.metrics import confusion_matrix\n",
    "from sklearn.metrics import plot_confusion_matrix\n",
    "\n",
    "y_pred = grid.predict(X_test)\n",
    "\n",
    "accuracy_score(y_test, y_pred)"
   ]
  },
  {
   "cell_type": "code",
   "execution_count": 76,
   "id": "257d6fa4",
   "metadata": {},
   "outputs": [
    {
     "name": "stdout",
     "output_type": "stream",
     "text": [
      "              precision    recall  f1-score   support\n",
      "\n",
      "         0.0       0.65      0.85      0.74      4664\n",
      "         1.0       0.79      0.53      0.64      4682\n",
      "\n",
      "    accuracy                           0.69      9346\n",
      "   macro avg       0.72      0.69      0.69      9346\n",
      "weighted avg       0.72      0.69      0.69      9346\n",
      "\n"
     ]
    }
   ],
   "source": [
    "from sklearn.metrics import classification_report\n",
    "print(classification_report(y_test, y_pred))"
   ]
  },
  {
   "cell_type": "code",
   "execution_count": 77,
   "id": "188ec58b",
   "metadata": {},
   "outputs": [
    {
     "name": "stdout",
     "output_type": "stream",
     "text": [
      "Decision Tree AUC for Imbalanced Dataset :  0.6936547802137011\n"
     ]
    }
   ],
   "source": [
    "# Observamos la curva roc y área bajo la curva\n",
    "\n",
    "from sklearn.metrics import roc_curve\n",
    "from sklearn.metrics import roc_auc_score\n",
    "\n",
    "dectree_auc = roc_auc_score(y_test, y_pred)\n",
    "print(\"Decision Tree AUC for Imbalanced Dataset : \",dectree_auc)"
   ]
  },
  {
   "cell_type": "markdown",
   "id": "6de12c9f",
   "metadata": {},
   "source": [
    "##### Pintamos la matriz de confusión"
   ]
  },
  {
   "cell_type": "code",
   "execution_count": 78,
   "id": "d694b0ff",
   "metadata": {},
   "outputs": [
    {
     "name": "stdout",
     "output_type": "stream",
     "text": [
      "Confusion matrix, without normalization\n",
      "[[3986  678]\n",
      " [2188 2494]]\n",
      "Normalized confusion matrix\n",
      "[[0.85463122 0.14536878]\n",
      " [0.46732166 0.53267834]]\n"
     ]
    },
    {
     "data": {
      "image/png": "[encoded data removed]",
      "text/plain": [
       "<Figure size 432x288 with 2 Axes>"
      ]
     },
     "metadata": {},
     "output_type": "display_data"
    },
    {
     "data": {
      "image/png": "[encoded data removed]",
      "text/plain": [
       "<Figure size 432x288 with 2 Axes>"
      ]
     },
     "metadata": {},
     "output_type": "display_data"
    }
   ],
   "source": [
    "titles_options = [(\"Confusion matrix, without normalization\", None),\n",
    "                  (\"Normalized confusion matrix\", 'true')]\n",
    "\n",
    "for title, normalize in titles_options:\n",
    "    disp = plot_confusion_matrix(grid, X_test, y_test,\n",
    "                                 display_labels=['0', '1'],\n",
    "                                 cmap=plt.cm.Blues,\n",
    "                                 normalize=normalize)\n",
    "    disp.ax_.set_title(title)\n",
    "\n",
    "    print(title)\n",
    "    print(disp.confusion_matrix)\n",
    "\n",
    "plt.show()"
   ]
  },
  {
   "cell_type": "markdown",
   "id": "a0f04c4c",
   "metadata": {},
   "source": [
    "### Haz uso de la correlación de Pearson para seleccionar variables:"
   ]
  },
  {
   "cell_type": "code",
   "execution_count": 79,
   "id": "3bcc795a",
   "metadata": {},
   "outputs": [
    {
     "data": {
      "text/html": [
       "<div>\n",
       "<style scoped>\n",
       "    .dataframe tbody tr th:only-of-type {\n",
       "        vertical-align: middle;\n",
       "    }\n",
       "\n",
       "    .dataframe tbody tr th {\n",
       "        vertical-align: top;\n",
       "    }\n",
       "\n",
       "    .dataframe thead th {\n",
       "        text-align: right;\n",
       "    }\n",
       "</style>\n",
       "<table border=\"1\" class=\"dataframe\">\n",
       "  <thead>\n",
       "    <tr style=\"text-align: right;\">\n",
       "      <th></th>\n",
       "      <th>LIMIT_BAL</th>\n",
       "      <th>SEX</th>\n",
       "      <th>EDUCATION</th>\n",
       "      <th>MARRIAGE</th>\n",
       "      <th>AGE</th>\n",
       "      <th>PAY_0</th>\n",
       "      <th>PAY_2</th>\n",
       "      <th>PAY_3</th>\n",
       "      <th>PAY_4</th>\n",
       "      <th>PAY_5</th>\n",
       "      <th>...</th>\n",
       "      <th>BILL_AMT4</th>\n",
       "      <th>BILL_AMT5</th>\n",
       "      <th>BILL_AMT6</th>\n",
       "      <th>PAY_AMT1</th>\n",
       "      <th>PAY_AMT2</th>\n",
       "      <th>PAY_AMT3</th>\n",
       "      <th>PAY_AMT4</th>\n",
       "      <th>PAY_AMT5</th>\n",
       "      <th>PAY_AMT6</th>\n",
       "      <th>default payment next month</th>\n",
       "    </tr>\n",
       "  </thead>\n",
       "  <tbody>\n",
       "    <tr>\n",
       "      <th>45038</th>\n",
       "      <td>0.104337</td>\n",
       "      <td>1.0</td>\n",
       "      <td>0.394511</td>\n",
       "      <td>0.666667</td>\n",
       "      <td>0.277607</td>\n",
       "      <td>0.336707</td>\n",
       "      <td>0.4</td>\n",
       "      <td>0.2</td>\n",
       "      <td>0.2</td>\n",
       "      <td>0.4</td>\n",
       "      <td>...</td>\n",
       "      <td>0.211484</td>\n",
       "      <td>0.128814</td>\n",
       "      <td>0.295384</td>\n",
       "      <td>0.000000</td>\n",
       "      <td>0.001406</td>\n",
       "      <td>0.005217</td>\n",
       "      <td>0.000000</td>\n",
       "      <td>0.003768</td>\n",
       "      <td>0.002677</td>\n",
       "      <td>1.0</td>\n",
       "    </tr>\n",
       "    <tr>\n",
       "      <th>14976</th>\n",
       "      <td>0.020202</td>\n",
       "      <td>1.0</td>\n",
       "      <td>0.500000</td>\n",
       "      <td>0.333333</td>\n",
       "      <td>0.637931</td>\n",
       "      <td>0.400000</td>\n",
       "      <td>0.4</td>\n",
       "      <td>0.4</td>\n",
       "      <td>0.4</td>\n",
       "      <td>0.4</td>\n",
       "      <td>...</td>\n",
       "      <td>0.185720</td>\n",
       "      <td>0.109641</td>\n",
       "      <td>0.283873</td>\n",
       "      <td>0.002061</td>\n",
       "      <td>0.000594</td>\n",
       "      <td>0.000000</td>\n",
       "      <td>0.004055</td>\n",
       "      <td>0.002778</td>\n",
       "      <td>0.002270</td>\n",
       "      <td>1.0</td>\n",
       "    </tr>\n",
       "    <tr>\n",
       "      <th>14304</th>\n",
       "      <td>0.050505</td>\n",
       "      <td>0.0</td>\n",
       "      <td>0.333333</td>\n",
       "      <td>0.333333</td>\n",
       "      <td>0.344828</td>\n",
       "      <td>0.200000</td>\n",
       "      <td>0.2</td>\n",
       "      <td>0.2</td>\n",
       "      <td>0.2</td>\n",
       "      <td>0.2</td>\n",
       "      <td>...</td>\n",
       "      <td>0.176096</td>\n",
       "      <td>0.093885</td>\n",
       "      <td>0.272372</td>\n",
       "      <td>0.005724</td>\n",
       "      <td>0.002809</td>\n",
       "      <td>0.002232</td>\n",
       "      <td>0.016103</td>\n",
       "      <td>0.007034</td>\n",
       "      <td>0.009458</td>\n",
       "      <td>0.0</td>\n",
       "    </tr>\n",
       "    <tr>\n",
       "      <th>35234</th>\n",
       "      <td>0.147358</td>\n",
       "      <td>0.0</td>\n",
       "      <td>0.333333</td>\n",
       "      <td>0.333333</td>\n",
       "      <td>0.271302</td>\n",
       "      <td>0.400000</td>\n",
       "      <td>0.4</td>\n",
       "      <td>0.2</td>\n",
       "      <td>0.2</td>\n",
       "      <td>0.2</td>\n",
       "      <td>...</td>\n",
       "      <td>0.248681</td>\n",
       "      <td>0.182455</td>\n",
       "      <td>0.340268</td>\n",
       "      <td>0.000000</td>\n",
       "      <td>0.002550</td>\n",
       "      <td>0.005580</td>\n",
       "      <td>0.017263</td>\n",
       "      <td>0.009723</td>\n",
       "      <td>0.010793</td>\n",
       "      <td>1.0</td>\n",
       "    </tr>\n",
       "    <tr>\n",
       "      <th>25941</th>\n",
       "      <td>0.202020</td>\n",
       "      <td>1.0</td>\n",
       "      <td>0.333333</td>\n",
       "      <td>0.333333</td>\n",
       "      <td>0.224138</td>\n",
       "      <td>0.100000</td>\n",
       "      <td>0.1</td>\n",
       "      <td>0.1</td>\n",
       "      <td>0.2</td>\n",
       "      <td>0.2</td>\n",
       "      <td>...</td>\n",
       "      <td>0.191170</td>\n",
       "      <td>0.110414</td>\n",
       "      <td>0.284538</td>\n",
       "      <td>0.001557</td>\n",
       "      <td>0.018877</td>\n",
       "      <td>0.002168</td>\n",
       "      <td>0.001319</td>\n",
       "      <td>0.001789</td>\n",
       "      <td>0.004313</td>\n",
       "      <td>0.0</td>\n",
       "    </tr>\n",
       "  </tbody>\n",
       "</table>\n",
       "<p>5 rows × 24 columns</p>\n",
       "</div>"
      ],
      "text/plain": [
       "       LIMIT_BAL  SEX  EDUCATION  MARRIAGE       AGE     PAY_0  PAY_2  PAY_3  \\\n",
       "45038   0.104337  1.0   0.394511  0.666667  0.277607  0.336707    0.4    0.2   \n",
       "14976   0.020202  1.0   0.500000  0.333333  0.637931  0.400000    0.4    0.4   \n",
       "14304   0.050505  0.0   0.333333  0.333333  0.344828  0.200000    0.2    0.2   \n",
       "35234   0.147358  0.0   0.333333  0.333333  0.271302  0.400000    0.4    0.2   \n",
       "25941   0.202020  1.0   0.333333  0.333333  0.224138  0.100000    0.1    0.1   \n",
       "\n",
       "       PAY_4  PAY_5  ...  BILL_AMT4  BILL_AMT5  BILL_AMT6  PAY_AMT1  PAY_AMT2  \\\n",
       "45038    0.2    0.4  ...   0.211484   0.128814   0.295384  0.000000  0.001406   \n",
       "14976    0.4    0.4  ...   0.185720   0.109641   0.283873  0.002061  0.000594   \n",
       "14304    0.2    0.2  ...   0.176096   0.093885   0.272372  0.005724  0.002809   \n",
       "35234    0.2    0.2  ...   0.248681   0.182455   0.340268  0.000000  0.002550   \n",
       "25941    0.2    0.2  ...   0.191170   0.110414   0.284538  0.001557  0.018877   \n",
       "\n",
       "       PAY_AMT3  PAY_AMT4  PAY_AMT5  PAY_AMT6  default payment next month  \n",
       "45038  0.005217  0.000000  0.003768  0.002677                         1.0  \n",
       "14976  0.000000  0.004055  0.002778  0.002270                         1.0  \n",
       "14304  0.002232  0.016103  0.007034  0.009458                         0.0  \n",
       "35234  0.005580  0.017263  0.009723  0.010793                         1.0  \n",
       "25941  0.002168  0.001319  0.001789  0.004313                         0.0  \n",
       "\n",
       "[5 rows x 24 columns]"
      ]
     },
     "execution_count": 79,
     "metadata": {},
     "output_type": "execute_result"
    }
   ],
   "source": [
    "train_set = X_train.copy()\n",
    "train_set['default payment next month'] = y_train\n",
    "train_set.head()"
   ]
  },
  {
   "cell_type": "code",
   "execution_count": 80,
   "id": "7fdb69d9",
   "metadata": {},
   "outputs": [
    {
     "data": {
      "text/plain": [
       "<AxesSubplot:>"
      ]
     },
     "execution_count": 80,
     "metadata": {},
     "output_type": "execute_result"
    },
    {
     "data": {
      "image/png": "[encoded data removed]",
      "text/plain": [
       "<Figure size 432x288 with 2 Axes>"
      ]
     },
     "metadata": {},
     "output_type": "display_data"
    }
   ],
   "source": [
    "import seaborn as sns\n",
    "import matplotlib.style as style\n",
    "\n",
    "style.use('fivethirtyeight')\n",
    "\n",
    "sns.heatmap(train_set.corr())"
   ]
  },
  {
   "cell_type": "code",
   "execution_count": 81,
   "id": "8af52046",
   "metadata": {},
   "outputs": [
    {
     "data": {
      "text/plain": [
       "default payment next month    1.000000\n",
       "PAY_0                         0.356724\n",
       "PAY_2                         0.288270\n",
       "PAY_3                         0.259537\n",
       "PAY_4                         0.236164\n",
       "PAY_5                         0.221866\n",
       "PAY_6                         0.208035\n",
       "EDUCATION                     0.035059\n",
       "AGE                           0.005150\n",
       "BILL_AMT6                    -0.008092\n",
       "BILL_AMT5                    -0.012688\n",
       "BILL_AMT4                    -0.015648\n",
       "BILL_AMT3                    -0.020189\n",
       "BILL_AMT2                    -0.021963\n",
       "BILL_AMT1                    -0.029854\n",
       "MARRIAGE                     -0.031991\n",
       "SEX                          -0.048947\n",
       "PAY_AMT5                     -0.085103\n",
       "PAY_AMT6                     -0.090067\n",
       "PAY_AMT3                     -0.091230\n",
       "PAY_AMT2                     -0.092535\n",
       "PAY_AMT4                     -0.094030\n",
       "PAY_AMT1                     -0.115964\n",
       "LIMIT_BAL                    -0.217685\n",
       "Name: default payment next month, dtype: float64"
      ]
     },
     "execution_count": 81,
     "metadata": {},
     "output_type": "execute_result"
    }
   ],
   "source": [
    "# correlaciones entre el target y el resto de variables\n",
    "train_set.corr()['default payment next month'].sort_values(ascending=False)"
   ]
  },
  {
   "cell_type": "markdown",
   "id": "959ed4b3",
   "metadata": {},
   "source": [
    "A través de pandas, filtramos las features que tienen al menos una correlación de 0.2 (positiva o negativa)."
   ]
  },
  {
   "cell_type": "code",
   "execution_count": 82,
   "id": "5ec34483",
   "metadata": {},
   "outputs": [],
   "source": [
    "highly_correlated_features = train_set.columns[train_set.corr()['default payment next month'].abs() > 0.2]"
   ]
  },
  {
   "cell_type": "code",
   "execution_count": 83,
   "id": "5a6c0b5d",
   "metadata": {},
   "outputs": [
    {
     "data": {
      "text/plain": [
       "Index(['LIMIT_BAL', 'PAY_0', 'PAY_2', 'PAY_3', 'PAY_4', 'PAY_5', 'PAY_6',\n",
       "       'default payment next month'],\n",
       "      dtype='object')"
      ]
     },
     "execution_count": 83,
     "metadata": {},
     "output_type": "execute_result"
    }
   ],
   "source": [
    "highly_correlated_features"
   ]
  },
  {
   "cell_type": "code",
   "execution_count": 84,
   "id": "8b864d56",
   "metadata": {},
   "outputs": [],
   "source": [
    "# Quitamos el target porque tenía un valor por encima de 0.2 (obviamente correlación de 1.00)\n",
    "\n",
    "highly_correlated_features = highly_correlated_features.drop('default payment next month')"
   ]
  },
  {
   "cell_type": "markdown",
   "id": "452c7181",
   "metadata": {},
   "source": [
    "##### Entonces, ya tenemos las variables de nuestro dataset original que están destinadas a ser predictivas del target. Pongámoslo en práctica:"
   ]
  },
  {
   "cell_type": "code",
   "execution_count": 85,
   "id": "1f32a652",
   "metadata": {},
   "outputs": [
    {
     "name": "stdout",
     "output_type": "stream",
     "text": [
      "Average Time to Fit (s): 0.023\n",
      "Average Time to Score (s): 0.003\n"
     ]
    }
   ],
   "source": [
    "# Incluimos sólo las variables más correladas:\n",
    "\n",
    "X_subsetted = X_train[highly_correlated_features]\n",
    "\n",
    "grid_corr = get_best_model_and_accuracy(DecisionTreeClassifier(), tree_params, X_subsetted, y_train); "
   ]
  },
  {
   "cell_type": "markdown",
   "id": "013d7b46",
   "metadata": {},
   "source": [
    "#### Aproximadamente 6 veces menos en el entrenamiento."
   ]
  },
  {
   "cell_type": "code",
   "execution_count": 88,
   "id": "e396fad6",
   "metadata": {},
   "outputs": [
    {
     "name": "stdout",
     "output_type": "stream",
     "text": [
      "Confusion matrix, without normalization\n",
      "[[15989  2711]\n",
      " [ 8620 10062]]\n",
      "Normalized confusion matrix\n",
      "[[0.85502674 0.14497326]\n",
      " [0.4614067  0.5385933 ]]\n"
     ]
    },
    {
     "data": {
      "image/png": "[encoded data removed]",
      "text/plain": [
       "<Figure size 432x288 with 2 Axes>"
      ]
     },
     "metadata": {},
     "output_type": "display_data"
    },
    {
     "data": {
      "image/png": "[encoded data removed]",
      "text/plain": [
       "<Figure size 432x288 with 2 Axes>"
      ]
     },
     "metadata": {},
     "output_type": "display_data"
    }
   ],
   "source": [
    "titles_options = [(\"Confusion matrix, without normalization\", None),\n",
    "                  (\"Normalized confusion matrix\", 'true')]\n",
    "for title, normalize in titles_options:\n",
    "    disp = plot_confusion_matrix(grid_corr, X_subsetted, y_train,\n",
    "                                 display_labels=['0', '1'],\n",
    "                                 cmap=plt.cm.Blues,\n",
    "                                 normalize=normalize)\n",
    "    disp.ax_.set_title(title)\n",
    "\n",
    "    print(title)\n",
    "    print(disp.confusion_matrix)\n",
    "\n",
    "plt.show()"
   ]
  },
  {
   "cell_type": "markdown",
   "id": "f7cd8d8d",
   "metadata": {},
   "source": [
    "## A continuación, filtra el dataset fijándote en aquellas features que nos ayuden a mantener más varianza. Haz uso de SkLearn y prueba a reentrenar los modelos. ¿Qué diferencias observas?"
   ]
  },
  {
   "cell_type": "markdown",
   "id": "27e2ec8f",
   "metadata": {},
   "source": [
    "#### Varianza"
   ]
  },
  {
   "cell_type": "code",
   "execution_count": 93,
   "id": "74901131",
   "metadata": {},
   "outputs": [
    {
     "data": {
      "text/plain": [
       "(37382, 1)"
      ]
     },
     "execution_count": 93,
     "metadata": {},
     "output_type": "execute_result"
    }
   ],
   "source": [
    "from sklearn.feature_selection import VarianceThreshold\n",
    "X_varianza = VarianceThreshold(0.2).fit_transform(X_train)\n",
    "X_varianza.shape"
   ]
  },
  {
   "cell_type": "code",
   "execution_count": 94,
   "id": "1c028f23",
   "metadata": {
    "scrolled": false
   },
   "outputs": [
    {
     "name": "stdout",
     "output_type": "stream",
     "text": [
      "Average Time to Fit (s): 0.006\n",
      "Average Time to Score (s): 0.002\n"
     ]
    }
   ],
   "source": [
    "grid_var = get_best_model_and_accuracy(DecisionTreeClassifier(), tree_params, X_varianza, y_train)"
   ]
  },
  {
   "cell_type": "code",
   "execution_count": 95,
   "id": "a7d52cb7",
   "metadata": {},
   "outputs": [
    {
     "name": "stdout",
     "output_type": "stream",
     "text": [
      "Confusion matrix, without normalization\n",
      "[[11515  7185]\n",
      " [10605  8077]]\n",
      "Normalized confusion matrix\n",
      "[[0.6157754  0.3842246 ]\n",
      " [0.56765871 0.43234129]]\n"
     ]
    },
    {
     "data": {
      "image/png": "[encoded data removed]",
      "text/plain": [
       "<Figure size 432x288 with 2 Axes>"
      ]
     },
     "metadata": {},
     "output_type": "display_data"
    },
    {
     "data": {
      "image/png": "[encoded data removed]",
      "text/plain": [
       "<Figure size 432x288 with 2 Axes>"
      ]
     },
     "metadata": {},
     "output_type": "display_data"
    }
   ],
   "source": [
    "titles_options = [(\"Confusion matrix, without normalization\", None),\n",
    "                  (\"Normalized confusion matrix\", 'true')]\n",
    "for title, normalize in titles_options:\n",
    "    disp = plot_confusion_matrix(grid_var, X_varianza, y_train,\n",
    "                                 display_labels=['0', '1'],\n",
    "                                 cmap=plt.cm.Blues,\n",
    "                                 normalize=normalize)\n",
    "    disp.ax_.set_title(title)\n",
    "\n",
    "    print(title)\n",
    "    print(disp.confusion_matrix)\n",
    "\n",
    "plt.show()"
   ]
  },
  {
   "cell_type": "markdown",
   "id": "5d2e1d79",
   "metadata": {},
   "source": [
    "#### SelectKBest "
   ]
  },
  {
   "cell_type": "code",
   "execution_count": 96,
   "id": "28a10c52",
   "metadata": {},
   "outputs": [
    {
     "name": "stdout",
     "output_type": "stream",
     "text": [
      "(37382, 5)\n"
     ]
    }
   ],
   "source": [
    "from sklearn.feature_selection import SelectKBest, f_classif\n",
    "from sklearn.linear_model import LogisticRegression\n",
    "from sklearn.model_selection import cross_val_score\n",
    "\n",
    "\n",
    "x_kbest = SelectKBest(f_classif, k=5).fit_transform(X_train, y_train)\n",
    "print(x_kbest.shape)"
   ]
  },
  {
   "cell_type": "code",
   "execution_count": 97,
   "id": "101e132a",
   "metadata": {},
   "outputs": [
    {
     "name": "stdout",
     "output_type": "stream",
     "text": [
      "Average Time to Fit (s): 0.015\n",
      "Average Time to Score (s): 0.003\n"
     ]
    }
   ],
   "source": [
    "grid_kbest = get_best_model_and_accuracy(DecisionTreeClassifier(), tree_params, x_kbest, y_train)"
   ]
  },
  {
   "cell_type": "code",
   "execution_count": 98,
   "id": "6cd394b1",
   "metadata": {},
   "outputs": [
    {
     "name": "stdout",
     "output_type": "stream",
     "text": [
      "Confusion matrix, without normalization\n",
      "[[14783  3917]\n",
      " [ 7177 11505]]\n",
      "Normalized confusion matrix\n",
      "[[0.79053476 0.20946524]\n",
      " [0.38416658 0.61583342]]\n"
     ]
    },
    {
     "data": {
      "image/png": "[encoded data removed]",
      "text/plain": [
       "<Figure size 432x288 with 2 Axes>"
      ]
     },
     "metadata": {},
     "output_type": "display_data"
    },
    {
     "data": {
      "image/png": "[encoded data removed]",
      "text/plain": [
       "<Figure size 432x288 with 2 Axes>"
      ]
     },
     "metadata": {},
     "output_type": "display_data"
    }
   ],
   "source": [
    "titles_options = [(\"Confusion matrix, without normalization\", None),\n",
    "                  (\"Normalized confusion matrix\", 'true')]\n",
    "for title, normalize in titles_options:\n",
    "    disp = plot_confusion_matrix(grid_kbest, x_kbest, y_train,\n",
    "                                 display_labels=['0', '1'],\n",
    "                                 cmap=plt.cm.Blues,\n",
    "                                 normalize=normalize)\n",
    "    disp.ax_.set_title(title)\n",
    "\n",
    "    print(title)\n",
    "    print(disp.confusion_matrix)\n",
    "\n",
    "plt.show()"
   ]
  },
  {
   "cell_type": "code",
   "execution_count": null,
   "id": "821eef92",
   "metadata": {},
   "outputs": [],
   "source": []
  }
 ],
 "metadata": {
  "kernelspec": {
   "display_name": "Python 3",
   "language": "python",
   "name": "python3"
  },
  "language_info": {
   "codemirror_mode": {
    "name": "ipython",
    "version": 3
   },
   "file_extension": ".py",
   "mimetype": "text/x-python",
   "name": "python",
   "nbconvert_exporter": "python",
   "pygments_lexer": "ipython3",
   "version": "3.8.8"
  }
 },
 "nbformat": 4,
 "nbformat_minor": 5
}
