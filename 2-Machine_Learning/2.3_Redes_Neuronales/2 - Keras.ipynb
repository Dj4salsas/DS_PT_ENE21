{
 "cells": [
  {
   "cell_type": "markdown",
   "id": "existing-volunteer",
   "metadata": {},
   "source": [
    "# Keras\n",
    "Librería para programar redes neuronales de una manera más sencilla que con TensorFlow. Keras se encuentra en una capa de abstracción por encima de TensorFlow.\n",
    "\n",
    "[Documentación](https://keras.io/guides/)"
   ]
  },
  {
   "cell_type": "code",
   "execution_count": null,
   "id": "stable-exploration",
   "metadata": {},
   "outputs": [],
   "source": [
    "# !pip install tensorflow\n",
    "# !pip install keras"
   ]
  },
  {
   "cell_type": "markdown",
   "id": "blocked-reflection",
   "metadata": {},
   "source": [
    "Empezamos importando librerías"
   ]
  },
  {
   "cell_type": "code",
   "execution_count": 1,
   "id": "thrown-charity",
   "metadata": {},
   "outputs": [],
   "source": [
    "#import tensorflow as tf\n",
    "from tensorflow import keras\n",
    "#from tensorflow.keras import layers\n",
    "import pandas as pd\n",
    "import numpy as np"
   ]
  },
  {
   "cell_type": "markdown",
   "id": "arctic-batman",
   "metadata": {},
   "source": [
    "#### Clasificación"
   ]
  },
  {
   "cell_type": "markdown",
   "id": "descending-accountability",
   "metadata": {},
   "source": [
    "Utilizaremos el dataset de diabetes"
   ]
  },
  {
   "cell_type": "code",
   "execution_count": 2,
   "id": "african-score",
   "metadata": {},
   "outputs": [
    {
     "data": {
      "text/html": [
       "<div>\n",
       "<style scoped>\n",
       "    .dataframe tbody tr th:only-of-type {\n",
       "        vertical-align: middle;\n",
       "    }\n",
       "\n",
       "    .dataframe tbody tr th {\n",
       "        vertical-align: top;\n",
       "    }\n",
       "\n",
       "    .dataframe thead th {\n",
       "        text-align: right;\n",
       "    }\n",
       "</style>\n",
       "<table border=\"1\" class=\"dataframe\">\n",
       "  <thead>\n",
       "    <tr style=\"text-align: right;\">\n",
       "      <th></th>\n",
       "      <th>Pregnancies</th>\n",
       "      <th>Glucose</th>\n",
       "      <th>BloodPressure</th>\n",
       "      <th>SkinThickness</th>\n",
       "      <th>Insulin</th>\n",
       "      <th>BMI</th>\n",
       "      <th>DiabetesPedigreeFunction</th>\n",
       "      <th>Age</th>\n",
       "      <th>Outcome</th>\n",
       "    </tr>\n",
       "  </thead>\n",
       "  <tbody>\n",
       "    <tr>\n",
       "      <th>0</th>\n",
       "      <td>6</td>\n",
       "      <td>148</td>\n",
       "      <td>72</td>\n",
       "      <td>35</td>\n",
       "      <td>0</td>\n",
       "      <td>33.6</td>\n",
       "      <td>0.627</td>\n",
       "      <td>50</td>\n",
       "      <td>1</td>\n",
       "    </tr>\n",
       "    <tr>\n",
       "      <th>1</th>\n",
       "      <td>1</td>\n",
       "      <td>85</td>\n",
       "      <td>66</td>\n",
       "      <td>29</td>\n",
       "      <td>0</td>\n",
       "      <td>26.6</td>\n",
       "      <td>0.351</td>\n",
       "      <td>31</td>\n",
       "      <td>0</td>\n",
       "    </tr>\n",
       "    <tr>\n",
       "      <th>2</th>\n",
       "      <td>8</td>\n",
       "      <td>183</td>\n",
       "      <td>64</td>\n",
       "      <td>0</td>\n",
       "      <td>0</td>\n",
       "      <td>23.3</td>\n",
       "      <td>0.672</td>\n",
       "      <td>32</td>\n",
       "      <td>1</td>\n",
       "    </tr>\n",
       "    <tr>\n",
       "      <th>3</th>\n",
       "      <td>1</td>\n",
       "      <td>89</td>\n",
       "      <td>66</td>\n",
       "      <td>23</td>\n",
       "      <td>94</td>\n",
       "      <td>28.1</td>\n",
       "      <td>0.167</td>\n",
       "      <td>21</td>\n",
       "      <td>0</td>\n",
       "    </tr>\n",
       "    <tr>\n",
       "      <th>4</th>\n",
       "      <td>0</td>\n",
       "      <td>137</td>\n",
       "      <td>40</td>\n",
       "      <td>35</td>\n",
       "      <td>168</td>\n",
       "      <td>43.1</td>\n",
       "      <td>2.288</td>\n",
       "      <td>33</td>\n",
       "      <td>1</td>\n",
       "    </tr>\n",
       "  </tbody>\n",
       "</table>\n",
       "</div>"
      ],
      "text/plain": [
       "   Pregnancies  Glucose  BloodPressure  SkinThickness  Insulin   BMI  \\\n",
       "0            6      148             72             35        0  33.6   \n",
       "1            1       85             66             29        0  26.6   \n",
       "2            8      183             64              0        0  23.3   \n",
       "3            1       89             66             23       94  28.1   \n",
       "4            0      137             40             35      168  43.1   \n",
       "\n",
       "   DiabetesPedigreeFunction  Age  Outcome  \n",
       "0                     0.627   50        1  \n",
       "1                     0.351   31        0  \n",
       "2                     0.672   32        1  \n",
       "3                     0.167   21        0  \n",
       "4                     2.288   33        1  "
      ]
     },
     "execution_count": 2,
     "metadata": {},
     "output_type": "execute_result"
    }
   ],
   "source": [
    "df = pd.read_csv('https://raw.githubusercontent.com/npradaschnor/Pima-Indians-Diabetes-Dataset/master/diabetes.csv')\n",
    "df.head()"
   ]
  },
  {
   "cell_type": "code",
   "execution_count": 3,
   "id": "synthetic-uniform",
   "metadata": {},
   "outputs": [
    {
     "name": "stdout",
     "output_type": "stream",
     "text": [
      "(537, 8)\n",
      "(231, 8)\n"
     ]
    }
   ],
   "source": [
    "from sklearn.model_selection import train_test_split\n",
    "X = df.drop(columns='Outcome').values\n",
    "y = df['Outcome'].values\n",
    "\n",
    "X_train, X_test, y_train, y_test = train_test_split(X, y, test_size=0.30, random_state=40)\n",
    "print(X_train.shape); print(X_test.shape)"
   ]
  },
  {
   "cell_type": "code",
   "execution_count": 4,
   "id": "expired-magic",
   "metadata": {},
   "outputs": [],
   "source": [
    "from sklearn.preprocessing import MinMaxScaler\n",
    "scaler = MinMaxScaler()\n",
    "scaler.fit(X_train)\n",
    "X_train_scal = scaler.transform(X_train)\n",
    "X_test_scal = scaler.transform(X_test)"
   ]
  },
  {
   "cell_type": "code",
   "execution_count": 5,
   "id": "divine-delaware",
   "metadata": {},
   "outputs": [
    {
     "name": "stderr",
     "output_type": "stream",
     "text": [
      "Using TensorFlow backend.\n"
     ]
    },
    {
     "data": {
      "text/plain": [
       "(231, 2)"
      ]
     },
     "execution_count": 5,
     "metadata": {},
     "output_type": "execute_result"
    }
   ],
   "source": [
    "from keras.utils import to_categorical\n",
    "\n",
    "y_train = to_categorical(y_train)\n",
    "y_test = to_categorical(y_test)\n",
    "\n",
    "y_test.shape"
   ]
  },
  {
   "cell_type": "code",
   "execution_count": 6,
   "id": "a53f65d6",
   "metadata": {},
   "outputs": [
    {
     "data": {
      "text/plain": [
       "array([[0., 1.],\n",
       "       [0., 1.],\n",
       "       [0., 1.],\n",
       "       [1., 0.],\n",
       "       [1., 0.],\n",
       "       [0., 1.],\n",
       "       [1., 0.],\n",
       "       [0., 1.],\n",
       "       [1., 0.],\n",
       "       [0., 1.],\n",
       "       [0., 1.],\n",
       "       [1., 0.],\n",
       "       [1., 0.],\n",
       "       [1., 0.],\n",
       "       [0., 1.],\n",
       "       [0., 1.],\n",
       "       [1., 0.],\n",
       "       [1., 0.],\n",
       "       [1., 0.],\n",
       "       [1., 0.],\n",
       "       [1., 0.],\n",
       "       [1., 0.],\n",
       "       [0., 1.],\n",
       "       [0., 1.],\n",
       "       [0., 1.],\n",
       "       [0., 1.],\n",
       "       [0., 1.],\n",
       "       [1., 0.],\n",
       "       [1., 0.],\n",
       "       [0., 1.],\n",
       "       [1., 0.],\n",
       "       [1., 0.],\n",
       "       [1., 0.],\n",
       "       [1., 0.],\n",
       "       [1., 0.],\n",
       "       [0., 1.],\n",
       "       [1., 0.],\n",
       "       [0., 1.],\n",
       "       [0., 1.],\n",
       "       [0., 1.],\n",
       "       [0., 1.],\n",
       "       [0., 1.],\n",
       "       [1., 0.],\n",
       "       [1., 0.],\n",
       "       [1., 0.],\n",
       "       [1., 0.],\n",
       "       [1., 0.],\n",
       "       [1., 0.],\n",
       "       [1., 0.],\n",
       "       [1., 0.],\n",
       "       [1., 0.],\n",
       "       [0., 1.],\n",
       "       [1., 0.],\n",
       "       [0., 1.],\n",
       "       [0., 1.],\n",
       "       [1., 0.],\n",
       "       [1., 0.],\n",
       "       [0., 1.],\n",
       "       [1., 0.],\n",
       "       [0., 1.],\n",
       "       [1., 0.],\n",
       "       [1., 0.],\n",
       "       [1., 0.],\n",
       "       [1., 0.],\n",
       "       [1., 0.],\n",
       "       [1., 0.],\n",
       "       [0., 1.],\n",
       "       [1., 0.],\n",
       "       [0., 1.],\n",
       "       [1., 0.],\n",
       "       [1., 0.],\n",
       "       [1., 0.],\n",
       "       [0., 1.],\n",
       "       [1., 0.],\n",
       "       [0., 1.],\n",
       "       [1., 0.],\n",
       "       [1., 0.],\n",
       "       [1., 0.],\n",
       "       [0., 1.],\n",
       "       [0., 1.],\n",
       "       [1., 0.],\n",
       "       [1., 0.],\n",
       "       [1., 0.],\n",
       "       [0., 1.],\n",
       "       [1., 0.],\n",
       "       [0., 1.],\n",
       "       [1., 0.],\n",
       "       [0., 1.],\n",
       "       [0., 1.],\n",
       "       [0., 1.],\n",
       "       [1., 0.],\n",
       "       [1., 0.],\n",
       "       [1., 0.],\n",
       "       [1., 0.],\n",
       "       [1., 0.],\n",
       "       [0., 1.],\n",
       "       [1., 0.],\n",
       "       [1., 0.],\n",
       "       [0., 1.],\n",
       "       [1., 0.],\n",
       "       [1., 0.],\n",
       "       [1., 0.],\n",
       "       [0., 1.],\n",
       "       [1., 0.],\n",
       "       [1., 0.],\n",
       "       [1., 0.],\n",
       "       [1., 0.],\n",
       "       [1., 0.],\n",
       "       [1., 0.],\n",
       "       [1., 0.],\n",
       "       [1., 0.],\n",
       "       [0., 1.],\n",
       "       [0., 1.],\n",
       "       [1., 0.],\n",
       "       [1., 0.],\n",
       "       [0., 1.],\n",
       "       [1., 0.],\n",
       "       [1., 0.],\n",
       "       [1., 0.],\n",
       "       [0., 1.],\n",
       "       [1., 0.],\n",
       "       [1., 0.],\n",
       "       [0., 1.],\n",
       "       [1., 0.],\n",
       "       [1., 0.],\n",
       "       [1., 0.],\n",
       "       [0., 1.],\n",
       "       [0., 1.],\n",
       "       [1., 0.],\n",
       "       [1., 0.],\n",
       "       [1., 0.],\n",
       "       [0., 1.],\n",
       "       [1., 0.],\n",
       "       [0., 1.],\n",
       "       [1., 0.],\n",
       "       [0., 1.],\n",
       "       [1., 0.],\n",
       "       [1., 0.],\n",
       "       [0., 1.],\n",
       "       [0., 1.],\n",
       "       [1., 0.],\n",
       "       [1., 0.],\n",
       "       [0., 1.],\n",
       "       [0., 1.],\n",
       "       [0., 1.],\n",
       "       [0., 1.],\n",
       "       [1., 0.],\n",
       "       [0., 1.],\n",
       "       [1., 0.],\n",
       "       [1., 0.],\n",
       "       [0., 1.],\n",
       "       [0., 1.],\n",
       "       [1., 0.],\n",
       "       [1., 0.],\n",
       "       [1., 0.],\n",
       "       [1., 0.],\n",
       "       [1., 0.],\n",
       "       [1., 0.],\n",
       "       [0., 1.],\n",
       "       [0., 1.],\n",
       "       [0., 1.],\n",
       "       [1., 0.],\n",
       "       [1., 0.],\n",
       "       [1., 0.],\n",
       "       [1., 0.],\n",
       "       [1., 0.],\n",
       "       [0., 1.],\n",
       "       [1., 0.],\n",
       "       [1., 0.],\n",
       "       [1., 0.],\n",
       "       [0., 1.],\n",
       "       [1., 0.],\n",
       "       [1., 0.],\n",
       "       [1., 0.],\n",
       "       [1., 0.],\n",
       "       [1., 0.],\n",
       "       [0., 1.],\n",
       "       [0., 1.],\n",
       "       [0., 1.],\n",
       "       [0., 1.],\n",
       "       [0., 1.],\n",
       "       [0., 1.],\n",
       "       [1., 0.],\n",
       "       [1., 0.],\n",
       "       [1., 0.],\n",
       "       [1., 0.],\n",
       "       [1., 0.],\n",
       "       [1., 0.],\n",
       "       [0., 1.],\n",
       "       [1., 0.],\n",
       "       [0., 1.],\n",
       "       [0., 1.],\n",
       "       [1., 0.],\n",
       "       [0., 1.],\n",
       "       [1., 0.],\n",
       "       [1., 0.],\n",
       "       [1., 0.],\n",
       "       [0., 1.],\n",
       "       [0., 1.],\n",
       "       [0., 1.],\n",
       "       [1., 0.],\n",
       "       [1., 0.],\n",
       "       [1., 0.],\n",
       "       [0., 1.],\n",
       "       [1., 0.],\n",
       "       [0., 1.],\n",
       "       [0., 1.],\n",
       "       [0., 1.],\n",
       "       [0., 1.],\n",
       "       [1., 0.],\n",
       "       [0., 1.],\n",
       "       [1., 0.],\n",
       "       [1., 0.],\n",
       "       [1., 0.],\n",
       "       [0., 1.],\n",
       "       [1., 0.],\n",
       "       [1., 0.],\n",
       "       [1., 0.],\n",
       "       [0., 1.],\n",
       "       [0., 1.],\n",
       "       [0., 1.],\n",
       "       [1., 0.],\n",
       "       [1., 0.],\n",
       "       [1., 0.],\n",
       "       [0., 1.],\n",
       "       [1., 0.],\n",
       "       [1., 0.],\n",
       "       [1., 0.],\n",
       "       [1., 0.],\n",
       "       [0., 1.],\n",
       "       [1., 0.]], dtype=float32)"
      ]
     },
     "execution_count": 6,
     "metadata": {},
     "output_type": "execute_result"
    }
   ],
   "source": [
    "y_test"
   ]
  },
  {
   "cell_type": "markdown",
   "id": "broad-occupation",
   "metadata": {},
   "source": [
    "Montamos la arquitectura de la red neuronal. Se va a componer de:\n",
    "* **Sequential**: Para iniciar la red neuronal. No cuenta como capa.\n",
    "* **Dense**: Es una hidden layer. Se compondrá de `n` neuronas y de una función de activación que se aplicará a todas las neuronas de la capa.\n",
    "\n",
    "Recuerda que es un problema de clasificación y que por tanto la última capa se compondrá de tantas neuronas como clases tengas.\n",
    "\n",
    "En cuanto a las funciones de activación es recomendable usar relu en las hidden layer, que tarda menos en entrenar, mientras que la ultima (output) suele ser una softmax."
   ]
  },
  {
   "cell_type": "code",
   "execution_count": 23,
   "id": "optional-interval",
   "metadata": {},
   "outputs": [],
   "source": [
    "from keras.models import Sequential\n",
    "from keras.layers import Dense\n",
    "\n",
    "model = Sequential()\n",
    "model.add(Dense(500, activation='relu', input_dim=8))\n",
    "model.add(Dense(100,activation='relu'))\n",
    "model.add(Dense(50,activation='relu'))\n",
    "model.add(Dense(2,activation='softmax'))"
   ]
  },
  {
   "cell_type": "code",
   "execution_count": 24,
   "id": "worse-gasoline",
   "metadata": {},
   "outputs": [],
   "source": [
    "model.compile(optimizer='adam',\n",
    "              loss = 'categorical_crossentropy',\n",
    "              metrics=['accuracy']\n",
    "             )"
   ]
  },
  {
   "cell_type": "code",
   "execution_count": 25,
   "id": "elect-transsexual",
   "metadata": {},
   "outputs": [
    {
     "name": "stdout",
     "output_type": "stream",
     "text": [
      "Model: \"sequential_4\"\n",
      "_________________________________________________________________\n",
      "Layer (type)                 Output Shape              Param #   \n",
      "=================================================================\n",
      "dense_9 (Dense)              (None, 500)               4500      \n",
      "_________________________________________________________________\n",
      "dense_10 (Dense)             (None, 100)               50100     \n",
      "_________________________________________________________________\n",
      "dense_11 (Dense)             (None, 50)                5050      \n",
      "_________________________________________________________________\n",
      "dense_12 (Dense)             (None, 2)                 102       \n",
      "=================================================================\n",
      "Total params: 59,752\n",
      "Trainable params: 59,752\n",
      "Non-trainable params: 0\n",
      "_________________________________________________________________\n"
     ]
    }
   ],
   "source": [
    "model.summary()"
   ]
  },
  {
   "cell_type": "markdown",
   "id": "favorite-desperate",
   "metadata": {},
   "source": [
    "Entrenamos el modelo. Usamos los datos de entrenamiento. El batch_size es la cantidad de muestras que utiliza el SGD, y las epochs son las iteraciones que realiza en el entrenamiento."
   ]
  },
  {
   "cell_type": "code",
   "execution_count": 26,
   "id": "athletic-palmer",
   "metadata": {
    "scrolled": true
   },
   "outputs": [
    {
     "name": "stdout",
     "output_type": "stream",
     "text": [
      "Train on 483 samples, validate on 54 samples\n",
      "Epoch 1/100\n",
      "483/483 [==============================] - 1s 1ms/step - loss: 0.6828 - accuracy: 0.6149 - val_loss: 0.6889 - val_accuracy: 0.6111\n",
      "Epoch 2/100\n",
      "483/483 [==============================] - 0s 91us/step - loss: 0.6435 - accuracy: 0.6729 - val_loss: 0.6780 - val_accuracy: 0.6111\n",
      "Epoch 3/100\n",
      "483/483 [==============================] - 0s 293us/step - loss: 0.6231 - accuracy: 0.6729 - val_loss: 0.6549 - val_accuracy: 0.6111\n",
      "Epoch 4/100\n",
      "483/483 [==============================] - 0s 342us/step - loss: 0.6063 - accuracy: 0.6770 - val_loss: 0.6499 - val_accuracy: 0.6111\n",
      "Epoch 5/100\n",
      "483/483 [==============================] - 0s 340us/step - loss: 0.5851 - accuracy: 0.6915 - val_loss: 0.6049 - val_accuracy: 0.6667\n",
      "Epoch 6/100\n",
      "483/483 [==============================] - 0s 468us/step - loss: 0.5658 - accuracy: 0.6998 - val_loss: 0.6020 - val_accuracy: 0.6667\n",
      "Epoch 7/100\n",
      "483/483 [==============================] - 0s 426us/step - loss: 0.5457 - accuracy: 0.7122 - val_loss: 0.5667 - val_accuracy: 0.7037\n",
      "Epoch 8/100\n",
      "483/483 [==============================] - 0s 289us/step - loss: 0.5355 - accuracy: 0.7184 - val_loss: 0.5354 - val_accuracy: 0.7222\n",
      "Epoch 9/100\n",
      "483/483 [==============================] - 0s 285us/step - loss: 0.5242 - accuracy: 0.7164 - val_loss: 0.5684 - val_accuracy: 0.7037\n",
      "Epoch 10/100\n",
      "483/483 [==============================] - 0s 433us/step - loss: 0.5116 - accuracy: 0.7329 - val_loss: 0.5344 - val_accuracy: 0.7037\n",
      "Epoch 11/100\n",
      "483/483 [==============================] - 0s 667us/step - loss: 0.5028 - accuracy: 0.7516 - val_loss: 0.5200 - val_accuracy: 0.7222\n",
      "Epoch 12/100\n",
      "483/483 [==============================] - 0s 793us/step - loss: 0.4970 - accuracy: 0.7557 - val_loss: 0.4759 - val_accuracy: 0.7963\n",
      "Epoch 13/100\n",
      "483/483 [==============================] - 0s 444us/step - loss: 0.4947 - accuracy: 0.7578 - val_loss: 0.4973 - val_accuracy: 0.7407\n",
      "Epoch 14/100\n",
      "483/483 [==============================] - 0s 395us/step - loss: 0.4714 - accuracy: 0.7681 - val_loss: 0.4574 - val_accuracy: 0.7407\n",
      "Epoch 15/100\n",
      "483/483 [==============================] - 0s 300us/step - loss: 0.4821 - accuracy: 0.7723 - val_loss: 0.5183 - val_accuracy: 0.7222\n",
      "Epoch 16/100\n",
      "483/483 [==============================] - 0s 415us/step - loss: 0.4781 - accuracy: 0.7785 - val_loss: 0.4488 - val_accuracy: 0.7593\n",
      "Epoch 17/100\n",
      "483/483 [==============================] - 0s 407us/step - loss: 0.4739 - accuracy: 0.7640 - val_loss: 0.4338 - val_accuracy: 0.7963\n",
      "Epoch 18/100\n",
      "483/483 [==============================] - 0s 340us/step - loss: 0.4557 - accuracy: 0.7826 - val_loss: 0.4533 - val_accuracy: 0.7593\n",
      "Epoch 19/100\n",
      "483/483 [==============================] - 0s 463us/step - loss: 0.4493 - accuracy: 0.7950 - val_loss: 0.4428 - val_accuracy: 0.7593\n",
      "Epoch 20/100\n",
      "483/483 [==============================] - 0s 677us/step - loss: 0.4479 - accuracy: 0.7847 - val_loss: 0.4251 - val_accuracy: 0.7778\n",
      "Epoch 21/100\n",
      "483/483 [==============================] - 0s 285us/step - loss: 0.4387 - accuracy: 0.8012 - val_loss: 0.4168 - val_accuracy: 0.7778\n",
      "Epoch 22/100\n",
      "483/483 [==============================] - 0s 439us/step - loss: 0.4424 - accuracy: 0.8012 - val_loss: 0.4223 - val_accuracy: 0.7963\n",
      "Epoch 23/100\n",
      "483/483 [==============================] - 0s 478us/step - loss: 0.4345 - accuracy: 0.8012 - val_loss: 0.4368 - val_accuracy: 0.7963\n",
      "Epoch 24/100\n",
      "483/483 [==============================] - 0s 769us/step - loss: 0.4386 - accuracy: 0.7909 - val_loss: 0.4008 - val_accuracy: 0.8148\n",
      "Epoch 25/100\n",
      "483/483 [==============================] - 0s 126us/step - loss: 0.4413 - accuracy: 0.7867 - val_loss: 0.4062 - val_accuracy: 0.8148\n",
      "Epoch 26/100\n",
      "483/483 [==============================] - 0s 114us/step - loss: 0.4266 - accuracy: 0.8054 - val_loss: 0.4840 - val_accuracy: 0.7593\n",
      "Epoch 27/100\n",
      "483/483 [==============================] - 0s 280us/step - loss: 0.4553 - accuracy: 0.7743 - val_loss: 0.3956 - val_accuracy: 0.7963\n",
      "Epoch 28/100\n",
      "483/483 [==============================] - 0s 222us/step - loss: 0.4406 - accuracy: 0.7950 - val_loss: 0.3997 - val_accuracy: 0.7963\n",
      "Epoch 29/100\n",
      "483/483 [==============================] - 0s 400us/step - loss: 0.4300 - accuracy: 0.8054 - val_loss: 0.4201 - val_accuracy: 0.7963\n",
      "Epoch 30/100\n",
      "483/483 [==============================] - 0s 242us/step - loss: 0.4166 - accuracy: 0.8075 - val_loss: 0.3948 - val_accuracy: 0.8333\n",
      "Epoch 31/100\n",
      "483/483 [==============================] - 0s 108us/step - loss: 0.4341 - accuracy: 0.8095 - val_loss: 0.4159 - val_accuracy: 0.7963\n",
      "Epoch 32/100\n",
      "483/483 [==============================] - 0s 268us/step - loss: 0.4132 - accuracy: 0.8137 - val_loss: 0.4065 - val_accuracy: 0.7778\n",
      "Epoch 33/100\n",
      "483/483 [==============================] - 0s 316us/step - loss: 0.4083 - accuracy: 0.8116 - val_loss: 0.4291 - val_accuracy: 0.7963\n",
      "Epoch 34/100\n",
      "483/483 [==============================] - 0s 219us/step - loss: 0.4210 - accuracy: 0.8075 - val_loss: 0.4119 - val_accuracy: 0.7963\n",
      "Epoch 35/100\n",
      "483/483 [==============================] - 0s 377us/step - loss: 0.4100 - accuracy: 0.8075 - val_loss: 0.3972 - val_accuracy: 0.7778\n",
      "Epoch 36/100\n",
      "483/483 [==============================] - 0s 274us/step - loss: 0.4051 - accuracy: 0.8075 - val_loss: 0.4038 - val_accuracy: 0.7778\n",
      "Epoch 37/100\n",
      "483/483 [==============================] - 0s 516us/step - loss: 0.4016 - accuracy: 0.8199 - val_loss: 0.4097 - val_accuracy: 0.7778\n",
      "Epoch 38/100\n",
      "483/483 [==============================] - 0s 363us/step - loss: 0.4008 - accuracy: 0.8178 - val_loss: 0.4151 - val_accuracy: 0.7778\n",
      "Epoch 39/100\n",
      "483/483 [==============================] - 0s 382us/step - loss: 0.3966 - accuracy: 0.8116 - val_loss: 0.3974 - val_accuracy: 0.7963\n",
      "Epoch 40/100\n",
      "483/483 [==============================] - 0s 391us/step - loss: 0.4150 - accuracy: 0.8116 - val_loss: 0.4596 - val_accuracy: 0.7963\n",
      "Epoch 41/100\n",
      "483/483 [==============================] - 0s 457us/step - loss: 0.4020 - accuracy: 0.8261 - val_loss: 0.4088 - val_accuracy: 0.7963\n",
      "Epoch 42/100\n",
      "483/483 [==============================] - 0s 432us/step - loss: 0.3932 - accuracy: 0.8261 - val_loss: 0.3988 - val_accuracy: 0.7778\n",
      "Epoch 43/100\n",
      "483/483 [==============================] - 0s 423us/step - loss: 0.3951 - accuracy: 0.8219 - val_loss: 0.4822 - val_accuracy: 0.7593\n",
      "Epoch 44/100\n",
      "483/483 [==============================] - 0s 341us/step - loss: 0.4056 - accuracy: 0.7992 - val_loss: 0.4042 - val_accuracy: 0.7963\n",
      "Epoch 45/100\n",
      "483/483 [==============================] - 0s 111us/step - loss: 0.3902 - accuracy: 0.8261 - val_loss: 0.4035 - val_accuracy: 0.7963\n",
      "Epoch 46/100\n",
      "483/483 [==============================] - 0s 452us/step - loss: 0.3862 - accuracy: 0.8240 - val_loss: 0.4072 - val_accuracy: 0.7963\n",
      "Epoch 47/100\n",
      "483/483 [==============================] - 0s 368us/step - loss: 0.3784 - accuracy: 0.8323 - val_loss: 0.4067 - val_accuracy: 0.7778\n",
      "Epoch 48/100\n",
      "483/483 [==============================] - 0s 576us/step - loss: 0.3753 - accuracy: 0.8302 - val_loss: 0.4268 - val_accuracy: 0.7963\n",
      "Epoch 49/100\n",
      "483/483 [==============================] - 0s 394us/step - loss: 0.3789 - accuracy: 0.8282 - val_loss: 0.4223 - val_accuracy: 0.7963\n",
      "Epoch 50/100\n",
      "483/483 [==============================] - 0s 449us/step - loss: 0.3716 - accuracy: 0.8364 - val_loss: 0.3915 - val_accuracy: 0.8333\n",
      "Epoch 51/100\n",
      "483/483 [==============================] - 0s 460us/step - loss: 0.3717 - accuracy: 0.8364 - val_loss: 0.4666 - val_accuracy: 0.7778\n",
      "Epoch 52/100\n",
      "483/483 [==============================] - 0s 566us/step - loss: 0.3807 - accuracy: 0.8282 - val_loss: 0.4301 - val_accuracy: 0.7778\n",
      "Epoch 53/100\n",
      "483/483 [==============================] - 0s 368us/step - loss: 0.3882 - accuracy: 0.8116 - val_loss: 0.4103 - val_accuracy: 0.7963\n",
      "Epoch 54/100\n",
      "483/483 [==============================] - 0s 622us/step - loss: 0.3639 - accuracy: 0.8406 - val_loss: 0.4088 - val_accuracy: 0.7963\n",
      "Epoch 55/100\n",
      "483/483 [==============================] - 0s 470us/step - loss: 0.3633 - accuracy: 0.8364 - val_loss: 0.4068 - val_accuracy: 0.8148\n",
      "Epoch 56/100\n",
      "483/483 [==============================] - 0s 436us/step - loss: 0.3532 - accuracy: 0.8509 - val_loss: 0.4214 - val_accuracy: 0.7778\n"
     ]
    },
    {
     "name": "stdout",
     "output_type": "stream",
     "text": [
      "Epoch 57/100\n",
      "483/483 [==============================] - 0s 547us/step - loss: 0.3553 - accuracy: 0.8530 - val_loss: 0.4164 - val_accuracy: 0.7963\n",
      "Epoch 58/100\n",
      "483/483 [==============================] - 0s 427us/step - loss: 0.3562 - accuracy: 0.8447 - val_loss: 0.4299 - val_accuracy: 0.7963\n",
      "Epoch 59/100\n",
      "483/483 [==============================] - 0s 292us/step - loss: 0.3536 - accuracy: 0.8364 - val_loss: 0.4765 - val_accuracy: 0.7593\n",
      "Epoch 60/100\n",
      "483/483 [==============================] - 0s 366us/step - loss: 0.3557 - accuracy: 0.8282 - val_loss: 0.4055 - val_accuracy: 0.8148\n",
      "Epoch 61/100\n",
      "483/483 [==============================] - 0s 323us/step - loss: 0.3498 - accuracy: 0.8427 - val_loss: 0.3995 - val_accuracy: 0.8148\n",
      "Epoch 62/100\n",
      "483/483 [==============================] - 0s 153us/step - loss: 0.3737 - accuracy: 0.8199 - val_loss: 0.4210 - val_accuracy: 0.8333\n",
      "Epoch 63/100\n",
      "483/483 [==============================] - 0s 341us/step - loss: 0.3860 - accuracy: 0.8219 - val_loss: 0.4736 - val_accuracy: 0.7593\n",
      "Epoch 64/100\n",
      "483/483 [==============================] - 0s 233us/step - loss: 0.3509 - accuracy: 0.8592 - val_loss: 0.4082 - val_accuracy: 0.7963\n",
      "Epoch 65/100\n",
      "483/483 [==============================] - 0s 353us/step - loss: 0.3438 - accuracy: 0.8613 - val_loss: 0.4238 - val_accuracy: 0.7963\n",
      "Epoch 66/100\n",
      "483/483 [==============================] - 0s 273us/step - loss: 0.3345 - accuracy: 0.8592 - val_loss: 0.4615 - val_accuracy: 0.7593\n",
      "Epoch 67/100\n",
      "483/483 [==============================] - 0s 289us/step - loss: 0.3425 - accuracy: 0.8489 - val_loss: 0.4466 - val_accuracy: 0.7778\n",
      "Epoch 68/100\n",
      "483/483 [==============================] - 0s 113us/step - loss: 0.3503 - accuracy: 0.8530 - val_loss: 0.4597 - val_accuracy: 0.7778\n",
      "Epoch 69/100\n",
      "483/483 [==============================] - 0s 289us/step - loss: 0.3450 - accuracy: 0.8530 - val_loss: 0.4240 - val_accuracy: 0.8148\n",
      "Epoch 70/100\n",
      "483/483 [==============================] - 0s 293us/step - loss: 0.3429 - accuracy: 0.8489 - val_loss: 0.4297 - val_accuracy: 0.8148\n",
      "Epoch 71/100\n",
      "483/483 [==============================] - 0s 434us/step - loss: 0.3237 - accuracy: 0.8592 - val_loss: 0.4800 - val_accuracy: 0.7593\n",
      "Epoch 72/100\n",
      "483/483 [==============================] - 0s 243us/step - loss: 0.3237 - accuracy: 0.8551 - val_loss: 0.4149 - val_accuracy: 0.8148\n",
      "Epoch 73/100\n",
      "483/483 [==============================] - 0s 324us/step - loss: 0.3354 - accuracy: 0.8571 - val_loss: 0.4377 - val_accuracy: 0.8333\n",
      "Epoch 74/100\n",
      "483/483 [==============================] - ETA: 0s - loss: 0.3035 - accuracy: 0.90 - 0s 263us/step - loss: 0.3334 - accuracy: 0.8716 - val_loss: 0.4315 - val_accuracy: 0.8148\n",
      "Epoch 75/100\n",
      "483/483 [==============================] - 0s 191us/step - loss: 0.3188 - accuracy: 0.8613 - val_loss: 0.4703 - val_accuracy: 0.7593\n",
      "Epoch 76/100\n",
      "483/483 [==============================] - 0s 507us/step - loss: 0.3128 - accuracy: 0.8778 - val_loss: 0.4685 - val_accuracy: 0.7593\n",
      "Epoch 77/100\n",
      "483/483 [==============================] - 0s 778us/step - loss: 0.3130 - accuracy: 0.8716 - val_loss: 0.4342 - val_accuracy: 0.7963\n",
      "Epoch 78/100\n",
      "483/483 [==============================] - 0s 387us/step - loss: 0.3367 - accuracy: 0.8530 - val_loss: 0.4329 - val_accuracy: 0.8148\n",
      "Epoch 79/100\n",
      "483/483 [==============================] - 0s 288us/step - loss: 0.3418 - accuracy: 0.8551 - val_loss: 0.5069 - val_accuracy: 0.7407\n",
      "Epoch 80/100\n",
      "483/483 [==============================] - 0s 193us/step - loss: 0.3125 - accuracy: 0.8799 - val_loss: 0.4523 - val_accuracy: 0.8148\n",
      "Epoch 81/100\n",
      "483/483 [==============================] - 0s 463us/step - loss: 0.3189 - accuracy: 0.8737 - val_loss: 0.4421 - val_accuracy: 0.7963\n",
      "Epoch 82/100\n",
      "483/483 [==============================] - 0s 248us/step - loss: 0.2989 - accuracy: 0.8716 - val_loss: 0.4534 - val_accuracy: 0.8148\n",
      "Epoch 83/100\n",
      "483/483 [==============================] - 0s 466us/step - loss: 0.3088 - accuracy: 0.8737 - val_loss: 0.5189 - val_accuracy: 0.7778\n",
      "Epoch 84/100\n",
      "483/483 [==============================] - 0s 256us/step - loss: 0.2990 - accuracy: 0.8861 - val_loss: 0.4315 - val_accuracy: 0.8333\n",
      "Epoch 85/100\n",
      "483/483 [==============================] - 0s 378us/step - loss: 0.2981 - accuracy: 0.8758 - val_loss: 0.4680 - val_accuracy: 0.8148\n",
      "Epoch 86/100\n",
      "483/483 [==============================] - 0s 393us/step - loss: 0.2891 - accuracy: 0.8861 - val_loss: 0.4499 - val_accuracy: 0.8333\n",
      "Epoch 87/100\n",
      "483/483 [==============================] - 0s 329us/step - loss: 0.2913 - accuracy: 0.8778 - val_loss: 0.5435 - val_accuracy: 0.7778\n",
      "Epoch 88/100\n",
      "483/483 [==============================] - 0s 295us/step - loss: 0.2951 - accuracy: 0.8551 - val_loss: 0.4536 - val_accuracy: 0.8148\n",
      "Epoch 89/100\n",
      "483/483 [==============================] - 0s 237us/step - loss: 0.3021 - accuracy: 0.8758 - val_loss: 0.4573 - val_accuracy: 0.7963\n",
      "Epoch 90/100\n",
      "483/483 [==============================] - 0s 367us/step - loss: 0.3058 - accuracy: 0.8716 - val_loss: 0.4749 - val_accuracy: 0.8148\n",
      "Epoch 91/100\n",
      "483/483 [==============================] - ETA: 0s - loss: 0.3073 - accuracy: 0.86 - 0s 246us/step - loss: 0.2951 - accuracy: 0.8799 - val_loss: 0.5601 - val_accuracy: 0.7593\n",
      "Epoch 92/100\n",
      "483/483 [==============================] - 0s 205us/step - loss: 0.3060 - accuracy: 0.8654 - val_loss: 0.4569 - val_accuracy: 0.7963\n",
      "Epoch 93/100\n",
      "483/483 [==============================] - 0s 347us/step - loss: 0.2784 - accuracy: 0.8737 - val_loss: 0.4700 - val_accuracy: 0.8148\n",
      "Epoch 94/100\n",
      "483/483 [==============================] - 0s 311us/step - loss: 0.2627 - accuracy: 0.9048 - val_loss: 0.4724 - val_accuracy: 0.7963\n",
      "Epoch 95/100\n",
      "483/483 [==============================] - 0s 180us/step - loss: 0.2599 - accuracy: 0.9089 - val_loss: 0.4606 - val_accuracy: 0.8333\n",
      "Epoch 96/100\n",
      "483/483 [==============================] - 0s 352us/step - loss: 0.2511 - accuracy: 0.9006 - val_loss: 0.4707 - val_accuracy: 0.8333\n",
      "Epoch 97/100\n",
      "483/483 [==============================] - ETA: 0s - loss: 0.2692 - accuracy: 0.89 - 0s 294us/step - loss: 0.2495 - accuracy: 0.9151 - val_loss: 0.4814 - val_accuracy: 0.8148\n",
      "Epoch 98/100\n",
      "483/483 [==============================] - 0s 197us/step - loss: 0.2448 - accuracy: 0.9130 - val_loss: 0.5113 - val_accuracy: 0.8333\n",
      "Epoch 99/100\n",
      "483/483 [==============================] - 0s 129us/step - loss: 0.2638 - accuracy: 0.8882 - val_loss: 0.4823 - val_accuracy: 0.7963\n",
      "Epoch 100/100\n",
      "483/483 [==============================] - 0s 120us/step - loss: 0.2583 - accuracy: 0.9048 - val_loss: 0.5067 - val_accuracy: 0.8148\n"
     ]
    }
   ],
   "source": [
    "history = model.fit(X_train_scal,\n",
    "                   y_train,\n",
    "                   batch_size=64,\n",
    "                   epochs = 100,\n",
    "                    validation_split = 0.1\n",
    "                   )"
   ]
  },
  {
   "cell_type": "markdown",
   "id": "aggressive-ownership",
   "metadata": {},
   "source": [
    "Veamos el histórico del entrenamiento, para poder representarlo posteriormente."
   ]
  },
  {
   "cell_type": "code",
   "execution_count": 11,
   "id": "formal-memory",
   "metadata": {
    "collapsed": true
   },
   "outputs": [
    {
     "name": "stdout",
     "output_type": "stream",
     "text": [
      "{'batch_size': 64, 'epochs': 100, 'steps': None, 'samples': 483, 'verbose': 1, 'do_validation': True, 'metrics': ['loss', 'accuracy', 'val_loss', 'val_accuracy']}\n",
      "[0, 1, 2, 3, 4, 5, 6, 7, 8, 9, 10, 11, 12, 13, 14, 15, 16, 17, 18, 19, 20, 21, 22, 23, 24, 25, 26, 27, 28, 29, 30, 31, 32, 33, 34, 35, 36, 37, 38, 39, 40, 41, 42, 43, 44, 45, 46, 47, 48, 49, 50, 51, 52, 53, 54, 55, 56, 57, 58, 59, 60, 61, 62, 63, 64, 65, 66, 67, 68, 69, 70, 71, 72, 73, 74, 75, 76, 77, 78, 79, 80, 81, 82, 83, 84, 85, 86, 87, 88, 89, 90, 91, 92, 93, 94, 95, 96, 97, 98, 99]\n",
      "{'val_loss': [0.6952014565467834, 0.6533388495445251, 0.6405861377716064, 0.6270946264266968, 0.5994778871536255, 0.5982920527458191, 0.5322456955909729, 0.5120011568069458, 0.5145694613456726, 0.5162142515182495, 0.4587197005748749, 0.49424394965171814, 0.49085161089897156, 0.440622478723526, 0.4851926565170288, 0.4675239622592926, 0.42044106125831604, 0.4670822322368622, 0.4215099513530731, 0.4045589566230774, 0.42285099625587463, 0.4389611482620239, 0.40512123703956604, 0.41186922788619995, 0.41062241792678833, 0.40300193428993225, 0.39384734630584717, 0.4579946994781494, 0.3996694087982178, 0.4005471467971802, 0.40077611804008484, 0.3977203965187073, 0.4150766134262085, 0.385263055562973, 0.3932516872882843, 0.402320921421051, 0.387931227684021, 0.39629313349723816, 0.4640797972679138, 0.46673187613487244, 0.39506247639656067, 0.39065346121788025, 0.400714248418808, 0.4281494617462158, 0.4051903486251831, 0.40393245220184326, 0.40217894315719604, 0.422715961933136, 0.41511762142181396, 0.4094224274158478, 0.4365729093551636, 0.4270881712436676, 0.4143860638141632, 0.4215681850910187, 0.4120396375656128, 0.4540458917617798, 0.44676801562309265, 0.41587141156196594, 0.4190019369125366, 0.42927688360214233, 0.4528985619544983, 0.4443786144256592, 0.42630675435066223, 0.42971551418304443, 0.44805189967155457, 0.4704835116863251, 0.46653443574905396, 0.4440932869911194, 0.44459304213523865, 0.47570404410362244, 0.4481346011161804, 0.44330137968063354, 0.4342694580554962, 0.4609050750732422, 0.4605138599872589, 0.486815869808197, 0.46986985206604004, 0.4708089232444763, 0.4911842942237854, 0.49997520446777344, 0.4685043692588806, 0.5309605598449707, 0.5324497818946838, 0.5026326775550842, 0.5325400233268738, 0.5415831804275513, 0.49186971783638, 0.5065420866012573, 0.496107816696167, 0.5020529627799988, 0.5094431638717651, 0.5526899695396423, 0.5074790716171265, 0.5224127173423767, 0.508511483669281, 0.5227521061897278, 0.5297690629959106, 0.6384994387626648, 0.5280808806419373, 0.5132647752761841], 'val_accuracy': [0.6111111044883728, 0.5925925970077515, 0.6296296119689941, 0.6666666865348816, 0.6481481194496155, 0.6851851940155029, 0.7037037014961243, 0.7222222089767456, 0.7037037014961243, 0.7222222089767456, 0.7592592835426331, 0.7407407164573669, 0.7592592835426331, 0.8333333134651184, 0.7407407164573669, 0.7592592835426331, 0.8518518805503845, 0.7407407164573669, 0.7592592835426331, 0.8148148059844971, 0.7777777910232544, 0.7777777910232544, 0.7962962985038757, 0.7962962985038757, 0.7777777910232544, 0.7962962985038757, 0.8518518805503845, 0.7777777910232544, 0.7777777910232544, 0.7962962985038757, 0.7962962985038757, 0.7962962985038757, 0.7962962985038757, 0.7962962985038757, 0.7962962985038757, 0.7777777910232544, 0.8333333134651184, 0.7962962985038757, 0.7592592835426331, 0.7777777910232544, 0.8333333134651184, 0.8148148059844971, 0.7962962985038757, 0.7777777910232544, 0.8333333134651184, 0.8148148059844971, 0.7962962985038757, 0.7962962985038757, 0.7962962985038757, 0.8148148059844971, 0.7962962985038757, 0.7962962985038757, 0.8148148059844971, 0.8148148059844971, 0.8148148059844971, 0.7962962985038757, 0.7962962985038757, 0.7777777910232544, 0.8333333134651184, 0.7777777910232544, 0.7962962985038757, 0.7962962985038757, 0.8333333134651184, 0.7962962985038757, 0.7962962985038757, 0.7962962985038757, 0.7962962985038757, 0.8148148059844971, 0.8333333134651184, 0.7962962985038757, 0.7777777910232544, 0.7962962985038757, 0.7962962985038757, 0.7777777910232544, 0.8148148059844971, 0.7777777910232544, 0.8148148059844971, 0.7777777910232544, 0.7962962985038757, 0.7777777910232544, 0.8148148059844971, 0.8148148059844971, 0.8148148059844971, 0.8333333134651184, 0.7777777910232544, 0.7777777910232544, 0.8148148059844971, 0.7962962985038757, 0.7962962985038757, 0.8148148059844971, 0.7962962985038757, 0.7962962985038757, 0.7592592835426331, 0.7962962985038757, 0.7777777910232544, 0.7962962985038757, 0.8148148059844971, 0.7592592835426331, 0.8148148059844971, 0.7777777910232544], 'loss': [0.654643628538025, 0.6277197541410632, 0.6071729255265578, 0.5792623722528573, 0.5588992178810309, 0.5392527240897311, 0.5232829012238954, 0.5111139986209, 0.49790136537690094, 0.49112536929408956, 0.47313576807146485, 0.4691829344500666, 0.4773816336756167, 0.47652057066220427, 0.4777078146643273, 0.4775632225578616, 0.4651503354372692, 0.45088900104319335, 0.4443668056719051, 0.44009602384537644, 0.44323460532518155, 0.43197229634160583, 0.44548891117607337, 0.42281140186525035, 0.42299943113425753, 0.4148172038929309, 0.41202232901847635, 0.4165439957417316, 0.42271967802975735, 0.4067974947624325, 0.3973470188939547, 0.39507779164343887, 0.400667574279797, 0.3854481273679753, 0.3883057619844164, 0.3871094470006832, 0.3824753070840184, 0.38899965932897407, 0.39396470266839734, 0.406111807063006, 0.3978595032084803, 0.3809552513232636, 0.3765171591662966, 0.3726379485110565, 0.36230684838433197, 0.37039573413491494, 0.36172872022812413, 0.3495554989415913, 0.34387103401849484, 0.377492624533596, 0.3733160302629135, 0.34938407647683756, 0.3406651929545353, 0.3400774935634487, 0.36051850388015527, 0.34349293793950764, 0.34324652178687337, 0.33469281131189554, 0.3203595576819426, 0.3272886115818537, 0.31849790961475843, 0.3175229808435183, 0.32474842939070786, 0.32271540251331055, 0.3206060135093041, 0.3620199859759329, 0.3165334084265968, 0.2966804155158207, 0.2895151724726517, 0.2905724825449365, 0.2894479829825723, 0.2796508861131056, 0.2857703512870007, 0.2816416369461865, 0.26950573205454254, 0.2733383364127043, 0.25925585871280843, 0.2572810928458753, 0.2560634489323535, 0.2521388930563601, 0.2717127267494952, 0.2647045746476507, 0.3017997665188081, 0.286773316886114, 0.2627025942624726, 0.2553986227660446, 0.25892571383011265, 0.24878846846258665, 0.23961114710655765, 0.2373238496528649, 0.22030019914388163, 0.24040867591866796, 0.2448342902813392, 0.23212027602190805, 0.21857845147697574, 0.21776378685396403, 0.2317023691923722, 0.23509572202621287, 0.25563327841630384, 0.21196486083617122], 'accuracy': [0.67287785, 0.67287785, 0.68530023, 0.71014494, 0.7080745, 0.7204969, 0.73084885, 0.73706007, 0.747412, 0.747412, 0.76811594, 0.7784679, 0.77018636, 0.77018636, 0.76397514, 0.77225673, 0.78881985, 0.7908903, 0.7805383, 0.7908903, 0.7867495, 0.8095238, 0.7805383, 0.805383, 0.805383, 0.8178054, 0.8033126, 0.8240166, 0.815735, 0.8136646, 0.8343685, 0.82608694, 0.8136646, 0.8343685, 0.8343685, 0.8385093, 0.8240166, 0.8178054, 0.8136646, 0.8074534, 0.8033126, 0.82815737, 0.8343685, 0.82815737, 0.8364389, 0.8343685, 0.8385093, 0.8509317, 0.8509317, 0.82815737, 0.83022773, 0.8530021, 0.8530021, 0.86128366, 0.83229816, 0.8509317, 0.8447205, 0.85921323, 0.8695652, 0.863354, 0.86128366, 0.8488613, 0.8674948, 0.8674948, 0.85507244, 0.8426501, 0.8716356, 0.8757764, 0.8819876, 0.88819873, 0.8778468, 0.9026915, 0.89026916, 0.884058, 0.8964803, 0.88819873, 0.89855075, 0.9006211, 0.8923395, 0.89855075, 0.8799172, 0.884058, 0.8778468, 0.8674948, 0.89026916, 0.8799172, 0.8923395, 0.89440995, 0.9047619, 0.9068323, 0.91511387, 0.88819873, 0.8923395, 0.9006211, 0.9047619, 0.921325, 0.9130435, 0.9026915, 0.8923395, 0.91925466]}\n"
     ]
    }
   ],
   "source": [
    "print(history.params)\n",
    "print(history.epoch)\n",
    "print(history.history)"
   ]
  },
  {
   "cell_type": "code",
   "execution_count": 27,
   "id": "general-closing",
   "metadata": {},
   "outputs": [
    {
     "data": {
      "image/png": "[encoded data removed]",
      "text/plain": [
       "<Figure size 576x360 with 1 Axes>"
      ]
     },
     "metadata": {
      "needs_background": "light"
     },
     "output_type": "display_data"
    }
   ],
   "source": [
    "import matplotlib.pyplot as plt\n",
    "\n",
    "pd.DataFrame(history.history).plot(figsize=(8,5))\n",
    "plt.grid()\n",
    "\n",
    "plt.show()"
   ]
  },
  {
   "cell_type": "markdown",
   "id": "driven-result",
   "metadata": {},
   "source": [
    "Si el modelo no ha ido bien, prueba a cambiar el learning rate, cambia de optimizador y después prueba a cambiar capas, neuronas y funciones de activación.\n",
    "\n",
    "Ya tenemos el modelo entrenado. Medimos el desempeño"
   ]
  },
  {
   "cell_type": "code",
   "execution_count": 33,
   "id": "declared-commercial",
   "metadata": {
    "collapsed": true
   },
   "outputs": [
    {
     "data": {
      "text/plain": [
       "array([1, 1, 1, 0, 0, 0, 0, 0, 0, 1, 0, 0, 1, 0, 0, 1, 1, 1, 0, 0, 0, 0,\n",
       "       0, 0, 0, 1, 0, 1, 0, 0, 1, 1, 1, 0, 1, 0, 1, 0, 0, 1, 0, 1, 0, 0,\n",
       "       1, 0, 1, 0, 1, 0, 0, 0, 1, 1, 0, 1, 0, 0, 1, 0, 1, 0, 1, 0, 1, 0,\n",
       "       1, 0, 1, 0, 0, 0, 0, 0, 0, 0, 0, 1, 0, 1, 1, 0, 1, 0, 1, 1, 0, 0,\n",
       "       0, 1, 0, 0, 0, 1, 1, 1, 0, 0, 1, 1, 0, 1, 0, 0, 1, 0, 0, 1, 0, 0,\n",
       "       0, 0, 1, 0, 1, 0, 0, 0, 0, 1, 1, 1, 0, 1, 0, 1, 0, 0, 0, 0, 0, 1,\n",
       "       0, 1, 0, 0, 1, 0, 0, 1, 0, 0, 1, 1, 0, 1, 1, 0, 0, 0, 0, 1, 0, 1,\n",
       "       0, 0, 0, 0, 0, 0, 0, 1, 0, 0, 0, 1, 1, 0, 0, 1, 0, 0, 0, 0, 1, 1,\n",
       "       0, 0, 1, 0, 0, 0, 0, 0, 0, 0, 0, 0, 0, 0, 1, 0, 0, 0, 1, 0, 0, 1,\n",
       "       0, 0, 0, 1, 0, 0, 1, 0, 0, 0, 0, 1, 0, 1, 1, 0, 1, 1, 0, 0, 0, 0,\n",
       "       0, 1, 0, 0, 1, 1, 0, 1, 0, 1, 0, 0, 0, 0, 0, 0, 0, 1, 0, 0, 0, 1,\n",
       "       0, 0, 1, 1, 1, 1, 1, 0, 0, 0, 0, 1, 0, 0, 0, 1, 0, 1, 1, 1, 0, 0,\n",
       "       1, 1, 1, 0, 0, 1, 0, 0, 0, 0, 0, 0, 0, 0, 1, 1, 1, 0, 1, 0, 1, 0,\n",
       "       0, 0, 1, 0, 1, 0, 0, 0, 0, 0, 1, 0, 0, 0, 0, 0, 0, 0, 0, 1, 1, 0,\n",
       "       0, 0, 0, 0, 0, 0, 1, 0, 1, 0, 1, 0, 1, 0, 0, 0, 0, 0, 0, 1, 1, 0,\n",
       "       0, 0, 0, 1, 0, 0, 0, 1, 1, 1, 0, 0, 0, 0, 0, 0, 1, 1, 0, 0, 0, 0,\n",
       "       1, 0, 1, 1, 1, 0, 0, 0, 0, 1, 0, 0, 0, 1, 0, 0, 1, 0, 0, 0, 0, 1,\n",
       "       0, 0, 0, 0, 1, 0, 1, 1, 0, 0, 1, 1, 1, 0, 0, 0, 0, 0, 1, 1, 1, 1,\n",
       "       1, 1, 0, 1, 0, 1, 0, 1, 1, 0, 0, 1, 0, 1, 1, 0, 0, 0, 1, 1, 0, 1,\n",
       "       1, 0, 1, 0, 1, 1, 0, 1, 1, 0, 0, 0, 0, 0, 0, 0, 0, 0, 0, 0, 0, 1,\n",
       "       0, 1, 0, 0, 1, 1, 0, 0, 0, 0, 0, 1, 0, 0, 1, 1, 0, 1, 1, 0, 1, 1,\n",
       "       1, 1, 1, 1, 1, 1, 0, 0, 0, 1, 1, 0, 0, 0, 1, 0, 0, 1, 0, 0, 0, 0,\n",
       "       0, 1, 1, 1, 0, 0, 1, 0, 0, 0, 0, 0, 1, 0, 1, 0, 1, 0, 0, 0, 0, 0,\n",
       "       1, 0, 1, 1, 0, 0, 0, 0, 1, 1, 1, 1, 1, 0, 1, 0, 0, 0, 0, 0, 0, 1,\n",
       "       0, 0, 0, 1, 1, 0, 1, 0, 1], dtype=int64)"
      ]
     },
     "execution_count": 33,
     "metadata": {},
     "output_type": "execute_result"
    }
   ],
   "source": [
    "np.argmax(model.predict(X_train_scal),axis=1)"
   ]
  },
  {
   "cell_type": "code",
   "execution_count": 36,
   "id": "19b2232a",
   "metadata": {},
   "outputs": [
    {
     "name": "stdout",
     "output_type": "stream",
     "text": [
      "              precision    recall  f1-score   support\n",
      "\n",
      "           0       0.93      0.88      0.91       358\n",
      "           1       0.79      0.88      0.83       179\n",
      "\n",
      "    accuracy                           0.88       537\n",
      "   macro avg       0.86      0.88      0.87       537\n",
      "weighted avg       0.89      0.88      0.88       537\n",
      "\n"
     ]
    },
    {
     "data": {
      "text/plain": [
       "array([[316,  42],\n",
       "       [ 22, 157]], dtype=int64)"
      ]
     },
     "execution_count": 36,
     "metadata": {},
     "output_type": "execute_result"
    }
   ],
   "source": [
    "from sklearn.metrics import classification_report, confusion_matrix\n",
    "pred_train = np.argmax(model.predict(X_train_scal),axis=1)\n",
    "print(classification_report(np.argmax(y_train,axis=1),pred_train))\n",
    "confusion_matrix(np.argmax(y_train,axis=1),pred_train)"
   ]
  },
  {
   "cell_type": "code",
   "execution_count": 37,
   "id": "active-scottish",
   "metadata": {},
   "outputs": [
    {
     "name": "stdout",
     "output_type": "stream",
     "text": [
      "              precision    recall  f1-score   support\n",
      "\n",
      "           0       0.79      0.72      0.75       142\n",
      "           1       0.61      0.70      0.65        89\n",
      "\n",
      "    accuracy                           0.71       231\n",
      "   macro avg       0.70      0.71      0.70       231\n",
      "weighted avg       0.72      0.71      0.71       231\n",
      "\n"
     ]
    },
    {
     "data": {
      "text/plain": [
       "array([[102,  40],\n",
       "       [ 27,  62]], dtype=int64)"
      ]
     },
     "execution_count": 37,
     "metadata": {},
     "output_type": "execute_result"
    }
   ],
   "source": [
    "from sklearn.metrics import classification_report, confusion_matrix\n",
    "pred_test= np.argmax(model.predict(X_test_scal),axis=1)\n",
    "print(classification_report(np.argmax(y_test,axis=1),pred_test))\n",
    "confusion_matrix(np.argmax(y_test,axis=1),pred_test)"
   ]
  },
  {
   "cell_type": "markdown",
   "id": "coastal-aruba",
   "metadata": {},
   "source": [
    "**Regresión**"
   ]
  },
  {
   "cell_type": "code",
   "execution_count": 38,
   "id": "flexible-platinum",
   "metadata": {},
   "outputs": [
    {
     "data": {
      "text/html": [
       "<div>\n",
       "<style scoped>\n",
       "    .dataframe tbody tr th:only-of-type {\n",
       "        vertical-align: middle;\n",
       "    }\n",
       "\n",
       "    .dataframe tbody tr th {\n",
       "        vertical-align: top;\n",
       "    }\n",
       "\n",
       "    .dataframe thead th {\n",
       "        text-align: right;\n",
       "    }\n",
       "</style>\n",
       "<table border=\"1\" class=\"dataframe\">\n",
       "  <thead>\n",
       "    <tr style=\"text-align: right;\">\n",
       "      <th></th>\n",
       "      <th>MedInc</th>\n",
       "      <th>HouseAge</th>\n",
       "      <th>AveRooms</th>\n",
       "      <th>AveBedrms</th>\n",
       "      <th>Population</th>\n",
       "      <th>AveOccup</th>\n",
       "      <th>Latitude</th>\n",
       "      <th>Longitude</th>\n",
       "      <th>target</th>\n",
       "    </tr>\n",
       "  </thead>\n",
       "  <tbody>\n",
       "    <tr>\n",
       "      <th>0</th>\n",
       "      <td>8.3252</td>\n",
       "      <td>41.0</td>\n",
       "      <td>6.984127</td>\n",
       "      <td>1.023810</td>\n",
       "      <td>322.0</td>\n",
       "      <td>2.555556</td>\n",
       "      <td>37.88</td>\n",
       "      <td>-122.23</td>\n",
       "      <td>4.526</td>\n",
       "    </tr>\n",
       "    <tr>\n",
       "      <th>1</th>\n",
       "      <td>8.3014</td>\n",
       "      <td>21.0</td>\n",
       "      <td>6.238137</td>\n",
       "      <td>0.971880</td>\n",
       "      <td>2401.0</td>\n",
       "      <td>2.109842</td>\n",
       "      <td>37.86</td>\n",
       "      <td>-122.22</td>\n",
       "      <td>3.585</td>\n",
       "    </tr>\n",
       "    <tr>\n",
       "      <th>2</th>\n",
       "      <td>7.2574</td>\n",
       "      <td>52.0</td>\n",
       "      <td>8.288136</td>\n",
       "      <td>1.073446</td>\n",
       "      <td>496.0</td>\n",
       "      <td>2.802260</td>\n",
       "      <td>37.85</td>\n",
       "      <td>-122.24</td>\n",
       "      <td>3.521</td>\n",
       "    </tr>\n",
       "    <tr>\n",
       "      <th>3</th>\n",
       "      <td>5.6431</td>\n",
       "      <td>52.0</td>\n",
       "      <td>5.817352</td>\n",
       "      <td>1.073059</td>\n",
       "      <td>558.0</td>\n",
       "      <td>2.547945</td>\n",
       "      <td>37.85</td>\n",
       "      <td>-122.25</td>\n",
       "      <td>3.413</td>\n",
       "    </tr>\n",
       "    <tr>\n",
       "      <th>4</th>\n",
       "      <td>3.8462</td>\n",
       "      <td>52.0</td>\n",
       "      <td>6.281853</td>\n",
       "      <td>1.081081</td>\n",
       "      <td>565.0</td>\n",
       "      <td>2.181467</td>\n",
       "      <td>37.85</td>\n",
       "      <td>-122.25</td>\n",
       "      <td>3.422</td>\n",
       "    </tr>\n",
       "  </tbody>\n",
       "</table>\n",
       "</div>"
      ],
      "text/plain": [
       "   MedInc  HouseAge  AveRooms  AveBedrms  Population  AveOccup  Latitude  \\\n",
       "0  8.3252      41.0  6.984127   1.023810       322.0  2.555556     37.88   \n",
       "1  8.3014      21.0  6.238137   0.971880      2401.0  2.109842     37.86   \n",
       "2  7.2574      52.0  8.288136   1.073446       496.0  2.802260     37.85   \n",
       "3  5.6431      52.0  5.817352   1.073059       558.0  2.547945     37.85   \n",
       "4  3.8462      52.0  6.281853   1.081081       565.0  2.181467     37.85   \n",
       "\n",
       "   Longitude  target  \n",
       "0    -122.23   4.526  \n",
       "1    -122.22   3.585  \n",
       "2    -122.24   3.521  \n",
       "3    -122.25   3.413  \n",
       "4    -122.25   3.422  "
      ]
     },
     "execution_count": 38,
     "metadata": {},
     "output_type": "execute_result"
    }
   ],
   "source": [
    "# Cargamos datos\n",
    "from sklearn.datasets import fetch_california_housing\n",
    "from sklearn.model_selection import train_test_split\n",
    "from sklearn.preprocessing import MinMaxScaler\n",
    "\n",
    "housing = fetch_california_housing()\n",
    "df = pd.DataFrame(housing.data, columns = housing.feature_names)\n",
    "df['target'] = housing['target']\n",
    "df.head()"
   ]
  },
  {
   "cell_type": "markdown",
   "id": "incorporate-creation",
   "metadata": {},
   "source": [
    "En este ejemplo, preparamos nuestro conjunto de validación"
   ]
  },
  {
   "cell_type": "code",
   "execution_count": 40,
   "id": "express-orientation",
   "metadata": {},
   "outputs": [],
   "source": [
    "X_train_full, X_test, y_train_full, y_test = train_test_split(housing.data,\n",
    "                                                             housing.target)\n",
    "\n",
    "X_train, X_valid, y_train, y_valid = train_test_split(X_train_full, y_train_full)\n",
    "\n",
    "scaler = MinMaxScaler()\n",
    "scaler2 = MinMaxScaler()\n",
    "\n",
    "X_train = scaler.fit_transform(X_train)\n",
    "X_valid = scaler.transform(X_valid)\n",
    "X_test = scaler.transform(X_test)\n",
    "\n",
    "y_train = scaler2.fit_transform(y_train.reshape(-1, 1))\n",
    "y_valid = scaler2.transform(y_valid.reshape(-1, 1))"
   ]
  },
  {
   "cell_type": "code",
   "execution_count": 44,
   "id": "biological-seeking",
   "metadata": {},
   "outputs": [
    {
     "data": {
      "text/plain": [
       "(11610, 8)"
      ]
     },
     "execution_count": 44,
     "metadata": {},
     "output_type": "execute_result"
    }
   ],
   "source": [
    "X_train.shape"
   ]
  },
  {
   "cell_type": "markdown",
   "id": "enhanced-credits",
   "metadata": {},
   "source": [
    "Montamos el modelo. Simplemente se compondrá de una hidden layer, a la que le configuramos una capa previa de entrada de 8 neuronas (las features).\n",
    "\n",
    "Se trata de un modelo de regresión, por lo que la capa de salida es una única neurona."
   ]
  },
  {
   "cell_type": "code",
   "execution_count": 46,
   "id": "worse-consolidation",
   "metadata": {
    "scrolled": true
   },
   "outputs": [
    {
     "name": "stdout",
     "output_type": "stream",
     "text": [
      "WARNING:tensorflow:From C:\\Users\\rzambrano\\Anaconda3\\envs\\general\\lib\\site-packages\\tensorflow\\python\\ops\\init_ops.py:1251: calling VarianceScaling.__init__ (from tensorflow.python.ops.init_ops) with dtype is deprecated and will be removed in a future version.\n",
      "Instructions for updating:\n",
      "Call initializer instance with the dtype argument instead of passing it to the constructor\n",
      "Train on 11610 samples, validate on 3870 samples\n",
      "Epoch 1/50\n",
      "11610/11610 [==============================] - 9s 740us/sample - loss: 0.0549 - val_loss: 0.0289\n",
      "Epoch 2/50\n",
      "11610/11610 [==============================] - 8s 697us/sample - loss: 0.0288 - val_loss: 0.0264\n",
      "Epoch 3/50\n",
      "11610/11610 [==============================] - 8s 657us/sample - loss: 0.0272 - val_loss: 0.0254\n",
      "Epoch 4/50\n",
      "11610/11610 [==============================] - 5s 452us/sample - loss: 0.0263 - val_loss: 0.0247 \n",
      "Epoch 5/50\n",
      "11610/11610 [==============================] - 10s 901us/sample - loss: 0.0255 - val_loss: 0.0237 - ETA: 2s -  - ETA: \n",
      "Epoch 6/50\n",
      "11610/11610 [==============================] - 5s 465us/sample - loss: 0.0249 - val_loss: 0.0233lo\n",
      "Epoch 7/50\n",
      "11610/11610 [==============================] - 7s 630us/sample - loss: 0.0244 - val_loss: 0.0227\n",
      "Epoch 8/50\n",
      "11610/11610 [==============================] - 6s 533us/sample - loss: 0.0240 - val_loss: 0.0229\n",
      "Epoch 9/50\n",
      "11610/11610 [==============================] - 7s 594us/sample - loss: 0.0238 - val_loss: 0.0220 0s - loss: 0.0\n",
      "Epoch 10/50\n",
      "11610/11610 [==============================] - 7s 593us/sample - loss: 0.0235 - val_loss: 0.0221TA: 5s - loss: 0.0 - ETA: 5s - ETA: 5s - loss: 0 - ETA: 4s - loss: 0.02 - ETA: 4s - loss: 0.0 - ETA: 4s - loss: 0.0 - ET - ETA: 2s - loss:  - ETA: 2s - ETA: 1s - loss: 0.02 - ETA: 1s - loss:  - ETA: 0s - loss: 0.0 - ETA: 0s - l\n",
      "Epoch 11/50\n",
      "11610/11610 [==============================] - 7s 581us/sample - loss: 0.0234 - val_loss: 0.0224\n",
      "Epoch 12/50\n",
      "11610/11610 [==============================] - 6s 557us/sample - loss: 0.0233 - val_loss: 0.0214\n",
      "Epoch 13/50\n",
      "11610/11610 [==============================] - 10s 869us/sample - loss: 0.0231 - val_loss: 0.0219.0 - ETA: 0s - loss: - ETA: 0s - loss: 0.\n",
      "Epoch 14/50\n",
      "11610/11610 [==============================] - 6s 485us/sample - loss: 0.0231 - val_loss: 0.0213oss: 0.02 - ETA: 0s - loss: \n",
      "Epoch 15/50\n",
      "11610/11610 [==============================] - 5s 423us/sample - loss: 0.0231 - val_loss: 0.0213\n",
      "Epoch 16/50\n",
      "11610/11610 [==============================] - 6s 522us/sample - loss: 0.0231 - val_loss: 0.0226\n",
      "Epoch 17/50\n",
      "11610/11610 [==============================] - 5s 464us/sample - loss: 0.0230 - val_loss: 0.0215A: 0s - los - ETA: 0s - loss: 0. - ETA: 0s - loss:  - ETA: 0s - loss: 0\n",
      "Epoch 18/50\n",
      "11610/11610 [==============================] - 2s 132us/sample - loss: 0.0230 - val_loss: 0.0211\n",
      "Epoch 19/50\n",
      "11610/11610 [==============================] - 1s 108us/sample - loss: 0.0230 - val_loss: 0.0211\n",
      "Epoch 20/50\n",
      "11610/11610 [==============================] - 2s 133us/sample - loss: 0.0229 - val_loss: 0.0212\n",
      "Epoch 21/50\n",
      "11610/11610 [==============================] - 1s 113us/sample - loss: 0.0229 - val_loss: 0.0210\n",
      "Epoch 22/50\n",
      "11610/11610 [==============================] - 1s 102us/sample - loss: 0.0229 - val_loss: 0.0215\n",
      "Epoch 23/50\n",
      "11610/11610 [==============================] - 1s 98us/sample - loss: 0.0228 - val_loss: 0.0210\n",
      "Epoch 24/50\n",
      "11610/11610 [==============================] - 1s 121us/sample - loss: 0.0228 - val_loss: 0.0209\n",
      "Epoch 25/50\n",
      "11610/11610 [==============================] - 3s 239us/sample - loss: 0.0228 - val_loss: 0.0210\n",
      "Epoch 26/50\n",
      "11610/11610 [==============================] - 4s 302us/sample - loss: 0.0228 - val_loss: 0.0209: - ETA: 2s - - ETA: 1s - \n",
      "Epoch 27/50\n",
      "11610/11610 [==============================] - 1s 129us/sample - loss: 0.0227 - val_loss: 0.0211\n",
      "Epoch 28/50\n",
      "11610/11610 [==============================] - 2s 131us/sample - loss: 0.0227 - val_loss: 0.0217\n",
      "Epoch 29/50\n",
      "11610/11610 [==============================] - 1s 104us/sample - loss: 0.0228 - val_loss: 0.0212\n",
      "Epoch 30/50\n",
      "11610/11610 [==============================] - 1s 98us/sample - loss: 0.0227 - val_loss: 0.0209\n",
      "Epoch 31/50\n",
      "11610/11610 [==============================] - 1s 102us/sample - loss: 0.0227 - val_loss: 0.0209\n",
      "Epoch 32/50\n",
      "11610/11610 [==============================] - 1s 98us/sample - loss: 0.0227 - val_loss: 0.0208\n",
      "Epoch 33/50\n",
      "11610/11610 [==============================] - 1s 120us/sample - loss: 0.0226 - val_loss: 0.0208\n",
      "Epoch 34/50\n",
      "11610/11610 [==============================] - 1s 116us/sample - loss: 0.0226 - val_loss: 0.0209\n",
      "Epoch 35/50\n",
      "11610/11610 [==============================] - 2s 131us/sample - loss: 0.0227 - val_loss: 0.0207\n",
      "Epoch 36/50\n",
      "11610/11610 [==============================] - 3s 240us/sample - loss: 0.0227 - val_loss: 0.0208-\n",
      "Epoch 37/50\n",
      "11610/11610 [==============================] - 4s 310us/sample - loss: 0.0226 - val_loss: 0.0208\n",
      "Epoch 38/50\n",
      "11610/11610 [==============================] - 6s 479us/sample - loss: 0.0226 - val_loss: 0.0207\n",
      "Epoch 39/50\n",
      "11610/11610 [==============================] - 5s 434us/sample - loss: 0.0225 - val_loss: 0.0208\n",
      "Epoch 40/50\n",
      "11610/11610 [==============================] - 3s 243us/sample - loss: 0.0225 - val_loss: 0.0215\n",
      "Epoch 41/50\n",
      "11610/11610 [==============================] - 3s 257us/sample - loss: 0.0225 - val_loss: 0.0211\n",
      "Epoch 42/50\n",
      "11610/11610 [==============================] - 6s 540us/sample - loss: 0.0225 - val_loss: 0.0210: 4 - ETA: 3s - los - - ETA: 1s - lo - ETA: 1\n",
      "Epoch 43/50\n",
      "11610/11610 [==============================] - 7s 572us/sample - loss: 0.0225 - val_loss: 0.0206TA: 3s - - ETA: 3s - loss: 0. - ETA: 3s - loss: 0.0 - ETA: \n",
      "Epoch 44/50\n",
      "11610/11610 [==============================] - 6s 496us/sample - loss: 0.0225 - val_loss: 0.0207\n",
      "Epoch 45/50\n",
      "11610/11610 [==============================] - 5s 407us/sample - loss: 0.0225 - val_loss: 0.0211\n",
      "Epoch 46/50\n",
      "11610/11610 [==============================] - 5s 394us/sample - loss: 0.0224 - val_loss: 0.0207: 0s \n",
      "Epoch 47/50\n",
      "11610/11610 [==============================] - 7s 597us/sample - loss: 0.0224 - val_loss: 0.0207\n",
      "Epoch 48/50\n",
      "11610/11610 [==============================] - 9s 776us/sample - loss: 0.0224 - val_loss: 0.02061s -  - ETA: 1\n",
      "Epoch 49/50\n",
      "11610/11610 [==============================] - 5s 395us/sample - loss: 0.0223 - val_loss: 0.0208\n",
      "Epoch 50/50\n",
      "11610/11610 [==============================] - 3s 256us/sample - loss: 0.0223 - val_loss: 0.0207\n"
     ]
    }
   ],
   "source": [
    "model = keras.models.Sequential([\n",
    "    keras.layers.Dense(input_shape = X_train.shape[1:],\n",
    "                      units=7,\n",
    "                      activation='tanh'),\n",
    "    keras.layers.Dense(units=1)\n",
    "])\n",
    "\n",
    "model.compile(loss = \"mean_squared_error\", \n",
    "             optimizer=\"adam\")\n",
    "\n",
    "history = model.fit(X_train,\n",
    "                   y_train,\n",
    "                   epochs=50,\n",
    "                   validation_data = (X_valid, y_valid)\n",
    "                   )"
   ]
  },
  {
   "cell_type": "code",
   "execution_count": 47,
   "id": "junior-cambodia",
   "metadata": {},
   "outputs": [
    {
     "data": {
      "image/png": "[encoded data removed]",
      "text/plain": [
       "<Figure size 576x360 with 1 Axes>"
      ]
     },
     "metadata": {
      "needs_background": "light"
     },
     "output_type": "display_data"
    }
   ],
   "source": [
    "import pandas as pd\n",
    "import matplotlib.pyplot as plt\n",
    "\n",
    "pd.DataFrame(history.history).plot(figsize=(8, 5))\n",
    "plt.grid(True)\n",
    "plt.show()"
   ]
  },
  {
   "cell_type": "code",
   "execution_count": 49,
   "id": "protecting-firewall",
   "metadata": {},
   "outputs": [
    {
     "name": "stdout",
     "output_type": "stream",
     "text": [
      "5160/5160 [==============================] - 1s 219us/sample - loss: 3.6415\n",
      "3.6415114558020303\n"
     ]
    },
    {
     "data": {
      "text/plain": [
       "array([[0.2394506 ],\n",
       "       [0.41565105],\n",
       "       [0.15700372],\n",
       "       ...,\n",
       "       [0.7902633 ],\n",
       "       [0.29172844],\n",
       "       [0.3350107 ]], dtype=float32)"
      ]
     },
     "execution_count": 49,
     "metadata": {},
     "output_type": "execute_result"
    }
   ],
   "source": [
    "mse_test = model.evaluate(X_test,y_test)\n",
    "print(mse_test)\n",
    "model.predict(X_test)"
   ]
  },
  {
   "cell_type": "code",
   "execution_count": 50,
   "id": "rural-patrol",
   "metadata": {},
   "outputs": [
    {
     "data": {
      "text/plain": [
       "array([[1.3113302],\n",
       "       [2.165906 ],\n",
       "       [0.9114612],\n",
       "       ...,\n",
       "       [3.9827826],\n",
       "       [1.5648787],\n",
       "       [1.7747985]], dtype=float32)"
      ]
     },
     "execution_count": 50,
     "metadata": {},
     "output_type": "execute_result"
    }
   ],
   "source": [
    "# Predecir en test y desnormalizar\n",
    "pred_test = model.predict(X_test)\n",
    "pred_test2 = scaler2.inverse_transform(pred_test)\n",
    "pred_test2"
   ]
  },
  {
   "cell_type": "code",
   "execution_count": 51,
   "id": "focused-temperature",
   "metadata": {},
   "outputs": [
    {
     "name": "stdout",
     "output_type": "stream",
     "text": [
      "Test ERROR =  0.5018129021592475\n",
      "Test R2 =  0.39612032910325234\n"
     ]
    }
   ],
   "source": [
    "# Medimos desempeño \n",
    "from sklearn.metrics import mean_squared_error, r2_score\n",
    "mse_2 = mean_squared_error(pred_test2,y_test)\n",
    "r2_2 = r2_score(pred_test2,y_test)\n",
    "print (\"Test ERROR = \", mse_2)\n",
    "print (\"Test R2 = \", r2_2)"
   ]
  },
  {
   "cell_type": "code",
   "execution_count": 52,
   "id": "modern-paris",
   "metadata": {},
   "outputs": [
    {
     "data": {
      "text/plain": [
       "<matplotlib.lines._AxLine at 0x124dba3b088>"
      ]
     },
     "execution_count": 52,
     "metadata": {},
     "output_type": "execute_result"
    },
    {
     "data": {
      "image/png": "[encoded data removed]",
      "text/plain": [
       "<Figure size 432x288 with 1 Axes>"
      ]
     },
     "metadata": {
      "needs_background": "light"
     },
     "output_type": "display_data"
    }
   ],
   "source": [
    "import matplotlib.pyplot as plt\n",
    "fig, ax = plt.subplots()\n",
    "plt.plot(pred_test2,y_test,'o')\n",
    "plt.axline([0,0],[1,1],color='red')"
   ]
  },
  {
   "cell_type": "markdown",
   "id": "incomplete-smell",
   "metadata": {},
   "source": [
    "### Guardar modelo\n",
    "Para guardar el modelo, en el formato de Keras (HDF5). "
   ]
  },
  {
   "cell_type": "code",
   "execution_count": 53,
   "id": "verified-appearance",
   "metadata": {},
   "outputs": [],
   "source": [
    "model.save('my_keras_model.h5')"
   ]
  },
  {
   "cell_type": "code",
   "execution_count": 54,
   "id": "infinite-filter",
   "metadata": {},
   "outputs": [
    {
     "name": "stdout",
     "output_type": "stream",
     "text": [
      "WARNING:tensorflow:From C:\\Users\\rzambrano\\Anaconda3\\envs\\general\\lib\\site-packages\\tensorflow\\python\\ops\\init_ops.py:97: calling GlorotUniform.__init__ (from tensorflow.python.ops.init_ops) with dtype is deprecated and will be removed in a future version.\n",
      "Instructions for updating:\n",
      "Call initializer instance with the dtype argument instead of passing it to the constructor\n",
      "WARNING:tensorflow:From C:\\Users\\rzambrano\\Anaconda3\\envs\\general\\lib\\site-packages\\tensorflow\\python\\ops\\init_ops.py:97: calling Zeros.__init__ (from tensorflow.python.ops.init_ops) with dtype is deprecated and will be removed in a future version.\n",
      "Instructions for updating:\n",
      "Call initializer instance with the dtype argument instead of passing it to the constructor\n"
     ]
    }
   ],
   "source": [
    "# Lo volvemos a cargar\n",
    "model = keras.models.load_model('my_keras_model.h5')"
   ]
  },
  {
   "cell_type": "markdown",
   "id": "ready-beach",
   "metadata": {},
   "source": [
    "### Callbacks\n",
    "Son funciones predefinidas de Keras a aplicar durante el entrenamiento\n",
    "Por ejemplo, `ModelCheckpoint` sirve para que el modelo se vaya guardando tras cada epoch. Así no perdemos el progreso en caso de que decidamos interrumpir el entrenamiento. El callback recibe como argumento el nombre del objeto donde queremos que se guarde el modelo entrenado."
   ]
  },
  {
   "cell_type": "code",
   "execution_count": 56,
   "id": "banner-palace",
   "metadata": {},
   "outputs": [
    {
     "name": "stdout",
     "output_type": "stream",
     "text": [
      "Epoch 1/20\n",
      "11610/11610 [==============================] - 4s 386us/sample - loss: 0.0223s - loss:\n",
      "Epoch 2/20\n",
      "11610/11610 [==============================] - 5s 392us/sample - loss: 0.0223s - loss: - E - ETA: 0s - los\n",
      "Epoch 3/20\n",
      "11610/11610 [==============================] - 5s 397us/sample - loss: 0.0223\n",
      "Epoch 4/20\n",
      "11610/11610 [==============================] - 3s 239us/sample - loss: 0.0222\n",
      "Epoch 5/20\n",
      "11610/11610 [==============================] - 3s 243us/sample - loss: 0.0223s  - ETA: 0s - loss:\n",
      "Epoch 6/20\n",
      "11610/11610 [==============================] - 2s 192us/sample - loss: 0.0223\n",
      "Epoch 7/20\n",
      "11610/11610 [==============================] - 2s 174us/sample - loss: 0.0222\n",
      "Epoch 8/20\n",
      "11610/11610 [==============================] - 2s 182us/sample - loss: 0.0222\n",
      "Epoch 9/20\n",
      "11610/11610 [==============================] - 3s 288us/sample - loss: 0.0222TA: 0s - loss: 0\n",
      "Epoch 10/20\n",
      "11610/11610 [==============================] - 4s 354us/sample - loss: 0.0221\n",
      "Epoch 11/20\n",
      "11610/11610 [==============================] - 8s 699us/sample - loss: 0.0221\n",
      "Epoch 12/20\n",
      "11610/11610 [==============================] - 7s 567us/sample - loss: 0.0220s - los - E\n",
      "Epoch 13/20\n",
      "11610/11610 [==============================] - 8s 678us/sample - loss: 0.0221\n",
      "Epoch 14/20\n",
      "11610/11610 [==============================] - 6s 552us/sample - loss: 0.0221s - \n",
      "Epoch 15/20\n",
      "11610/11610 [==============================] - 6s 490us/sample - loss: 0.0220: \n",
      "Epoch 16/20\n",
      "11610/11610 [==============================] - 2s 176us/sample - loss: 0.0220\n",
      "Epoch 17/20\n",
      "11610/11610 [==============================] - 2s 185us/sample - loss: 0.0220\n",
      "Epoch 18/20\n",
      "11610/11610 [==============================] - 2s 209us/sample - loss: 0.0219-\n",
      "Epoch 19/20\n",
      "11610/11610 [==============================] - 3s 226us/sample - loss: 0.0219\n",
      "Epoch 20/20\n",
      "11610/11610 [==============================] - 4s 353us/sample - loss: 0.0219\n"
     ]
    }
   ],
   "source": [
    "checkpoint_cb = keras.callbacks.ModelCheckpoint(\"callback_model.h5\")\n",
    "\n",
    "history = model.fit(\n",
    "    X_train,\n",
    "    y_train,\n",
    "    epochs=20,\n",
    "    callbacks = [checkpoint_cb]\n",
    ")"
   ]
  },
  {
   "cell_type": "markdown",
   "id": "precious-settlement",
   "metadata": {},
   "source": [
    "### Early Stopping\n",
    "Interrumpe el entrenamiento cuando no ve progreso en el set de validación. Para ello tiene en cuenta un numero de epochs llamado `patience`. Se puede combinar con el callback"
   ]
  },
  {
   "cell_type": "code",
   "execution_count": 57,
   "id": "labeled-irrigation",
   "metadata": {
    "scrolled": true
   },
   "outputs": [
    {
     "name": "stdout",
     "output_type": "stream",
     "text": [
      "Train on 11610 samples, validate on 3870 samples\n",
      "Epoch 1/100\n",
      "11610/11610 [==============================] - 7s 614us/sample - loss: 0.0219 - val_loss: 0.0200\n",
      "Epoch 2/100\n",
      "11610/11610 [==============================] - 6s 555us/sample - loss: 0.0219 - val_loss: 0.0203 - loss: 0. - ET\n",
      "Epoch 3/100\n",
      "11610/11610 [==============================] - 7s 639us/sample - loss: 0.0217 - val_loss: 0.0200\n",
      "Epoch 4/100\n",
      "11610/11610 [==============================] - 8s 647us/sample - loss: 0.0218 - val_loss: 0.0201\n"
     ]
    }
   ],
   "source": [
    "early_stopping_cb = keras.callbacks.EarlyStopping(patience = 3,\n",
    "                                                 restore_best_weights=True)\n",
    "\n",
    "history = model.fit(\n",
    "    X_train,\n",
    "    y_train,\n",
    "    epochs=100,\n",
    "    callbacks = [checkpoint_cb, early_stopping_cb],\n",
    "    validation_data = (X_valid, y_valid)\n",
    ")"
   ]
  }
 ],
 "metadata": {
  "kernelspec": {
   "display_name": "Python 3",
   "language": "python",
   "name": "python3"
  },
  "language_info": {
   "codemirror_mode": {
    "name": "ipython",
    "version": 3
   },
   "file_extension": ".py",
   "mimetype": "text/x-python",
   "name": "python",
   "nbconvert_exporter": "python",
   "pygments_lexer": "ipython3",
   "version": "3.7.10"
  }
 },
 "nbformat": 4,
 "nbformat_minor": 5
}
