{
 "cells": [
  {
   "cell_type": "markdown",
   "id": "little-inside",
   "metadata": {},
   "source": [
    "Se quiere utilizar una red neuronal para predecir el número de usuarios que utilizarán un servicio de bicicletas públicas en una ciudad.  \n",
    "\n",
    "El dataset “day.csv” se encuentra disponible en el siguiente enlace, donde también se describe cada una de las variables:\n",
    "https://code.datasciencedojo.com/datasciencedojo/datasets/tree/master/Bike%20Sharing  \n",
    "\n",
    "**SE PIDE:**\n",
    "Implementar una única red neuronal para predecir el uso de bicicletas de usuarios registrados (columna “registered”) y usuarios casuales (columna “casual”).  \n",
    "Para ello:  \n",
    "1)\tSelecciona las variables que creas que puedan relacionarse con el objetivo  \n",
    "2)\tTransforma y prepara las variables para poder entrenar la red neuronal  \n",
    "3)\tDivide el conjunto de datos en entrenamiento (80%) y test (20%) con random_state=123  \n",
    "4)\tDiseña y entrena la red neuronal  \n",
    "5)\tMide el desempeño para cada una de las variables de salida.  \n",
    "\n",
    "¿En qué día del conjunto de test el modelo presenta más error para usuarios registrados y casuales?\n",
    "\n"
   ]
  },
  {
   "cell_type": "code",
   "execution_count": 1,
   "id": "integrated-interstate",
   "metadata": {},
   "outputs": [],
   "source": [
    "import pandas as pd\n",
    "import numpy as np\n",
    "\n",
    "day = pd.read_csv('day.csv')"
   ]
  },
  {
   "cell_type": "code",
   "execution_count": 2,
   "id": "83261f24",
   "metadata": {},
   "outputs": [
    {
     "data": {
      "text/html": [
       "<div>\n",
       "<style scoped>\n",
       "    .dataframe tbody tr th:only-of-type {\n",
       "        vertical-align: middle;\n",
       "    }\n",
       "\n",
       "    .dataframe tbody tr th {\n",
       "        vertical-align: top;\n",
       "    }\n",
       "\n",
       "    .dataframe thead th {\n",
       "        text-align: right;\n",
       "    }\n",
       "</style>\n",
       "<table border=\"1\" class=\"dataframe\">\n",
       "  <thead>\n",
       "    <tr style=\"text-align: right;\">\n",
       "      <th></th>\n",
       "      <th>instant</th>\n",
       "      <th>dteday</th>\n",
       "      <th>season</th>\n",
       "      <th>yr</th>\n",
       "      <th>mnth</th>\n",
       "      <th>holiday</th>\n",
       "      <th>weekday</th>\n",
       "      <th>workingday</th>\n",
       "      <th>weathersit</th>\n",
       "      <th>temp</th>\n",
       "      <th>atemp</th>\n",
       "      <th>hum</th>\n",
       "      <th>windspeed</th>\n",
       "      <th>casual</th>\n",
       "      <th>registered</th>\n",
       "      <th>cnt</th>\n",
       "    </tr>\n",
       "  </thead>\n",
       "  <tbody>\n",
       "    <tr>\n",
       "      <th>23</th>\n",
       "      <td>24</td>\n",
       "      <td>2011-01-24</td>\n",
       "      <td>1</td>\n",
       "      <td>0</td>\n",
       "      <td>1</td>\n",
       "      <td>0</td>\n",
       "      <td>1</td>\n",
       "      <td>1</td>\n",
       "      <td>1</td>\n",
       "      <td>0.097391</td>\n",
       "      <td>0.117930</td>\n",
       "      <td>0.491739</td>\n",
       "      <td>0.158330</td>\n",
       "      <td>86</td>\n",
       "      <td>1330</td>\n",
       "      <td>1416</td>\n",
       "    </tr>\n",
       "    <tr>\n",
       "      <th>3</th>\n",
       "      <td>4</td>\n",
       "      <td>2011-01-04</td>\n",
       "      <td>1</td>\n",
       "      <td>0</td>\n",
       "      <td>1</td>\n",
       "      <td>0</td>\n",
       "      <td>2</td>\n",
       "      <td>1</td>\n",
       "      <td>1</td>\n",
       "      <td>0.200000</td>\n",
       "      <td>0.212122</td>\n",
       "      <td>0.590435</td>\n",
       "      <td>0.160296</td>\n",
       "      <td>108</td>\n",
       "      <td>1454</td>\n",
       "      <td>1562</td>\n",
       "    </tr>\n",
       "    <tr>\n",
       "      <th>169</th>\n",
       "      <td>170</td>\n",
       "      <td>2011-06-19</td>\n",
       "      <td>2</td>\n",
       "      <td>0</td>\n",
       "      <td>6</td>\n",
       "      <td>0</td>\n",
       "      <td>0</td>\n",
       "      <td>0</td>\n",
       "      <td>2</td>\n",
       "      <td>0.699167</td>\n",
       "      <td>0.645846</td>\n",
       "      <td>0.666667</td>\n",
       "      <td>0.102000</td>\n",
       "      <td>1639</td>\n",
       "      <td>3105</td>\n",
       "      <td>4744</td>\n",
       "    </tr>\n",
       "    <tr>\n",
       "      <th>398</th>\n",
       "      <td>399</td>\n",
       "      <td>2012-02-03</td>\n",
       "      <td>1</td>\n",
       "      <td>1</td>\n",
       "      <td>2</td>\n",
       "      <td>0</td>\n",
       "      <td>5</td>\n",
       "      <td>1</td>\n",
       "      <td>1</td>\n",
       "      <td>0.313333</td>\n",
       "      <td>0.309346</td>\n",
       "      <td>0.526667</td>\n",
       "      <td>0.178496</td>\n",
       "      <td>310</td>\n",
       "      <td>3841</td>\n",
       "      <td>4151</td>\n",
       "    </tr>\n",
       "  </tbody>\n",
       "</table>\n",
       "</div>"
      ],
      "text/plain": [
       "     instant      dteday  season  yr  mnth  holiday  weekday  workingday  \\\n",
       "23        24  2011-01-24       1   0     1        0        1           1   \n",
       "3          4  2011-01-04       1   0     1        0        2           1   \n",
       "169      170  2011-06-19       2   0     6        0        0           0   \n",
       "398      399  2012-02-03       1   1     2        0        5           1   \n",
       "\n",
       "     weathersit      temp     atemp       hum  windspeed  casual  registered  \\\n",
       "23            1  0.097391  0.117930  0.491739   0.158330      86        1330   \n",
       "3             1  0.200000  0.212122  0.590435   0.160296     108        1454   \n",
       "169           2  0.699167  0.645846  0.666667   0.102000    1639        3105   \n",
       "398           1  0.313333  0.309346  0.526667   0.178496     310        3841   \n",
       "\n",
       "      cnt  \n",
       "23   1416  \n",
       "3    1562  \n",
       "169  4744  \n",
       "398  4151  "
      ]
     },
     "execution_count": 2,
     "metadata": {},
     "output_type": "execute_result"
    }
   ],
   "source": [
    "day.sample(4)"
   ]
  },
  {
   "cell_type": "code",
   "execution_count": 4,
   "id": "fd3f037a",
   "metadata": {},
   "outputs": [],
   "source": [
    "from sklearn.model_selection import train_test_split\n",
    "X = day[['season','yr','mnth','holiday','weekday','workingday',\n",
    "        'weathersit','temp','atemp','hum','windspeed']]\n",
    "y = day[['casual','registered']]\n",
    "\n",
    "X_train, X_test, y_train, y_test = train_test_split(X,y,test_size=0.2,\n",
    "                                                   random_state=123)"
   ]
  },
  {
   "cell_type": "code",
   "execution_count": 9,
   "id": "87099864",
   "metadata": {},
   "outputs": [
    {
     "data": {
      "text/plain": [
       "(584, 11)"
      ]
     },
     "execution_count": 9,
     "metadata": {},
     "output_type": "execute_result"
    }
   ],
   "source": [
    "X_train.shape"
   ]
  },
  {
   "cell_type": "code",
   "execution_count": 6,
   "id": "7536e11d",
   "metadata": {},
   "outputs": [
    {
     "data": {
      "text/html": [
       "<div>\n",
       "<style scoped>\n",
       "    .dataframe tbody tr th:only-of-type {\n",
       "        vertical-align: middle;\n",
       "    }\n",
       "\n",
       "    .dataframe tbody tr th {\n",
       "        vertical-align: top;\n",
       "    }\n",
       "\n",
       "    .dataframe thead th {\n",
       "        text-align: right;\n",
       "    }\n",
       "</style>\n",
       "<table border=\"1\" class=\"dataframe\">\n",
       "  <thead>\n",
       "    <tr style=\"text-align: right;\">\n",
       "      <th></th>\n",
       "      <th>season</th>\n",
       "      <th>yr</th>\n",
       "      <th>mnth</th>\n",
       "      <th>holiday</th>\n",
       "      <th>weekday</th>\n",
       "      <th>workingday</th>\n",
       "      <th>weathersit</th>\n",
       "      <th>temp</th>\n",
       "      <th>atemp</th>\n",
       "      <th>hum</th>\n",
       "      <th>windspeed</th>\n",
       "      <th>casual</th>\n",
       "      <th>registered</th>\n",
       "    </tr>\n",
       "  </thead>\n",
       "  <tbody>\n",
       "    <tr>\n",
       "      <th>season</th>\n",
       "      <td>1.000000</td>\n",
       "      <td>0.001772</td>\n",
       "      <td>0.822845</td>\n",
       "      <td>-0.010066</td>\n",
       "      <td>-0.036938</td>\n",
       "      <td>0.011581</td>\n",
       "      <td>-0.006740</td>\n",
       "      <td>0.337351</td>\n",
       "      <td>0.346806</td>\n",
       "      <td>0.217442</td>\n",
       "      <td>-0.238207</td>\n",
       "      <td>0.213493</td>\n",
       "      <td>0.416023</td>\n",
       "    </tr>\n",
       "    <tr>\n",
       "      <th>yr</th>\n",
       "      <td>0.001772</td>\n",
       "      <td>1.000000</td>\n",
       "      <td>-0.001459</td>\n",
       "      <td>-0.011965</td>\n",
       "      <td>0.018720</td>\n",
       "      <td>-0.022242</td>\n",
       "      <td>-0.019963</td>\n",
       "      <td>0.073277</td>\n",
       "      <td>0.071204</td>\n",
       "      <td>-0.085142</td>\n",
       "      <td>-0.042130</td>\n",
       "      <td>0.258478</td>\n",
       "      <td>0.581260</td>\n",
       "    </tr>\n",
       "    <tr>\n",
       "      <th>mnth</th>\n",
       "      <td>0.822845</td>\n",
       "      <td>-0.001459</td>\n",
       "      <td>1.000000</td>\n",
       "      <td>-0.004058</td>\n",
       "      <td>-0.025541</td>\n",
       "      <td>-0.006635</td>\n",
       "      <td>0.013106</td>\n",
       "      <td>0.216033</td>\n",
       "      <td>0.224360</td>\n",
       "      <td>0.227032</td>\n",
       "      <td>-0.216125</td>\n",
       "      <td>0.120952</td>\n",
       "      <td>0.294245</td>\n",
       "    </tr>\n",
       "    <tr>\n",
       "      <th>holiday</th>\n",
       "      <td>-0.010066</td>\n",
       "      <td>-0.011965</td>\n",
       "      <td>-0.004058</td>\n",
       "      <td>1.000000</td>\n",
       "      <td>-0.107472</td>\n",
       "      <td>-0.251305</td>\n",
       "      <td>-0.033590</td>\n",
       "      <td>-0.002097</td>\n",
       "      <td>-0.007361</td>\n",
       "      <td>-0.018828</td>\n",
       "      <td>0.010098</td>\n",
       "      <td>0.077035</td>\n",
       "      <td>-0.098624</td>\n",
       "    </tr>\n",
       "    <tr>\n",
       "      <th>weekday</th>\n",
       "      <td>-0.036938</td>\n",
       "      <td>0.018720</td>\n",
       "      <td>-0.025541</td>\n",
       "      <td>-0.107472</td>\n",
       "      <td>1.000000</td>\n",
       "      <td>0.025443</td>\n",
       "      <td>0.058395</td>\n",
       "      <td>-0.013127</td>\n",
       "      <td>-0.023750</td>\n",
       "      <td>-0.054774</td>\n",
       "      <td>0.027333</td>\n",
       "      <td>0.053688</td>\n",
       "      <td>0.063013</td>\n",
       "    </tr>\n",
       "    <tr>\n",
       "      <th>workingday</th>\n",
       "      <td>0.011581</td>\n",
       "      <td>-0.022242</td>\n",
       "      <td>-0.006635</td>\n",
       "      <td>-0.251305</td>\n",
       "      <td>0.025443</td>\n",
       "      <td>1.000000</td>\n",
       "      <td>0.068909</td>\n",
       "      <td>0.051184</td>\n",
       "      <td>0.052418</td>\n",
       "      <td>0.029314</td>\n",
       "      <td>-0.029305</td>\n",
       "      <td>-0.517072</td>\n",
       "      <td>0.294984</td>\n",
       "    </tr>\n",
       "    <tr>\n",
       "      <th>weathersit</th>\n",
       "      <td>-0.006740</td>\n",
       "      <td>-0.019963</td>\n",
       "      <td>0.013106</td>\n",
       "      <td>-0.033590</td>\n",
       "      <td>0.058395</td>\n",
       "      <td>0.068909</td>\n",
       "      <td>1.000000</td>\n",
       "      <td>-0.144479</td>\n",
       "      <td>-0.140343</td>\n",
       "      <td>0.575957</td>\n",
       "      <td>0.051818</td>\n",
       "      <td>-0.246773</td>\n",
       "      <td>-0.266768</td>\n",
       "    </tr>\n",
       "    <tr>\n",
       "      <th>temp</th>\n",
       "      <td>0.337351</td>\n",
       "      <td>0.073277</td>\n",
       "      <td>0.216033</td>\n",
       "      <td>-0.002097</td>\n",
       "      <td>-0.013127</td>\n",
       "      <td>0.051184</td>\n",
       "      <td>-0.144479</td>\n",
       "      <td>1.000000</td>\n",
       "      <td>0.990494</td>\n",
       "      <td>0.117457</td>\n",
       "      <td>-0.151653</td>\n",
       "      <td>0.560583</td>\n",
       "      <td>0.568824</td>\n",
       "    </tr>\n",
       "    <tr>\n",
       "      <th>atemp</th>\n",
       "      <td>0.346806</td>\n",
       "      <td>0.071204</td>\n",
       "      <td>0.224360</td>\n",
       "      <td>-0.007361</td>\n",
       "      <td>-0.023750</td>\n",
       "      <td>0.052418</td>\n",
       "      <td>-0.140343</td>\n",
       "      <td>0.990494</td>\n",
       "      <td>1.000000</td>\n",
       "      <td>0.135134</td>\n",
       "      <td>-0.180357</td>\n",
       "      <td>0.558974</td>\n",
       "      <td>0.572362</td>\n",
       "    </tr>\n",
       "    <tr>\n",
       "      <th>hum</th>\n",
       "      <td>0.217442</td>\n",
       "      <td>-0.085142</td>\n",
       "      <td>0.227032</td>\n",
       "      <td>-0.018828</td>\n",
       "      <td>-0.054774</td>\n",
       "      <td>0.029314</td>\n",
       "      <td>0.575957</td>\n",
       "      <td>0.117457</td>\n",
       "      <td>0.135134</td>\n",
       "      <td>1.000000</td>\n",
       "      <td>-0.253027</td>\n",
       "      <td>-0.069307</td>\n",
       "      <td>-0.084881</td>\n",
       "    </tr>\n",
       "    <tr>\n",
       "      <th>windspeed</th>\n",
       "      <td>-0.238207</td>\n",
       "      <td>-0.042130</td>\n",
       "      <td>-0.216125</td>\n",
       "      <td>0.010098</td>\n",
       "      <td>0.027333</td>\n",
       "      <td>-0.029305</td>\n",
       "      <td>0.051818</td>\n",
       "      <td>-0.151653</td>\n",
       "      <td>-0.180357</td>\n",
       "      <td>-0.253027</td>\n",
       "      <td>1.000000</td>\n",
       "      <td>-0.186641</td>\n",
       "      <td>-0.241537</td>\n",
       "    </tr>\n",
       "    <tr>\n",
       "      <th>casual</th>\n",
       "      <td>0.213493</td>\n",
       "      <td>0.258478</td>\n",
       "      <td>0.120952</td>\n",
       "      <td>0.077035</td>\n",
       "      <td>0.053688</td>\n",
       "      <td>-0.517072</td>\n",
       "      <td>-0.246773</td>\n",
       "      <td>0.560583</td>\n",
       "      <td>0.558974</td>\n",
       "      <td>-0.069307</td>\n",
       "      <td>-0.186641</td>\n",
       "      <td>1.000000</td>\n",
       "      <td>0.404438</td>\n",
       "    </tr>\n",
       "    <tr>\n",
       "      <th>registered</th>\n",
       "      <td>0.416023</td>\n",
       "      <td>0.581260</td>\n",
       "      <td>0.294245</td>\n",
       "      <td>-0.098624</td>\n",
       "      <td>0.063013</td>\n",
       "      <td>0.294984</td>\n",
       "      <td>-0.266768</td>\n",
       "      <td>0.568824</td>\n",
       "      <td>0.572362</td>\n",
       "      <td>-0.084881</td>\n",
       "      <td>-0.241537</td>\n",
       "      <td>0.404438</td>\n",
       "      <td>1.000000</td>\n",
       "    </tr>\n",
       "  </tbody>\n",
       "</table>\n",
       "</div>"
      ],
      "text/plain": [
       "              season        yr      mnth   holiday   weekday  workingday  \\\n",
       "season      1.000000  0.001772  0.822845 -0.010066 -0.036938    0.011581   \n",
       "yr          0.001772  1.000000 -0.001459 -0.011965  0.018720   -0.022242   \n",
       "mnth        0.822845 -0.001459  1.000000 -0.004058 -0.025541   -0.006635   \n",
       "holiday    -0.010066 -0.011965 -0.004058  1.000000 -0.107472   -0.251305   \n",
       "weekday    -0.036938  0.018720 -0.025541 -0.107472  1.000000    0.025443   \n",
       "workingday  0.011581 -0.022242 -0.006635 -0.251305  0.025443    1.000000   \n",
       "weathersit -0.006740 -0.019963  0.013106 -0.033590  0.058395    0.068909   \n",
       "temp        0.337351  0.073277  0.216033 -0.002097 -0.013127    0.051184   \n",
       "atemp       0.346806  0.071204  0.224360 -0.007361 -0.023750    0.052418   \n",
       "hum         0.217442 -0.085142  0.227032 -0.018828 -0.054774    0.029314   \n",
       "windspeed  -0.238207 -0.042130 -0.216125  0.010098  0.027333   -0.029305   \n",
       "casual      0.213493  0.258478  0.120952  0.077035  0.053688   -0.517072   \n",
       "registered  0.416023  0.581260  0.294245 -0.098624  0.063013    0.294984   \n",
       "\n",
       "            weathersit      temp     atemp       hum  windspeed    casual  \\\n",
       "season       -0.006740  0.337351  0.346806  0.217442  -0.238207  0.213493   \n",
       "yr           -0.019963  0.073277  0.071204 -0.085142  -0.042130  0.258478   \n",
       "mnth          0.013106  0.216033  0.224360  0.227032  -0.216125  0.120952   \n",
       "holiday      -0.033590 -0.002097 -0.007361 -0.018828   0.010098  0.077035   \n",
       "weekday       0.058395 -0.013127 -0.023750 -0.054774   0.027333  0.053688   \n",
       "workingday    0.068909  0.051184  0.052418  0.029314  -0.029305 -0.517072   \n",
       "weathersit    1.000000 -0.144479 -0.140343  0.575957   0.051818 -0.246773   \n",
       "temp         -0.144479  1.000000  0.990494  0.117457  -0.151653  0.560583   \n",
       "atemp        -0.140343  0.990494  1.000000  0.135134  -0.180357  0.558974   \n",
       "hum           0.575957  0.117457  0.135134  1.000000  -0.253027 -0.069307   \n",
       "windspeed     0.051818 -0.151653 -0.180357 -0.253027   1.000000 -0.186641   \n",
       "casual       -0.246773  0.560583  0.558974 -0.069307  -0.186641  1.000000   \n",
       "registered   -0.266768  0.568824  0.572362 -0.084881  -0.241537  0.404438   \n",
       "\n",
       "            registered  \n",
       "season        0.416023  \n",
       "yr            0.581260  \n",
       "mnth          0.294245  \n",
       "holiday      -0.098624  \n",
       "weekday       0.063013  \n",
       "workingday    0.294984  \n",
       "weathersit   -0.266768  \n",
       "temp          0.568824  \n",
       "atemp         0.572362  \n",
       "hum          -0.084881  \n",
       "windspeed    -0.241537  \n",
       "casual        0.404438  \n",
       "registered    1.000000  "
      ]
     },
     "execution_count": 6,
     "metadata": {},
     "output_type": "execute_result"
    }
   ],
   "source": [
    "pd.concat([X_train,y_train],axis=1).corr()"
   ]
  },
  {
   "cell_type": "code",
   "execution_count": 8,
   "id": "71291244",
   "metadata": {
    "scrolled": true
   },
   "outputs": [
    {
     "data": {
      "text/plain": [
       "<AxesSubplot:xlabel='temp', ylabel='atemp'>"
      ]
     },
     "execution_count": 8,
     "metadata": {},
     "output_type": "execute_result"
    },
    {
     "data": {
      "image/png": "[encoded data removed]",
      "text/plain": [
       "<Figure size 432x288 with 1 Axes>"
      ]
     },
     "metadata": {
      "needs_background": "light"
     },
     "output_type": "display_data"
    }
   ],
   "source": [
    "X_train[['temp','atemp']].plot.scatter(x='temp',y='atemp')"
   ]
  },
  {
   "cell_type": "code",
   "execution_count": 14,
   "id": "00576b2a",
   "metadata": {},
   "outputs": [],
   "source": [
    "X_train = X_train.drop(columns=['atemp'])"
   ]
  },
  {
   "cell_type": "code",
   "execution_count": 15,
   "id": "5b6b55e0",
   "metadata": {},
   "outputs": [],
   "source": [
    "from sklearn.preprocessing import MinMaxScaler\n",
    "x_MinMax = MinMaxScaler()\n",
    "y_MinMax = MinMaxScaler()\n",
    "\n",
    "x = x_MinMax.fit_transform(X_train)\n",
    "y = y_MinMax.fit_transform(y_train)"
   ]
  },
  {
   "cell_type": "code",
   "execution_count": 16,
   "id": "d4b59685",
   "metadata": {},
   "outputs": [
    {
     "data": {
      "text/plain": [
       "((584, 10), (584, 2))"
      ]
     },
     "execution_count": 16,
     "metadata": {},
     "output_type": "execute_result"
    }
   ],
   "source": [
    "x.shape, y.shape"
   ]
  },
  {
   "cell_type": "code",
   "execution_count": 13,
   "id": "e665b3c7",
   "metadata": {},
   "outputs": [
    {
     "data": {
      "text/plain": [
       "array([[0.26085681, 0.92650881],\n",
       "       [0.0991784 , 0.72408316],\n",
       "       [0.21860329, 0.73678891],\n",
       "       ...,\n",
       "       [0.03139671, 0.46881317],\n",
       "       [0.20070423, 0.22928097],\n",
       "       [0.41519953, 0.76479931]])"
      ]
     },
     "execution_count": 13,
     "metadata": {},
     "output_type": "execute_result"
    }
   ],
   "source": [
    "y"
   ]
  },
  {
   "cell_type": "code",
   "execution_count": 46,
   "id": "d311fe6c",
   "metadata": {},
   "outputs": [
    {
     "data": {
      "text/plain": [
       "MLPRegressor(activation='relu', alpha=0.0001, batch_size='auto', beta_1=0.9,\n",
       "             beta_2=0.999, early_stopping=False, epsilon=1e-08,\n",
       "             hidden_layer_sizes=(10, 10), learning_rate='constant',\n",
       "             learning_rate_init=0.001, max_fun=15000, max_iter=500,\n",
       "             momentum=0.9, n_iter_no_change=10, nesterovs_momentum=True,\n",
       "             power_t=0.5, random_state=None, shuffle=True, solver='adam',\n",
       "             tol=0.0001, validation_fraction=0.1, verbose=False,\n",
       "             warm_start=False)"
      ]
     },
     "execution_count": 46,
     "metadata": {},
     "output_type": "execute_result"
    }
   ],
   "source": [
    "from sklearn.neural_network import MLPRegressor\n",
    "mlp = MLPRegressor(max_iter=500, hidden_layer_sizes=(10,10))\n",
    "mlp.fit(x,y)"
   ]
  },
  {
   "cell_type": "code",
   "execution_count": 47,
   "id": "58dd5291",
   "metadata": {},
   "outputs": [
    {
     "data": {
      "text/plain": [
       "array([[ 930.66393804, 5469.00008419],\n",
       "       [ 623.37676514, 4214.39065231],\n",
       "       [ 739.3464659 , 5872.76299825],\n",
       "       ...,\n",
       "       [  33.03262041, 4224.06361975],\n",
       "       [2205.72968006, 2578.97699834],\n",
       "       [1486.67882819, 5764.82338618]])"
      ]
     },
     "execution_count": 47,
     "metadata": {},
     "output_type": "execute_result"
    }
   ],
   "source": [
    "# Predecir en train y test\n",
    "pred_train = mlp.predict(x)\n",
    "pred_train2 = y_MinMax.inverse_transform(pred_train)\n",
    "pred_train2"
   ]
  },
  {
   "cell_type": "code",
   "execution_count": 48,
   "id": "78a6b525",
   "metadata": {
    "scrolled": true
   },
   "outputs": [
    {
     "data": {
      "text/plain": [
       "array([[ 6.54112019e+02,  4.49484669e+03],\n",
       "       [ 1.46253283e+03,  1.68674435e+03],\n",
       "       [ 3.27818010e+02,  1.52317591e+03],\n",
       "       [-7.59492892e+01,  2.65414635e+03],\n",
       "       [ 5.41506814e+02,  2.87846257e+03],\n",
       "       [ 9.84122287e+02,  3.89755418e+03],\n",
       "       [ 6.69848533e+02,  3.66170540e+03],\n",
       "       [ 1.82735803e+03,  4.75506584e+03],\n",
       "       [ 8.71879919e+02,  5.46105482e+03],\n",
       "       [ 9.84078612e+02,  3.34316201e+03],\n",
       "       [ 1.06690355e+02,  4.47592235e+03],\n",
       "       [ 8.19408968e+02,  4.23061923e+03],\n",
       "       [ 1.35838294e+03,  2.48626418e+03],\n",
       "       [ 8.53315207e+02,  4.69557911e+03],\n",
       "       [ 8.75154991e+02,  3.33540173e+03],\n",
       "       [ 7.99529554e+02,  4.79844714e+03],\n",
       "       [ 1.54029388e+03,  2.07215478e+03],\n",
       "       [ 1.65382369e+03,  3.86263806e+03],\n",
       "       [ 8.31814340e+02,  5.39916288e+03],\n",
       "       [ 4.32625024e+02,  5.30113480e+03],\n",
       "       [ 1.69423028e+03,  5.13279411e+03],\n",
       "       [ 1.49268139e+03,  1.97114872e+03],\n",
       "       [ 7.23544426e+01,  2.26323110e+03],\n",
       "       [ 9.67193444e+02,  3.95624307e+03],\n",
       "       [ 1.08433316e+03,  4.40336956e+03],\n",
       "       [-3.13825068e+02,  3.11221130e+03],\n",
       "       [ 8.70788958e+02,  4.63065102e+03],\n",
       "       [ 4.78174706e+02,  2.45379508e+03],\n",
       "       [ 1.21883804e+03,  6.59906576e+03],\n",
       "       [ 1.29251453e+03,  4.95710298e+03],\n",
       "       [ 7.71408547e+02,  4.78040462e+03],\n",
       "       [ 1.06005823e+03,  4.97903335e+03],\n",
       "       [ 1.64259594e+03,  5.52665891e+03],\n",
       "       [ 1.50738987e+03,  3.97210020e+03],\n",
       "       [ 1.17852045e+03,  5.46282343e+03],\n",
       "       [ 1.11474282e+03,  2.07496972e+03],\n",
       "       [ 5.60712673e+02,  4.15288249e+03],\n",
       "       [ 7.00179455e+02,  5.31204870e+03],\n",
       "       [ 2.02940236e+03,  1.11582772e+03],\n",
       "       [ 5.26225537e+02,  3.73745472e+03],\n",
       "       [ 1.48362914e+03,  5.06325049e+03],\n",
       "       [ 3.19051633e+02,  1.65355359e+03],\n",
       "       [ 4.55543041e+02,  4.27883089e+03],\n",
       "       [ 3.02206736e+02,  2.66974604e+03],\n",
       "       [ 2.65147689e+02,  3.31411419e+03],\n",
       "       [ 4.15717849e+02,  4.08992828e+03],\n",
       "       [ 7.76849414e+02,  3.80546142e+03],\n",
       "       [ 1.79305943e+03,  5.47746904e+03],\n",
       "       [ 5.99149626e+02,  4.23323015e+03],\n",
       "       [-2.07982812e+02,  2.20162815e+03],\n",
       "       [ 3.99209280e+02,  3.71657927e+03],\n",
       "       [ 5.97851365e+02,  3.80825448e+03],\n",
       "       [ 1.55004591e+03,  5.61878452e+03],\n",
       "       [ 5.34638227e+02,  3.65113791e+03],\n",
       "       [ 1.20108834e+03,  1.14950227e+03],\n",
       "       [ 1.92264557e+03,  4.90234885e+03],\n",
       "       [ 5.76599937e+02,  3.58172067e+03],\n",
       "       [ 1.49876596e+03,  5.83343963e+03],\n",
       "       [ 1.00934408e+03,  4.12902369e+03],\n",
       "       [ 1.41931658e+03,  1.14012631e+03],\n",
       "       [ 4.82609482e+02,  3.97282359e+03],\n",
       "       [ 1.82774127e+02,  4.22488267e+03],\n",
       "       [ 5.47504899e+02,  5.16557827e+03],\n",
       "       [ 1.51318828e+03,  3.85815654e+03],\n",
       "       [ 1.68930632e+03,  3.92646360e+03],\n",
       "       [ 4.24202200e+02,  1.44152325e+03],\n",
       "       [-7.13550364e+01,  3.11406036e+03],\n",
       "       [ 2.74141834e+02,  3.20220210e+03],\n",
       "       [ 1.31296910e+02,  3.42752235e+03],\n",
       "       [ 2.46640635e+03,  4.38514090e+03],\n",
       "       [ 3.92526665e+02,  3.74500708e+03],\n",
       "       [ 1.30770711e+03,  3.45175478e+03],\n",
       "       [ 7.25224216e+02,  4.24284422e+03],\n",
       "       [ 5.89330728e+02,  3.22532400e+03],\n",
       "       [ 6.82280154e+02,  2.61145740e+03],\n",
       "       [ 4.44608968e+02,  4.62400486e+03],\n",
       "       [ 1.21633325e+03,  2.40701867e+03],\n",
       "       [ 4.87877231e+02,  5.99621720e+03],\n",
       "       [ 5.82435869e+02,  4.09932658e+03],\n",
       "       [ 1.29160953e+02,  4.97302067e+03],\n",
       "       [ 1.36583223e+03,  4.05136904e+03],\n",
       "       [ 4.80852336e+02,  2.95884912e+03],\n",
       "       [ 7.91412012e+02,  4.80319699e+03],\n",
       "       [ 9.20215826e+02,  4.47298246e+03],\n",
       "       [ 1.25467847e+03,  3.31091987e+03],\n",
       "       [ 1.62117417e+03,  5.82058051e+03],\n",
       "       [-2.02868719e+02,  2.31649297e+03],\n",
       "       [ 4.19708538e+02,  3.50480694e+03],\n",
       "       [ 2.98829704e+02,  3.78727000e+03],\n",
       "       [ 4.80328502e+00,  2.19260932e+03],\n",
       "       [ 1.63094984e+03,  5.84116947e+03],\n",
       "       [ 1.84051038e+03,  3.96273505e+03],\n",
       "       [ 1.17540601e+03,  7.55124841e+02],\n",
       "       [ 3.37233752e+02,  5.14853994e+03],\n",
       "       [ 4.55957649e+01,  3.54078722e+03],\n",
       "       [ 2.39644999e+03,  3.17269226e+03],\n",
       "       [ 7.36649216e+02,  3.33318583e+03],\n",
       "       [ 4.90202467e+02,  4.27642957e+03],\n",
       "       [ 7.99412861e+02,  4.34593319e+03],\n",
       "       [ 1.04007941e+03,  3.74336132e+03],\n",
       "       [ 6.72140687e+02,  4.42130443e+03],\n",
       "       [ 9.83657255e+02,  2.07561855e+03],\n",
       "       [ 3.39143668e+02,  3.72070649e+01],\n",
       "       [ 2.01068087e+03,  3.65545298e+03],\n",
       "       [ 2.46945483e+02,  3.17170595e+03],\n",
       "       [ 7.82971262e+02,  2.09726464e+03],\n",
       "       [ 1.51117169e+03,  1.33899198e+03],\n",
       "       [ 4.77428545e+02,  4.66826775e+03],\n",
       "       [ 1.45549107e+02,  1.23970209e+03],\n",
       "       [ 7.25267514e+02,  4.69050514e+03],\n",
       "       [ 1.04623019e+03,  4.34665259e+03],\n",
       "       [ 2.31071763e+03,  3.46413956e+03],\n",
       "       [ 1.35996299e+03,  4.89309906e+03],\n",
       "       [ 9.74583021e+02,  6.08344506e+03],\n",
       "       [-1.72279185e+02,  2.39632458e+03],\n",
       "       [ 1.05147434e+03,  2.26946955e+03],\n",
       "       [ 7.48541443e+02,  1.86078604e+03],\n",
       "       [ 6.95096876e+02,  2.63556950e+03],\n",
       "       [ 1.33936986e+02,  3.99874452e+03],\n",
       "       [ 9.31248193e+02,  1.79338332e+03],\n",
       "       [ 8.28697123e+02,  3.45577700e+03],\n",
       "       [ 7.61642311e+02,  3.95881586e+03],\n",
       "       [ 6.58920668e+02,  1.80189505e+03],\n",
       "       [ 1.53821680e+03,  5.24542869e+03],\n",
       "       [ 1.64050602e+03,  2.31442813e+03],\n",
       "       [ 8.56433225e+02,  2.53945563e+03],\n",
       "       [ 7.32390526e+02,  2.01388021e+03],\n",
       "       [ 3.76319609e+02,  4.70005470e+03],\n",
       "       [ 1.11885069e+03,  3.86941674e+03],\n",
       "       [ 6.32589364e+02,  3.04421689e+03],\n",
       "       [ 9.07973150e+02,  3.95641518e+03],\n",
       "       [ 1.11826870e+03,  5.15518537e+03],\n",
       "       [ 1.18083814e+03,  2.83069865e+03],\n",
       "       [ 8.15925060e+02,  4.17716093e+03],\n",
       "       [-2.13967768e+01,  3.20249166e+03],\n",
       "       [ 5.68429535e+02,  3.46797355e+03],\n",
       "       [ 1.78366858e+03,  4.15785898e+03],\n",
       "       [ 1.07725033e+03,  4.21624099e+03],\n",
       "       [ 1.96168946e+03,  5.87737855e+03],\n",
       "       [ 2.18584561e+03,  5.52853321e+03],\n",
       "       [ 3.71267279e+02,  2.00837695e+03],\n",
       "       [ 1.54227811e+03,  4.77195653e+03],\n",
       "       [ 1.72334454e+03,  3.73025986e+03],\n",
       "       [ 1.44167813e+03,  5.36126371e+03],\n",
       "       [ 1.28714170e+03,  4.69883715e+03],\n",
       "       [ 1.39147590e+03,  2.68183403e+03],\n",
       "       [ 2.36291112e+02,  3.21475489e+03]])"
      ]
     },
     "execution_count": 48,
     "metadata": {},
     "output_type": "execute_result"
    }
   ],
   "source": [
    "pred_test = mlp.predict(x_MinMax.transform(X_test.drop(columns=['atemp'])))\n",
    "pred_test2 = y_MinMax.inverse_transform(pred_test)\n",
    "pred_test2"
   ]
  },
  {
   "cell_type": "code",
   "execution_count": 49,
   "id": "02f167d4",
   "metadata": {},
   "outputs": [
    {
     "data": {
      "text/html": [
       "<div>\n",
       "<style scoped>\n",
       "    .dataframe tbody tr th:only-of-type {\n",
       "        vertical-align: middle;\n",
       "    }\n",
       "\n",
       "    .dataframe tbody tr th {\n",
       "        vertical-align: top;\n",
       "    }\n",
       "\n",
       "    .dataframe thead th {\n",
       "        text-align: right;\n",
       "    }\n",
       "</style>\n",
       "<table border=\"1\" class=\"dataframe\">\n",
       "  <thead>\n",
       "    <tr style=\"text-align: right;\">\n",
       "      <th></th>\n",
       "      <th>casual</th>\n",
       "      <th>registered</th>\n",
       "      <th>pred_casual</th>\n",
       "      <th>pred_reg</th>\n",
       "    </tr>\n",
       "  </thead>\n",
       "  <tbody>\n",
       "    <tr>\n",
       "      <th>488</th>\n",
       "      <td>764</td>\n",
       "      <td>5657</td>\n",
       "      <td>654</td>\n",
       "      <td>4494</td>\n",
       "    </tr>\n",
       "    <tr>\n",
       "      <th>421</th>\n",
       "      <td>515</td>\n",
       "      <td>2874</td>\n",
       "      <td>1462</td>\n",
       "      <td>1686</td>\n",
       "    </tr>\n",
       "    <tr>\n",
       "      <th>91</th>\n",
       "      <td>898</td>\n",
       "      <td>1354</td>\n",
       "      <td>327</td>\n",
       "      <td>1523</td>\n",
       "    </tr>\n",
       "    <tr>\n",
       "      <th>300</th>\n",
       "      <td>456</td>\n",
       "      <td>3291</td>\n",
       "      <td>0</td>\n",
       "      <td>2654</td>\n",
       "    </tr>\n",
       "    <tr>\n",
       "      <th>177</th>\n",
       "      <td>854</td>\n",
       "      <td>3854</td>\n",
       "      <td>541</td>\n",
       "      <td>2878</td>\n",
       "    </tr>\n",
       "    <tr>\n",
       "      <th>...</th>\n",
       "      <td>...</td>\n",
       "      <td>...</td>\n",
       "      <td>...</td>\n",
       "      <td>...</td>\n",
       "    </tr>\n",
       "    <tr>\n",
       "      <th>631</th>\n",
       "      <td>2454</td>\n",
       "      <td>5453</td>\n",
       "      <td>1723</td>\n",
       "      <td>3730</td>\n",
       "    </tr>\n",
       "    <tr>\n",
       "      <th>548</th>\n",
       "      <td>904</td>\n",
       "      <td>5323</td>\n",
       "      <td>1441</td>\n",
       "      <td>5361</td>\n",
       "    </tr>\n",
       "    <tr>\n",
       "      <th>439</th>\n",
       "      <td>1005</td>\n",
       "      <td>5187</td>\n",
       "      <td>1287</td>\n",
       "      <td>4698</td>\n",
       "    </tr>\n",
       "    <tr>\n",
       "      <th>449</th>\n",
       "      <td>1532</td>\n",
       "      <td>3464</td>\n",
       "      <td>1391</td>\n",
       "      <td>2681</td>\n",
       "    </tr>\n",
       "    <tr>\n",
       "      <th>124</th>\n",
       "      <td>614</td>\n",
       "      <td>3819</td>\n",
       "      <td>236</td>\n",
       "      <td>3214</td>\n",
       "    </tr>\n",
       "  </tbody>\n",
       "</table>\n",
       "<p>147 rows × 4 columns</p>\n",
       "</div>"
      ],
      "text/plain": [
       "     casual  registered  pred_casual  pred_reg\n",
       "488     764        5657          654      4494\n",
       "421     515        2874         1462      1686\n",
       "91      898        1354          327      1523\n",
       "300     456        3291            0      2654\n",
       "177     854        3854          541      2878\n",
       "..      ...         ...          ...       ...\n",
       "631    2454        5453         1723      3730\n",
       "548     904        5323         1441      5361\n",
       "439    1005        5187         1287      4698\n",
       "449    1532        3464         1391      2681\n",
       "124     614        3819          236      3214\n",
       "\n",
       "[147 rows x 4 columns]"
      ]
     },
     "execution_count": 49,
     "metadata": {},
     "output_type": "execute_result"
    }
   ],
   "source": [
    "y_test['pred_casual'] = pred_test2[:,0]\n",
    "y_test['pred_reg'] = pred_test2[:,1]\n",
    "\n",
    "y_test['pred_casual'] = y_test['pred_casual'].astype('int')\n",
    "y_test['pred_reg'] = y_test['pred_reg'].astype('int')\n",
    "\n",
    "y_test['pred_casual'] = np.where(y_test.pred_casual<0,0,y_test.pred_casual)\n",
    "y_test['pred_reg'] = np.where(y_test.pred_reg<0,0,y_test.pred_reg)\n",
    "\n",
    "y_test"
   ]
  },
  {
   "cell_type": "code",
   "execution_count": 50,
   "id": "53857ca6",
   "metadata": {},
   "outputs": [
    {
     "name": "stdout",
     "output_type": "stream",
     "text": [
      "Test MSE Error: 962.759137304126\n",
      "Test R2: 0.6094946891743684\n"
     ]
    }
   ],
   "source": [
    "# Registrados\n",
    "from sklearn.metrics import mean_squared_error, r2_score\n",
    "import matplotlib.pyplot as plt\n",
    "\n",
    "mse = mean_squared_error(y_test.registered,y_test.pred_reg,squared=False)\n",
    "r2 = r2_score(y_test.registered,y_test.pred_reg)\n",
    "print(\"Test MSE Error:\",mse)\n",
    "print(\"Test R2:\",r2)"
   ]
  },
  {
   "cell_type": "code",
   "execution_count": 51,
   "id": "886b9520",
   "metadata": {},
   "outputs": [
    {
     "data": {
      "image/png": "[encoded data removed]",
      "text/plain": [
       "<Figure size 432x288 with 1 Axes>"
      ]
     },
     "metadata": {
      "needs_background": "light"
     },
     "output_type": "display_data"
    }
   ],
   "source": [
    "fig, ax = plt.subplots()\n",
    "plt.plot(y_test.pred_reg, y_test.registered,'o')\n",
    "plt.axline([0,0],[1,1],color='red');"
   ]
  },
  {
   "cell_type": "code",
   "execution_count": 52,
   "id": "4f3e2f87",
   "metadata": {},
   "outputs": [
    {
     "name": "stdout",
     "output_type": "stream",
     "text": [
      "Test MSE Error: 500.1536022566869\n",
      "Test R2: 0.32534704759373745\n"
     ]
    }
   ],
   "source": [
    "# Casuales\n",
    "\n",
    "mse = mean_squared_error(y_test.casual,y_test.pred_casual,squared=False)\n",
    "r2 = r2_score(y_test.casual,y_test.pred_casual)\n",
    "print(\"Test MSE Error:\",mse)\n",
    "print(\"Test R2:\",r2)"
   ]
  },
  {
   "cell_type": "code",
   "execution_count": 53,
   "id": "0dc5bc67",
   "metadata": {},
   "outputs": [
    {
     "data": {
      "image/png": "[encoded data removed]",
      "text/plain": [
       "<Figure size 432x288 with 1 Axes>"
      ]
     },
     "metadata": {
      "needs_background": "light"
     },
     "output_type": "display_data"
    }
   ],
   "source": [
    "fig, ax = plt.subplots()\n",
    "plt.plot(y_test.pred_casual, y_test.casual,'o')\n",
    "plt.axline([0,0],[1,1],color='red');"
   ]
  },
  {
   "cell_type": "code",
   "execution_count": 56,
   "id": "c817f547",
   "metadata": {
    "scrolled": true
   },
   "outputs": [
    {
     "data": {
      "text/html": [
       "<div>\n",
       "<style scoped>\n",
       "    .dataframe tbody tr th:only-of-type {\n",
       "        vertical-align: middle;\n",
       "    }\n",
       "\n",
       "    .dataframe tbody tr th {\n",
       "        vertical-align: top;\n",
       "    }\n",
       "\n",
       "    .dataframe thead th {\n",
       "        text-align: right;\n",
       "    }\n",
       "</style>\n",
       "<table border=\"1\" class=\"dataframe\">\n",
       "  <thead>\n",
       "    <tr style=\"text-align: right;\">\n",
       "      <th></th>\n",
       "      <th>casual</th>\n",
       "      <th>registered</th>\n",
       "      <th>pred_casual</th>\n",
       "      <th>pred_reg</th>\n",
       "      <th>DifCasual</th>\n",
       "      <th>DifReg</th>\n",
       "    </tr>\n",
       "  </thead>\n",
       "  <tbody>\n",
       "    <tr>\n",
       "      <th>488</th>\n",
       "      <td>764</td>\n",
       "      <td>5657</td>\n",
       "      <td>654</td>\n",
       "      <td>4494</td>\n",
       "      <td>110</td>\n",
       "      <td>1163</td>\n",
       "    </tr>\n",
       "    <tr>\n",
       "      <th>421</th>\n",
       "      <td>515</td>\n",
       "      <td>2874</td>\n",
       "      <td>1462</td>\n",
       "      <td>1686</td>\n",
       "      <td>947</td>\n",
       "      <td>1188</td>\n",
       "    </tr>\n",
       "    <tr>\n",
       "      <th>91</th>\n",
       "      <td>898</td>\n",
       "      <td>1354</td>\n",
       "      <td>327</td>\n",
       "      <td>1523</td>\n",
       "      <td>571</td>\n",
       "      <td>169</td>\n",
       "    </tr>\n",
       "    <tr>\n",
       "      <th>300</th>\n",
       "      <td>456</td>\n",
       "      <td>3291</td>\n",
       "      <td>0</td>\n",
       "      <td>2654</td>\n",
       "      <td>456</td>\n",
       "      <td>637</td>\n",
       "    </tr>\n",
       "    <tr>\n",
       "      <th>177</th>\n",
       "      <td>854</td>\n",
       "      <td>3854</td>\n",
       "      <td>541</td>\n",
       "      <td>2878</td>\n",
       "      <td>313</td>\n",
       "      <td>976</td>\n",
       "    </tr>\n",
       "    <tr>\n",
       "      <th>...</th>\n",
       "      <td>...</td>\n",
       "      <td>...</td>\n",
       "      <td>...</td>\n",
       "      <td>...</td>\n",
       "      <td>...</td>\n",
       "      <td>...</td>\n",
       "    </tr>\n",
       "    <tr>\n",
       "      <th>631</th>\n",
       "      <td>2454</td>\n",
       "      <td>5453</td>\n",
       "      <td>1723</td>\n",
       "      <td>3730</td>\n",
       "      <td>731</td>\n",
       "      <td>1723</td>\n",
       "    </tr>\n",
       "    <tr>\n",
       "      <th>548</th>\n",
       "      <td>904</td>\n",
       "      <td>5323</td>\n",
       "      <td>1441</td>\n",
       "      <td>5361</td>\n",
       "      <td>537</td>\n",
       "      <td>38</td>\n",
       "    </tr>\n",
       "    <tr>\n",
       "      <th>439</th>\n",
       "      <td>1005</td>\n",
       "      <td>5187</td>\n",
       "      <td>1287</td>\n",
       "      <td>4698</td>\n",
       "      <td>282</td>\n",
       "      <td>489</td>\n",
       "    </tr>\n",
       "    <tr>\n",
       "      <th>449</th>\n",
       "      <td>1532</td>\n",
       "      <td>3464</td>\n",
       "      <td>1391</td>\n",
       "      <td>2681</td>\n",
       "      <td>141</td>\n",
       "      <td>783</td>\n",
       "    </tr>\n",
       "    <tr>\n",
       "      <th>124</th>\n",
       "      <td>614</td>\n",
       "      <td>3819</td>\n",
       "      <td>236</td>\n",
       "      <td>3214</td>\n",
       "      <td>378</td>\n",
       "      <td>605</td>\n",
       "    </tr>\n",
       "  </tbody>\n",
       "</table>\n",
       "<p>147 rows × 6 columns</p>\n",
       "</div>"
      ],
      "text/plain": [
       "     casual  registered  pred_casual  pred_reg  DifCasual  DifReg\n",
       "488     764        5657          654      4494        110    1163\n",
       "421     515        2874         1462      1686        947    1188\n",
       "91      898        1354          327      1523        571     169\n",
       "300     456        3291            0      2654        456     637\n",
       "177     854        3854          541      2878        313     976\n",
       "..      ...         ...          ...       ...        ...     ...\n",
       "631    2454        5453         1723      3730        731    1723\n",
       "548     904        5323         1441      5361        537      38\n",
       "439    1005        5187         1287      4698        282     489\n",
       "449    1532        3464         1391      2681        141     783\n",
       "124     614        3819          236      3214        378     605\n",
       "\n",
       "[147 rows x 6 columns]"
      ]
     },
     "execution_count": 56,
     "metadata": {},
     "output_type": "execute_result"
    }
   ],
   "source": [
    "# Día de más fallos\n",
    "y_test['DifCasual'] = np.abs(y_test.casual - y_test.pred_casual)\n",
    "y_test['DifReg'] = np.abs(y_test.registered-y_test.pred_reg)\n",
    "y_test"
   ]
  },
  {
   "cell_type": "code",
   "execution_count": 65,
   "id": "70707178",
   "metadata": {},
   "outputs": [
    {
     "data": {
      "text/plain": [
       "'2012-09-15'"
      ]
     },
     "execution_count": 65,
     "metadata": {},
     "output_type": "execute_result"
    }
   ],
   "source": [
    "idxmax = y_test.loc[y_test.DifCasual==y_test.DifCasual.max()].index.values[0]\n",
    "day.iloc[idxmax,:].dteday"
   ]
  },
  {
   "cell_type": "code",
   "execution_count": 66,
   "id": "38daeece",
   "metadata": {},
   "outputs": [
    {
     "data": {
      "text/plain": [
       "'2012-12-27'"
      ]
     },
     "execution_count": 66,
     "metadata": {},
     "output_type": "execute_result"
    }
   ],
   "source": [
    "idxmax = y_test.loc[y_test.DifReg==y_test.DifReg.max()].index.values[0]\n",
    "day.iloc[idxmax,:].dteday"
   ]
  },
  {
   "cell_type": "code",
   "execution_count": 67,
   "id": "dfd7416e",
   "metadata": {},
   "outputs": [
    {
     "data": {
      "text/plain": [
       "<AxesSubplot:xlabel='dteday'>"
      ]
     },
     "execution_count": 67,
     "metadata": {},
     "output_type": "execute_result"
    },
    {
     "data": {
      "image/png": "[encoded data removed]",
      "text/plain": [
       "<Figure size 1080x360 with 1 Axes>"
      ]
     },
     "metadata": {
      "needs_background": "light"
     },
     "output_type": "display_data"
    }
   ],
   "source": [
    "df = pd.merge(day, y_test[['pred_casual','pred_reg']], left_index=True, right_index=True)\n",
    "df.dteday= pd.to_datetime(df.dteday)\n",
    "df.plot(x='dteday',y=['registered','pred_reg'],figsize=(15,5),style='.-',grid=True)"
   ]
  },
  {
   "cell_type": "code",
   "execution_count": 68,
   "id": "030a4056",
   "metadata": {},
   "outputs": [
    {
     "data": {
      "text/plain": [
       "<AxesSubplot:xlabel='dteday'>"
      ]
     },
     "execution_count": 68,
     "metadata": {},
     "output_type": "execute_result"
    },
    {
     "data": {
      "image/png": "[encoded data removed]",
      "text/plain": [
       "<Figure size 1080x360 with 1 Axes>"
      ]
     },
     "metadata": {
      "needs_background": "light"
     },
     "output_type": "display_data"
    }
   ],
   "source": [
    "df.dteday= pd.to_datetime(df.dteday)\n",
    "df.plot(x='dteday',y=['casual','pred_casual'],figsize=(15,5),style='.-',grid=True)"
   ]
  },
  {
   "cell_type": "code",
   "execution_count": 69,
   "id": "471cd66c",
   "metadata": {},
   "outputs": [
    {
     "data": {
      "text/plain": [
       "GridSearchCV(cv=10, error_score=nan,\n",
       "             estimator=MLPRegressor(activation='relu', alpha=0.0001,\n",
       "                                    batch_size='auto', beta_1=0.9, beta_2=0.999,\n",
       "                                    early_stopping=False, epsilon=1e-08,\n",
       "                                    hidden_layer_sizes=(100,),\n",
       "                                    learning_rate='constant',\n",
       "                                    learning_rate_init=0.001, max_fun=15000,\n",
       "                                    max_iter=200, momentum=0.9,\n",
       "                                    n_iter_no_change=10,\n",
       "                                    nesterovs_momentum=True, power_t=0.5,\n",
       "                                    random_state...\n",
       "                                    validation_fraction=0.1, verbose=False,\n",
       "                                    warm_start=False),\n",
       "             iid='deprecated', n_jobs=-1,\n",
       "             param_grid={'activation': ['tanh', 'relu'],\n",
       "                         'alpha': [0.0001, 0.05],\n",
       "                         'hidden_layer_sizes': [(20,), (30,), (50,), (20, 20),\n",
       "                                                (30, 15), (50, 50),\n",
       "                                                (100, 100)],\n",
       "                         'max_iter': [100, 500, 1000],\n",
       "                         'solver': ['sgd', 'adam']},\n",
       "             pre_dispatch='2*n_jobs', refit=True, return_train_score=False,\n",
       "             scoring=None, verbose=0)"
      ]
     },
     "execution_count": 69,
     "metadata": {},
     "output_type": "execute_result"
    }
   ],
   "source": [
    "from sklearn.model_selection import GridSearchCV\n",
    "\n",
    "mlp3 = MLPRegressor()\n",
    "    \n",
    "parameters = {\n",
    "    'hidden_layer_sizes': [(20,), (30,), (50,), (20,20), (30,15), (50,50), (100,100)],\n",
    "    'activation': ['tanh', 'relu'],\n",
    "    'solver': ['sgd', 'adam'],\n",
    "    'alpha': [0.0001, 0.05],\n",
    "    'max_iter':[100,500,1000]\n",
    "}\n",
    "\n",
    "clf = GridSearchCV(mlp3, parameters, n_jobs=-1, cv=10)\n",
    "clf.fit(x,y)"
   ]
  },
  {
   "cell_type": "code",
   "execution_count": 75,
   "id": "1d15b12a",
   "metadata": {},
   "outputs": [
    {
     "data": {
      "text/plain": [
       "{'activation': 'relu',\n",
       " 'alpha': 0.05,\n",
       " 'hidden_layer_sizes': (100, 100),\n",
       " 'max_iter': 1000,\n",
       " 'solver': 'adam'}"
      ]
     },
     "execution_count": 75,
     "metadata": {},
     "output_type": "execute_result"
    }
   ],
   "source": [
    "clf.best_params_"
   ]
  },
  {
   "cell_type": "code",
   "execution_count": 70,
   "id": "99664ae6",
   "metadata": {
    "collapsed": true
   },
   "outputs": [
    {
     "data": {
      "text/plain": [
       "array([[ 8.48905112e+02,  4.70553175e+03],\n",
       "       [ 1.06308167e+03,  2.72754275e+03],\n",
       "       [ 7.26931324e+02,  1.58317818e+03],\n",
       "       [ 2.04148500e+02,  2.99655662e+03],\n",
       "       [ 6.59754043e+02,  3.56495299e+03],\n",
       "       [ 1.60062759e+03,  2.73343944e+03],\n",
       "       [ 6.39106708e+02,  3.81057389e+03],\n",
       "       [ 6.71524199e+02,  4.41965377e+03],\n",
       "       [ 1.26035974e+03,  6.12895025e+03],\n",
       "       [ 3.86411721e+02,  4.12560372e+03],\n",
       "       [ 4.88641693e+02,  3.68458630e+03],\n",
       "       [ 7.84279791e+02,  2.81470941e+03],\n",
       "       [ 1.99355858e+03,  3.58742861e+03],\n",
       "       [ 1.01677148e+03,  4.28419249e+03],\n",
       "       [ 2.30415533e+02,  2.16620603e+03],\n",
       "       [ 8.13662899e+02,  4.11846432e+03],\n",
       "       [ 1.34968039e+03,  2.28058800e+03],\n",
       "       [ 1.79034773e+03,  3.27119702e+03],\n",
       "       [ 1.06187341e+03,  5.87303541e+03],\n",
       "       [ 5.96390892e+02,  4.71838965e+03],\n",
       "       [ 2.39882208e+03,  4.77292121e+03],\n",
       "       [ 1.61566778e+03,  2.66067609e+03],\n",
       "       [-5.61474132e+01,  1.26177273e+03],\n",
       "       [ 8.18501342e+02,  4.23482101e+03],\n",
       "       [ 7.02442140e+02,  3.91573817e+03],\n",
       "       [ 2.12093936e+02,  1.46833845e+03],\n",
       "       [ 7.66641927e+02,  4.97384828e+03],\n",
       "       [-6.81766273e+00,  2.28714179e+03],\n",
       "       [ 1.31099025e+03,  6.25979535e+03],\n",
       "       [ 7.66862961e+02,  5.87028030e+03],\n",
       "       [ 1.01497387e+03,  4.29208884e+03],\n",
       "       [ 7.25788918e+02,  5.78083451e+03],\n",
       "       [ 1.21184086e+03,  6.23291985e+03],\n",
       "       [ 1.88408629e+03,  4.50798798e+03],\n",
       "       [ 1.23562725e+03,  5.71567072e+03],\n",
       "       [ 1.23609857e+03,  2.80445602e+03],\n",
       "       [ 7.69860763e+02,  3.44512568e+03],\n",
       "       [ 7.92966664e+02,  5.77203548e+03],\n",
       "       [ 1.02879382e+03,  1.66992386e+03],\n",
       "       [ 4.65459084e+02,  4.16456310e+03],\n",
       "       [ 8.46349445e+02,  6.06597668e+03],\n",
       "       [ 6.80750660e+01,  1.52194659e+03],\n",
       "       [ 4.13134062e+02,  4.77163570e+03],\n",
       "       [ 5.13204220e+02,  3.75184527e+03],\n",
       "       [ 5.45670599e+02,  2.58115833e+03],\n",
       "       [ 6.57721226e+02,  4.18114967e+03],\n",
       "       [ 6.31788077e+02,  3.26526941e+03],\n",
       "       [ 1.01749153e+03,  5.72991636e+03],\n",
       "       [ 4.35640206e+02,  5.19907433e+03],\n",
       "       [ 1.33589772e+02,  1.26817924e+03],\n",
       "       [ 5.85466095e+02,  3.70037091e+03],\n",
       "       [ 4.95214211e+02,  4.85368560e+03],\n",
       "       [ 1.02834359e+03,  6.16291992e+03],\n",
       "       [ 5.02807933e+02,  4.13814032e+03],\n",
       "       [ 7.87602013e+02,  1.11948478e+03],\n",
       "       [ 7.65351163e+02,  4.60613337e+03],\n",
       "       [ 9.86193129e+02,  4.05856511e+03],\n",
       "       [ 1.08321331e+03,  6.20529104e+03],\n",
       "       [ 6.55242521e+02,  4.55183897e+03],\n",
       "       [ 8.71492330e+02,  1.30497799e+03],\n",
       "       [ 7.99384681e+02,  3.59820875e+03],\n",
       "       [ 1.56975097e+02,  3.81768373e+03],\n",
       "       [ 5.86493043e+02,  5.41573491e+03],\n",
       "       [ 1.79879076e+03,  3.29608101e+03],\n",
       "       [ 1.29771830e+03,  3.77005572e+03],\n",
       "       [ 1.30260421e+02,  1.72485956e+03],\n",
       "       [-1.86377967e+02,  2.72718928e+03],\n",
       "       [ 5.13927846e+02,  2.76043975e+03],\n",
       "       [ 2.43871469e+02,  2.80516563e+03],\n",
       "       [ 2.42556082e+03,  4.71390579e+03],\n",
       "       [ 6.69524369e+02,  3.09816392e+03],\n",
       "       [ 3.35080502e+02,  1.05530301e+03],\n",
       "       [ 1.00190051e+03,  5.16155378e+03],\n",
       "       [ 5.99998627e+02,  2.97216173e+03],\n",
       "       [ 1.17738643e+02,  3.51452726e+03],\n",
       "       [ 5.60610512e+02,  4.24839132e+03],\n",
       "       [ 7.66079498e+02,  2.73131666e+03],\n",
       "       [ 6.40095888e+02,  4.35224343e+03],\n",
       "       [ 8.64091301e+02,  3.92064102e+03],\n",
       "       [ 2.95691620e+01,  2.23425772e+03],\n",
       "       [ 1.29497763e+03,  3.64524934e+03],\n",
       "       [ 5.72461645e+02,  2.78290387e+03],\n",
       "       [ 7.85350294e+02,  5.79630671e+03],\n",
       "       [ 8.37200927e+02,  4.25896863e+03],\n",
       "       [ 1.50396958e+03,  2.83065134e+03],\n",
       "       [ 1.03528220e+03,  6.21692891e+03],\n",
       "       [ 3.82657141e+02,  2.17068513e+03],\n",
       "       [ 6.19441629e+02,  2.72631058e+03],\n",
       "       [ 7.52071599e+02,  4.15082732e+03],\n",
       "       [ 2.18216123e+02,  1.58693493e+03],\n",
       "       [ 1.07863523e+03,  6.24664598e+03],\n",
       "       [ 1.89436589e+03,  3.00907283e+03],\n",
       "       [ 8.10434353e+02,  1.14827561e+03],\n",
       "       [ 5.61784555e+02,  5.28519086e+03],\n",
       "       [ 2.10936495e+02,  3.01733293e+03],\n",
       "       [ 1.68200420e+03,  2.69369421e+03],\n",
       "       [ 9.14912509e+01,  3.40423740e+03],\n",
       "       [ 6.78813921e+02,  3.63670676e+03],\n",
       "       [ 6.91746567e+02,  4.28452937e+03],\n",
       "       [ 5.21841551e+02,  3.83892141e+03],\n",
       "       [ 5.65542514e+02,  4.51213290e+03],\n",
       "       [ 8.10701895e+02,  2.69413255e+03],\n",
       "       [ 7.35807368e+02,  1.14790214e+03],\n",
       "       [ 2.21382531e+03,  3.98482495e+03],\n",
       "       [ 5.96837891e+02,  4.18047346e+03],\n",
       "       [ 2.08750902e+02,  3.20794041e+03],\n",
       "       [ 7.85712927e+02,  2.21586321e+03],\n",
       "       [ 6.24634024e+02,  4.53046169e+03],\n",
       "       [ 1.34838742e+00,  1.41586465e+03],\n",
       "       [ 6.17451903e+02,  5.53622863e+03],\n",
       "       [ 8.19715342e+02,  4.18974705e+03],\n",
       "       [ 2.02931879e+03,  4.61140737e+03],\n",
       "       [ 9.11171987e+02,  5.22400162e+03],\n",
       "       [ 1.06445068e+03,  5.53707136e+03],\n",
       "       [ 1.91017976e+02,  1.70106828e+03],\n",
       "       [ 1.69017878e+02,  6.09015673e+02],\n",
       "       [ 5.05473508e+02,  2.11973141e+03],\n",
       "       [ 6.04465825e+02,  3.15775511e+03],\n",
       "       [ 5.18521518e+02,  2.63654188e+03],\n",
       "       [ 1.73198530e+02,  9.08180473e+02],\n",
       "       [ 2.45003904e+02,  3.78822371e+03],\n",
       "       [ 7.00022198e+02,  3.48622309e+03],\n",
       "       [ 9.87986156e+02,  2.55263769e+03],\n",
       "       [ 1.20044107e+03,  6.31960610e+03],\n",
       "       [ 1.42537309e+03,  3.20000904e+03],\n",
       "       [ 1.41102172e+03,  2.41160846e+03],\n",
       "       [ 5.76101185e+02,  1.76304025e+03],\n",
       "       [ 8.56923784e+02,  4.94120076e+03],\n",
       "       [ 7.79001779e+02,  3.88000501e+03],\n",
       "       [ 7.11618393e+02,  4.15311489e+03],\n",
       "       [ 7.83076467e+02,  4.18447423e+03],\n",
       "       [ 9.41946592e+02,  5.86853083e+03],\n",
       "       [ 1.63085993e+03,  2.62110764e+03],\n",
       "       [ 4.19289821e+02,  4.16403765e+03],\n",
       "       [ 1.85937739e+02,  2.99657471e+03],\n",
       "       [ 5.50900453e+02,  3.64277524e+03],\n",
       "       [ 2.19344958e+03,  3.73023678e+03],\n",
       "       [ 8.30531743e+02,  4.22668424e+03],\n",
       "       [ 2.73048185e+03,  5.22282867e+03],\n",
       "       [ 2.93062204e+03,  5.41505270e+03],\n",
       "       [ 1.99600562e+02,  1.88903818e+03],\n",
       "       [ 2.17083911e+03,  4.29393997e+03],\n",
       "       [ 1.79868611e+03,  4.35724044e+03],\n",
       "       [ 1.20203946e+03,  6.20598867e+03],\n",
       "       [ 9.20615080e+02,  4.98760616e+03],\n",
       "       [ 1.31905691e+03,  2.89242112e+03],\n",
       "       [ 6.45546675e+02,  3.18231104e+03]])"
      ]
     },
     "execution_count": 70,
     "metadata": {},
     "output_type": "execute_result"
    }
   ],
   "source": [
    "pred_test = clf.predict(x_MinMax.transform(X_test.drop(columns=['atemp'])))\n",
    "pred_test2 = y_MinMax.inverse_transform(pred_test)\n",
    "pred_test2"
   ]
  },
  {
   "cell_type": "code",
   "execution_count": 71,
   "id": "7740ed82",
   "metadata": {},
   "outputs": [
    {
     "data": {
      "text/html": [
       "<div>\n",
       "<style scoped>\n",
       "    .dataframe tbody tr th:only-of-type {\n",
       "        vertical-align: middle;\n",
       "    }\n",
       "\n",
       "    .dataframe tbody tr th {\n",
       "        vertical-align: top;\n",
       "    }\n",
       "\n",
       "    .dataframe thead th {\n",
       "        text-align: right;\n",
       "    }\n",
       "</style>\n",
       "<table border=\"1\" class=\"dataframe\">\n",
       "  <thead>\n",
       "    <tr style=\"text-align: right;\">\n",
       "      <th></th>\n",
       "      <th>casual</th>\n",
       "      <th>registered</th>\n",
       "      <th>pred_casual</th>\n",
       "      <th>pred_reg</th>\n",
       "      <th>DifCasual</th>\n",
       "      <th>DifReg</th>\n",
       "    </tr>\n",
       "  </thead>\n",
       "  <tbody>\n",
       "    <tr>\n",
       "      <th>488</th>\n",
       "      <td>764</td>\n",
       "      <td>5657</td>\n",
       "      <td>848</td>\n",
       "      <td>4705</td>\n",
       "      <td>110</td>\n",
       "      <td>1163</td>\n",
       "    </tr>\n",
       "    <tr>\n",
       "      <th>421</th>\n",
       "      <td>515</td>\n",
       "      <td>2874</td>\n",
       "      <td>1063</td>\n",
       "      <td>2727</td>\n",
       "      <td>947</td>\n",
       "      <td>1188</td>\n",
       "    </tr>\n",
       "    <tr>\n",
       "      <th>91</th>\n",
       "      <td>898</td>\n",
       "      <td>1354</td>\n",
       "      <td>726</td>\n",
       "      <td>1583</td>\n",
       "      <td>571</td>\n",
       "      <td>169</td>\n",
       "    </tr>\n",
       "    <tr>\n",
       "      <th>300</th>\n",
       "      <td>456</td>\n",
       "      <td>3291</td>\n",
       "      <td>204</td>\n",
       "      <td>2996</td>\n",
       "      <td>456</td>\n",
       "      <td>637</td>\n",
       "    </tr>\n",
       "    <tr>\n",
       "      <th>177</th>\n",
       "      <td>854</td>\n",
       "      <td>3854</td>\n",
       "      <td>659</td>\n",
       "      <td>3564</td>\n",
       "      <td>313</td>\n",
       "      <td>976</td>\n",
       "    </tr>\n",
       "    <tr>\n",
       "      <th>...</th>\n",
       "      <td>...</td>\n",
       "      <td>...</td>\n",
       "      <td>...</td>\n",
       "      <td>...</td>\n",
       "      <td>...</td>\n",
       "      <td>...</td>\n",
       "    </tr>\n",
       "    <tr>\n",
       "      <th>631</th>\n",
       "      <td>2454</td>\n",
       "      <td>5453</td>\n",
       "      <td>1798</td>\n",
       "      <td>4357</td>\n",
       "      <td>731</td>\n",
       "      <td>1723</td>\n",
       "    </tr>\n",
       "    <tr>\n",
       "      <th>548</th>\n",
       "      <td>904</td>\n",
       "      <td>5323</td>\n",
       "      <td>1202</td>\n",
       "      <td>6205</td>\n",
       "      <td>537</td>\n",
       "      <td>38</td>\n",
       "    </tr>\n",
       "    <tr>\n",
       "      <th>439</th>\n",
       "      <td>1005</td>\n",
       "      <td>5187</td>\n",
       "      <td>920</td>\n",
       "      <td>4987</td>\n",
       "      <td>282</td>\n",
       "      <td>489</td>\n",
       "    </tr>\n",
       "    <tr>\n",
       "      <th>449</th>\n",
       "      <td>1532</td>\n",
       "      <td>3464</td>\n",
       "      <td>1319</td>\n",
       "      <td>2892</td>\n",
       "      <td>141</td>\n",
       "      <td>783</td>\n",
       "    </tr>\n",
       "    <tr>\n",
       "      <th>124</th>\n",
       "      <td>614</td>\n",
       "      <td>3819</td>\n",
       "      <td>645</td>\n",
       "      <td>3182</td>\n",
       "      <td>378</td>\n",
       "      <td>605</td>\n",
       "    </tr>\n",
       "  </tbody>\n",
       "</table>\n",
       "<p>147 rows × 6 columns</p>\n",
       "</div>"
      ],
      "text/plain": [
       "     casual  registered  pred_casual  pred_reg  DifCasual  DifReg\n",
       "488     764        5657          848      4705        110    1163\n",
       "421     515        2874         1063      2727        947    1188\n",
       "91      898        1354          726      1583        571     169\n",
       "300     456        3291          204      2996        456     637\n",
       "177     854        3854          659      3564        313     976\n",
       "..      ...         ...          ...       ...        ...     ...\n",
       "631    2454        5453         1798      4357        731    1723\n",
       "548     904        5323         1202      6205        537      38\n",
       "439    1005        5187          920      4987        282     489\n",
       "449    1532        3464         1319      2892        141     783\n",
       "124     614        3819          645      3182        378     605\n",
       "\n",
       "[147 rows x 6 columns]"
      ]
     },
     "execution_count": 71,
     "metadata": {},
     "output_type": "execute_result"
    }
   ],
   "source": [
    "y_test['pred_casual'] = pred_test2[:,0]\n",
    "y_test['pred_reg'] = pred_test2[:,1]\n",
    "\n",
    "y_test['pred_casual'] = y_test['pred_casual'].astype('int')\n",
    "y_test['pred_reg'] = y_test['pred_reg'].astype('int')\n",
    "\n",
    "y_test['pred_casual'] = np.where(y_test.pred_casual<0,0,y_test.pred_casual)\n",
    "y_test['pred_reg'] = np.where(y_test.pred_reg<0,0,y_test.pred_reg)\n",
    "\n",
    "y_test"
   ]
  },
  {
   "cell_type": "code",
   "execution_count": 72,
   "id": "b35af62f",
   "metadata": {},
   "outputs": [
    {
     "name": "stdout",
     "output_type": "stream",
     "text": [
      "Test MSE Error: 612.7052259264246\n",
      "Test R2: 0.8418406703621526\n"
     ]
    }
   ],
   "source": [
    "# Registrados\n",
    "from sklearn.metrics import mean_squared_error, r2_score\n",
    "import matplotlib.pyplot as plt\n",
    "\n",
    "mse = mean_squared_error(y_test.registered,y_test.pred_reg,squared=False)\n",
    "r2 = r2_score(y_test.registered,y_test.pred_reg)\n",
    "print(\"Test MSE Error:\",mse)\n",
    "print(\"Test R2:\",r2)"
   ]
  },
  {
   "cell_type": "code",
   "execution_count": 73,
   "id": "4fdb9b72",
   "metadata": {},
   "outputs": [
    {
     "data": {
      "image/png": "[encoded data removed]",
      "text/plain": [
       "<Figure size 432x288 with 1 Axes>"
      ]
     },
     "metadata": {
      "needs_background": "light"
     },
     "output_type": "display_data"
    }
   ],
   "source": [
    "fig, ax = plt.subplots()\n",
    "plt.plot(y_test.pred_reg, y_test.registered,'o')\n",
    "plt.axline([0,0],[1,1],color='red');"
   ]
  },
  {
   "cell_type": "code",
   "execution_count": 76,
   "id": "1a2ed05a",
   "metadata": {},
   "outputs": [
    {
     "name": "stdout",
     "output_type": "stream",
     "text": [
      "Test MSE Error: 298.356039876206\n",
      "Test R2: 0.7599270156405138\n"
     ]
    }
   ],
   "source": [
    "# Casuales\n",
    "\n",
    "mse = mean_squared_error(y_test.casual,y_test.pred_casual,squared=False)\n",
    "r2 = r2_score(y_test.casual,y_test.pred_casual)\n",
    "print(\"Test MSE Error:\",mse)\n",
    "print(\"Test R2:\",r2)"
   ]
  },
  {
   "cell_type": "code",
   "execution_count": 78,
   "id": "b0bab7ac",
   "metadata": {},
   "outputs": [
    {
     "data": {
      "image/png": "[encoded data removed]",
      "text/plain": [
       "<Figure size 432x288 with 1 Axes>"
      ]
     },
     "metadata": {
      "needs_background": "light"
     },
     "output_type": "display_data"
    }
   ],
   "source": [
    "fig, ax = plt.subplots()\n",
    "plt.plot(y_test.pred_casual, y_test.casual,'o')\n",
    "plt.axline((0,0),(1,1),color='red');"
   ]
  }
 ],
 "metadata": {
  "kernelspec": {
   "display_name": "Python 3",
   "language": "python",
   "name": "python3"
  },
  "language_info": {
   "codemirror_mode": {
    "name": "ipython",
    "version": 3
   },
   "file_extension": ".py",
   "mimetype": "text/x-python",
   "name": "python",
   "nbconvert_exporter": "python",
   "pygments_lexer": "ipython3",
   "version": "3.7.10"
  }
 },
 "nbformat": 4,
 "nbformat_minor": 5
}
