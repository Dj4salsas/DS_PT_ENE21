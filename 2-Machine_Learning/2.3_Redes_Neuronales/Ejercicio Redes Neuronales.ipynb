{
 "cells": [
  {
   "cell_type": "markdown",
   "id": "little-inside",
   "metadata": {},
   "source": [
    "Se quiere utilizar una red neuronal para predecir el número de usuarios que utilizarán un servicio de bicicletas públicas en una ciudad.  \n",
    "\n",
    "El dataset “day.csv” se encuentra disponible en el siguiente enlace, donde también se describe cada una de las variables:\n",
    "https://code.datasciencedojo.com/datasciencedojo/datasets/tree/master/Bike%20Sharing  \n",
    "\n",
    "**SE PIDE:**\n",
    "Implementar una única red neuronal para predecir el uso de bicicletas de usuarios registrados (columna “registered”) y usuarios casuales (columna “casual”).  \n",
    "Para ello:  \n",
    "1)\tSelecciona las variables que creas que puedan relacionarse con el objetivo  \n",
    "2)\tTransforma y prepara las variables para poder entrenar la red neuronal  \n",
    "3)\tDivide el conjunto de datos en entrenamiento (80%) y test (20%) con random_state=123  \n",
    "4)\tDiseña y entrena la red neuronal  \n",
    "5)\tMide el desempeño para cada una de las variables de salida.  \n",
    "\n",
    "¿En qué día del conjunto de test el modelo presenta más error para usuarios registrados y casuales?\n",
    "\n"
   ]
  },
  {
   "cell_type": "code",
   "execution_count": null,
   "id": "integrated-interstate",
   "metadata": {},
   "outputs": [],
   "source": []
  }
 ],
 "metadata": {
  "kernelspec": {
   "display_name": "Python 3",
   "language": "python",
   "name": "python3"
  },
  "language_info": {
   "codemirror_mode": {
    "name": "ipython",
    "version": 3
   },
   "file_extension": ".py",
   "mimetype": "text/x-python",
   "name": "python",
   "nbconvert_exporter": "python",
   "pygments_lexer": "ipython3",
   "version": "3.7.10"
  }
 },
 "nbformat": 4,
 "nbformat_minor": 5
}
