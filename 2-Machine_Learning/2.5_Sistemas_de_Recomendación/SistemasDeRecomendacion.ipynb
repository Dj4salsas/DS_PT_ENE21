{
 "cells": [
  {
   "cell_type": "markdown",
   "metadata": {},
   "source": [
    "# Sistemas de Recomendación"
   ]
  },
  {
   "cell_type": "markdown",
   "metadata": {},
   "source": [
    "## Carga de Librerias"
   ]
  },
  {
   "cell_type": "code",
   "execution_count": null,
   "metadata": {},
   "outputs": [],
   "source": [
    "import numpy as np\n",
    "import pandas as pd\n",
    "import scipy\n",
    "import sys\n",
    "import re\n",
    "#nltk.download()\n",
    "import nltk\n",
    "import string\n",
    "from sklearn.feature_extraction.text import CountVectorizer, TfidfTransformer\n",
    "\n",
    "# pip install unidecode\n",
    "sys.path.append(r\"Utilities\")\n",
    "import Utilities "
   ]
  },
  {
   "cell_type": "markdown",
   "metadata": {},
   "source": [
    "## Lectura DataSet de Juguetes (usar encoding='iso-8859-1')"
   ]
  },
  {
   "cell_type": "code",
   "execution_count": null,
   "metadata": {},
   "outputs": [],
   "source": []
  },
  {
   "cell_type": "markdown",
   "metadata": {},
   "source": [
    "## Breve Análsis descriptivo"
   ]
  },
  {
   "cell_type": "code",
   "execution_count": null,
   "metadata": {},
   "outputs": [],
   "source": []
  },
  {
   "cell_type": "code",
   "execution_count": null,
   "metadata": {
    "scrolled": true
   },
   "outputs": [],
   "source": []
  },
  {
   "cell_type": "markdown",
   "metadata": {},
   "source": [
    "##### Conclusiones\n",
    "- Hay 5 columnas de tipo string\n",
    "- Se tiene un dataset de 5597x5\n",
    "- No hay missing values"
   ]
  },
  {
   "cell_type": "markdown",
   "metadata": {},
   "source": [
    "## Listado de opciones para recomendar (Listado juguetes)"
   ]
  },
  {
   "cell_type": "code",
   "execution_count": null,
   "metadata": {},
   "outputs": [],
   "source": []
  },
  {
   "cell_type": "markdown",
   "metadata": {},
   "source": [
    "## Cálculo vectores descriptivos de Items"
   ]
  },
  {
   "cell_type": "markdown",
   "metadata": {},
   "source": [
    "##### Limpieza de datos"
   ]
  },
  {
   "cell_type": "code",
   "execution_count": null,
   "metadata": {},
   "outputs": [],
   "source": [
    "#Tokenization\n"
   ]
  },
  {
   "cell_type": "code",
   "execution_count": null,
   "metadata": {},
   "outputs": [],
   "source": [
    "# Eliminar palabras con ausencia de significaddo (remover stopwords)\n"
   ]
  },
  {
   "cell_type": "code",
   "execution_count": null,
   "metadata": {},
   "outputs": [],
   "source": [
    "# Eliminar signos de puntuación (remover signos de puntuacion)\n"
   ]
  },
  {
   "cell_type": "code",
   "execution_count": null,
   "metadata": {},
   "outputs": [],
   "source": [
    "# Union descripciones (pasar de array a string)\n"
   ]
  },
  {
   "cell_type": "markdown",
   "metadata": {},
   "source": [
    "##### Cálculo Matriz Frecuencias (CountVectorizer(), usar encoding='iso-8859-1')"
   ]
  },
  {
   "cell_type": "code",
   "execution_count": null,
   "metadata": {},
   "outputs": [],
   "source": []
  },
  {
   "cell_type": "markdown",
   "metadata": {},
   "source": [
    "##### Visualización Matriz Frecuencias"
   ]
  },
  {
   "cell_type": "code",
   "execution_count": null,
   "metadata": {
    "scrolled": true
   },
   "outputs": [],
   "source": []
  },
  {
   "cell_type": "markdown",
   "metadata": {},
   "source": [
    "##### Porcentaje de Ceros del total de elementos de la Matriz Frecuencias"
   ]
  },
  {
   "cell_type": "code",
   "execution_count": null,
   "metadata": {},
   "outputs": [],
   "source": []
  },
  {
   "cell_type": "markdown",
   "metadata": {},
   "source": [
    "##### Número de Ceros en cada fila"
   ]
  },
  {
   "cell_type": "code",
   "execution_count": null,
   "metadata": {},
   "outputs": [],
   "source": []
  },
  {
   "cell_type": "markdown",
   "metadata": {},
   "source": [
    "##### Número de Ceros en cada columna"
   ]
  },
  {
   "cell_type": "code",
   "execution_count": null,
   "metadata": {},
   "outputs": [],
   "source": []
  },
  {
   "cell_type": "markdown",
   "metadata": {},
   "source": [
    "##### Ejemplo de los valores diferentes de cero"
   ]
  },
  {
   "cell_type": "code",
   "execution_count": null,
   "metadata": {
    "scrolled": true
   },
   "outputs": [],
   "source": []
  },
  {
   "cell_type": "markdown",
   "metadata": {},
   "source": [
    "##### Cálculo término frecuencia inversa de documento (TfidfTransformer())"
   ]
  },
  {
   "cell_type": "markdown",
   "metadata": {},
   "source": [
    "https://mldeeplearning.com/text-vectorization-term-frequency-inverse-document-frequency-tfidf/"
   ]
  },
  {
   "cell_type": "code",
   "execution_count": null,
   "metadata": {},
   "outputs": [],
   "source": []
  },
  {
   "cell_type": "markdown",
   "metadata": {},
   "source": [
    "##### Visualizacion Matriz con términos frecuencia inversa de documento y normalizada"
   ]
  },
  {
   "cell_type": "code",
   "execution_count": null,
   "metadata": {},
   "outputs": [],
   "source": []
  },
  {
   "cell_type": "markdown",
   "metadata": {},
   "source": [
    "##### Ejemplo de los valores diferentes de cero"
   ]
  },
  {
   "cell_type": "code",
   "execution_count": null,
   "metadata": {
    "scrolled": true
   },
   "outputs": [],
   "source": []
  },
  {
   "cell_type": "markdown",
   "metadata": {},
   "source": [
    "## Sistema Recomendación por Similitud entre items"
   ]
  },
  {
   "cell_type": "markdown",
   "metadata": {},
   "source": [
    "Para cada objeto se calculan las similitud con el resto de objetos.\n",
    "\n",
    "<br>\n",
    "<br>\n",
    "\n",
    "$$Similitud_{item} (x_1, x_2) = cos (\\theta) = \\frac {v_{x_1} \\cdot v_{x_2}}{||v_{x_1}|| \\cdot ||v_{x_2}||} = \\frac {\\sum_{i=1}^N (v_{x_1} * v_{x_2})}{\\sum_{i=1}^N(v_{x_1,i}^2) * \\sum_{i=1}^N(v_{x_2,i}^2)}$$\n",
    "\n",
    "<br>\n",
    "\n",
    "Para cada objeto se recomiendan los objetos con similitud más elevada.\n",
    "\n",
    "<br>"
   ]
  },
  {
   "cell_type": "markdown",
   "metadata": {},
   "source": [
    "##### Cálculo matriz similitudes"
   ]
  },
  {
   "cell_type": "code",
   "execution_count": null,
   "metadata": {},
   "outputs": [],
   "source": []
  },
  {
   "cell_type": "markdown",
   "metadata": {},
   "source": [
    "##### Validación de que la matriz anterior estaba normalizada (ver diagonal)"
   ]
  },
  {
   "cell_type": "code",
   "execution_count": null,
   "metadata": {},
   "outputs": [],
   "source": []
  },
  {
   "cell_type": "markdown",
   "metadata": {},
   "source": [
    "##### Visualizacion Matriz Similitudes"
   ]
  },
  {
   "cell_type": "code",
   "execution_count": null,
   "metadata": {},
   "outputs": [],
   "source": []
  },
  {
   "cell_type": "markdown",
   "metadata": {},
   "source": [
    "##### Ejemplo Recomendación por Similitud entre items"
   ]
  },
  {
   "cell_type": "code",
   "execution_count": null,
   "metadata": {},
   "outputs": [],
   "source": []
  },
  {
   "cell_type": "markdown",
   "metadata": {},
   "source": [
    "## Sistema Recomendación Filtrado Colaborativo Item-Item"
   ]
  },
  {
   "cell_type": "markdown",
   "metadata": {},
   "source": [
    "Para cada usuario se propagan las valoraciones de cada objeto al resto mediante la métrica de similaridad entre los objetos\n",
    "\n",
    "$$Score(u,x_i) = \\sum\\limits_{\\substack{j=1 \\\\ j \\neq i, \\hspace{1mm} j \\hspace{0.5mm} \\epsilon \\hspace{0.5mm} J}}^n w(rank_u(x_j)) * similitud_{item}(x_j, x_i)$$\n",
    "\n",
    "Donde:\n",
    "<ul>\n",
    "    <li>$J$ es el conjunto de objetos valorados por el usuario $u$</li>\n",
    "    <br>\n",
    "    <li>$rank_u(x_j)$ es la valoración del usuario $u$ al objeto $x_j$</li>\n",
    "    <br>\n",
    "    <li>$w:[0-10] \\to \\mathbb{R}$ es una función que asigna a cada valoración un valor real</li>\n",
    "</ul>"
   ]
  },
  {
   "cell_type": "markdown",
   "metadata": {},
   "source": [
    "##### Simulación valoracion individual de un usuario"
   ]
  },
  {
   "cell_type": "code",
   "execution_count": null,
   "metadata": {
    "scrolled": true
   },
   "outputs": [],
   "source": [
    "# Simulamos valoraciones del 1 al 100\n",
    "\n",
    "# 90 % valoraciones iguales a 0 (NA's)\n",
    "\n",
    "# Cálculos previos valoración real\n",
    "\n",
    "\n",
    "# Valoración normalizada\n"
   ]
  },
  {
   "cell_type": "markdown",
   "metadata": {},
   "source": [
    "##### Ejemplo Recomendación de 10 juguetes por Filtrado Colaborativo Item-Item"
   ]
  },
  {
   "cell_type": "code",
   "execution_count": null,
   "metadata": {
    "scrolled": true
   },
   "outputs": [],
   "source": [
    "# Pasamos a DataFrame las puntuaciones predichas para cada juguete\n",
    "\n",
    "# Solo seleccionamos los juguetes que no han sido valorados por el usuario (Se supone que los valorados ya han sido comprados por el usuario)\n",
    "\n",
    "# Ordenación decreciente\n",
    "\n",
    "# Muestra el top 10 de los juguetes recomendados \n"
   ]
  },
  {
   "cell_type": "markdown",
   "metadata": {},
   "source": [
    "## Sistema Recomendación Filtrado Colaborativo User-User"
   ]
  },
  {
   "cell_type": "markdown",
   "metadata": {},
   "source": [
    "Permite estimar valoraciones de objetos que hayan valorado otros usuarios que tengan valoraciones en común con el usuario objetivo.\n",
    "\n",
    "$$R(u_a, x) = \\frac{\\sum_{u_k \\epsilon R_x} (z_{u_k, x} * similitud(u_a, u_k))}{\\sum_{u_k \\epsilon R_x} |similitud(u_a, u_k)|} * \\sigma_a + \\mu_a$$\n",
    "\n",
    "$$similitud(u_a, u_k) = \\frac{\\sum_{i \\epsilon L_{a,k}} (\\upsilon_{k,i} - \\mu_k)(\\upsilon_{a,i} - \\mu_a)}{\\sqrt{\\sum_{i \\epsilon L_{a,k}} (\\upsilon_{k,i} - \\mu_k)^2} \\sqrt{\\sum_{i \\epsilon L_{a,k}} (\\upsilon_{a,i} - \\mu_a)^2}}$$\n",
    "\n",
    "$$z_{u_k, x} = \\frac{\\upsilon_{k, x} - \\mu_k}{\\sigma_k}$$\n",
    "\n",
    "Donde:\n",
    "<ul>\n",
    "    <li>$u_a$ denota al usuario $a$</li>\n",
    "    <li>$u_k$ denota al usuario $k$</li>\n",
    "    <li>$x$ denota el objeto $x$ a valorar</li>\n",
    "    <li>$R_x$ es el conjunto de usuarios que han valorado el objeto $x$</li>\n",
    "    <li>$z_{u_k, x}$ es la normalización de la valoración del usuario $k$ sobre el objeto $x$</li>\n",
    "    <li>$\\sigma_a$ denota la desviación típica de las valoraciones del usuario $a$</li>\n",
    "    <li>$\\mu_a$ denota la media aritmética de las valoraciones del usuario $a$</li>\n",
    "    <li>$\\mu_k$ denota la media aritmética de las valoraciones del usuario $k$</li>\n",
    "    <li>$L_{a,k}$ es el listado de objetos que han valorado tanto el usuario $a$ como el usuario $k$</li>\n",
    "    <li>$\\upsilon_{k,i}$ es la valoración media realizada por el usuario $k$ sobre el objeto $i$</li>\n",
    "    <li>$\\upsilon_{a,i}$ es la valoración media realizada por el usuario $a$ sobre el objeto $i$</li>    \n",
    "</ul>"
   ]
  },
  {
   "cell_type": "markdown",
   "metadata": {},
   "source": [
    "##### Lectura csv con valoraciones de 4 usuarios"
   ]
  },
  {
   "cell_type": "code",
   "execution_count": null,
   "metadata": {},
   "outputs": [],
   "source": [
    "valoracionesUsuarios = pd.read_csv(\"DatosJuguetes\\ValoracionesUsuarios.csv\", delimiter=\";\", encoding='iso-8859-1')\n",
    "valoracionesUsuarios = valoracionesUsuarios.iloc[:, [0,2,3,4,5]]\n",
    "valoracionesUsuarios.head(10)"
   ]
  },
  {
   "cell_type": "markdown",
   "metadata": {},
   "source": [
    "##### Ejemplo valoraciones user1"
   ]
  },
  {
   "cell_type": "code",
   "execution_count": null,
   "metadata": {},
   "outputs": [],
   "source": [
    "valoracionesUsuarios.iloc[:,1][np.where(valoracionesUsuarios.iloc[:,1].notnull())[0]]"
   ]
  },
  {
   "cell_type": "markdown",
   "metadata": {},
   "source": [
    "##### Cálculo valoraciones normalizadas "
   ]
  },
  {
   "cell_type": "code",
   "execution_count": null,
   "metadata": {
    "scrolled": true
   },
   "outputs": [],
   "source": [
    "# Cálculos previos valoración real (valoracioes normalizadas)\n",
    "medias = valoracionesUsuarios.iloc[:,1:5].apply(lambda x: x[np.where(x.notnull())[0]].mean(), axis=0)\n",
    "desviaciones = valoracionesUsuarios.iloc[:,1:5].apply(lambda x: x[np.where(x.notnull())[0]].std(), axis=0)\n",
    "\n",
    "# Normalización valoraciones\n",
    "valoracionesUsuariosNorm = (valoracionesUsuarios.iloc[:,1:valoracionesUsuarios.shape[1]] - medias.values)/desviaciones\n",
    "valoracionesUsuariosNorm = valoracionesUsuariosNorm.fillna(value=0)\n",
    "valoracionesUsuariosNorm"
   ]
  },
  {
   "cell_type": "markdown",
   "metadata": {},
   "source": [
    "##### Cálculo Similitud entre usuarios"
   ]
  },
  {
   "cell_type": "code",
   "execution_count": null,
   "metadata": {},
   "outputs": [],
   "source": []
  },
  {
   "cell_type": "markdown",
   "metadata": {},
   "source": [
    "##### Cálculo Scores Recomendación"
   ]
  },
  {
   "cell_type": "code",
   "execution_count": null,
   "metadata": {},
   "outputs": [],
   "source": [
    "Numerador = valoracionesUsuariosNorm.dot(SimilUsuarios)\n",
    "Denominador = (valoracionesUsuariosNorm != 0).dot(abs(SimilUsuarios))\n",
    "Cociente = (Numerador/Denominador).values\n",
    "Cociente"
   ]
  },
  {
   "cell_type": "markdown",
   "metadata": {},
   "source": [
    "##### Ejemplo Recomendación juguetes por Filtrado Colaborativo User-User"
   ]
  },
  {
   "cell_type": "code",
   "execution_count": null,
   "metadata": {},
   "outputs": [],
   "source": [
    "RecomendacionFiltradoColaborativoUserUser = pd.DataFrame(data = Cociente, index = Listado.values)\n",
    "\n",
    "# Ejemplo:\n",
    "# Se selecciona usuario\n",
    "Usuario = 4\n",
    "# Se seleccionan aquellos elemento que no estan valorados por el usuario 4 y que tienen valores predichos por Filtrado Colaboratibo User-User\n",
    "ElemntosValidos = RecomendacionFiltradoColaborativoUserUser.iloc[:, (Usuario - 1)].notnull().values * valoracionesUsuarios.iloc[:, Usuario].isnull().values\n",
    "\n",
    "# Recomendación\n",
    "RecomendacionFiltradoColaborativoUserUser = RecomendacionFiltradoColaborativoUserUser.iloc[ElemntosValidos, (Usuario - 1)]\n",
    "pd.DataFrame(RecomendacionFiltradoColaborativoUserUser.iloc[(-RecomendacionFiltradoColaborativoUserUser).argsort().values].index.values, columns = ['Juguete'])"
   ]
  },
  {
   "cell_type": "markdown",
   "metadata": {},
   "source": [
    "## Sistema Recomendación Reducción Dimensionalidad "
   ]
  },
  {
   "cell_type": "markdown",
   "metadata": {},
   "source": [
    "\n",
    "Surprise es una librería específicamente diseñada para construir sistemas de recomendación en Python. Puede considerarse como la versión de scikit-learn para algoritmos de recomendación. `surprise` se ha convertido en una de las librerías para algoritmos de recomendacón más populares en python. Esto se debe a que es extremadamente robusto y fácil de usar.\n",
    "\n",
    "La gran ventaja es que nos ofrece implementaciones de los algoritmos de filtro colaborativo más populares. Además también nos permitiria incorporar nuestro propio algoritomo dentro de su framework."
   ]
  },
  {
   "cell_type": "markdown",
   "metadata": {},
   "source": [
    "<center><img src='https://image.slidesharecdn.com/4772391/95/building-a-recommendation-engine-an-example-of-a-product-recommendation-engine-21-728.jpg' width=600 ></center>"
   ]
  },
  {
   "cell_type": "code",
   "execution_count": null,
   "metadata": {},
   "outputs": [],
   "source": [
    "from surprise import Dataset\n",
    "from surprise import Reader\n",
    "from surprise import accuracy\n",
    "from surprise.model_selection import cross_validate, train_test_split\n",
    "from surprise import SVD\n",
    "\n",
    "# Un reader es todavia necesario pero solo parametro rating_scale es requerido\n",
    "reader = Reader(rating_scale=(1, 5))\n",
    "\n",
    "df = pd.read_csv(\"DatosJuguetes/u.data\", delimiter=\"\\t\", header = None, encoding='iso-8859-1')\n",
    "df.columns= ['userID', 'itemID', 'rating', 'timestamp']\n",
    "# Las columnas deben corresponder a user id, item id and ratings (en este orden).\n",
    "data = Dataset.load_from_df(df[['userID', 'itemID', 'rating']], reader)\n",
    "\n",
    "# Metodo seleccionado\n",
    "modelo=SVD()"
   ]
  },
  {
   "cell_type": "code",
   "execution_count": null,
   "metadata": {},
   "outputs": [],
   "source": [
    "df"
   ]
  },
  {
   "cell_type": "code",
   "execution_count": null,
   "metadata": {},
   "outputs": [],
   "source": [
    "# Cross validation\n",
    "cross_validate(modelo, data, cv=5)"
   ]
  },
  {
   "cell_type": "code",
   "execution_count": null,
   "metadata": {},
   "outputs": [],
   "source": [
    "# train and tets\n",
    "trainset, testset = train_test_split(data, test_size=.25)\n",
    "\n",
    "# Entrenamiento y predicción\n",
    "modelo.fit(trainset)\n",
    "predictions = modelo.test(testset)\n",
    "predictions"
   ]
  },
  {
   "cell_type": "code",
   "execution_count": null,
   "metadata": {},
   "outputs": [],
   "source": [
    "# Accuracy RMSE\n",
    "accuracy.rmse(predictions)"
   ]
  },
  {
   "cell_type": "markdown",
   "metadata": {},
   "source": [
    "## Más algoritmos en el paquete `surprise`\n",
    "\n",
    "No vamos a entrar en detalles del resto de algoritmos que contiene el paquete, pero vamos a listarlos para que los conozcaís y valoreis su utilización en el futuro.\n",
    "\n",
    "\n",
    "\n",
    "\n",
    "### NormalPredictor\n",
    "\n",
    "NormalPredictor predice los ratings de forma aleatoria entendiendo que la distribución de las puntuaciones sigue una normal. Es uno de los algoritmos más básicos que podemos encontrar.\n",
    "\n",
    "\n",
    "\n",
    "\n",
    "### BaselineOnly\n",
    "BaselineOnly nos devolverá el baseline para la combinación de usuario e ítem.\n",
    "\n",
    "\n",
    "\n",
    "\n",
    "### k-NN algorithms\n",
    "\n",
    "#### KNNBasic\n",
    "KNNBasic es un algoritmo básico de filtro colaborativo.\n",
    "\n",
    "\n",
    "\n",
    "#### KNNWithMeans\n",
    "KNNWithMeans es un algoritmo de filtro colaborativo, que tienen en cuenta la media de los ratings de cada usuario. \n",
    "\n",
    "\n",
    "\n",
    "#### KNNWithZScore\n",
    "KNNWithZScore es un algoritmo de filtro colaborativo, que tienen en cuenta la normalización z-score de las puntuaciones de cada usuario.\n",
    "\n",
    "\n",
    "\n",
    "#### KNNBaseline\n",
    "KNNBaseline es un algoritmo de filtro colaborativo, basado en el baseline. \n",
    "\n",
    "\n",
    "### Matrix Factorization-based algorithms\n",
    "\n",
    "\n",
    "#### SVD y SVDpp\n",
    "\n",
    "SVD y SVDpp son dos versiones del algoritmo que hemos analizado anteriormente.\n",
    "\n",
    "\n",
    "\n",
    "#### NMF\n",
    "\n",
    "NMF  es un algoritmo de filtro colaborativo basado en Non-negative Matrix Factorization. Conceptualmente es muy similar a  SVD.\n",
    "\n",
    "\n",
    "### Slope One\n",
    "SlopeOne es una implementación del algoritmo SlopeOne. https://en.wikipedia.org/wiki/Slope_One\n",
    "\n",
    "\n",
    "\n",
    "### Co-clustering\n",
    "\n",
    "Algortimo de filtro colaborativo basado en co-clustering."
   ]
  }
 ],
 "metadata": {
  "kernelspec": {
   "display_name": "Python 3",
   "language": "python",
   "name": "python3"
  },
  "language_info": {
   "codemirror_mode": {
    "name": "ipython",
    "version": 3
   },
   "file_extension": ".py",
   "mimetype": "text/x-python",
   "name": "python",
   "nbconvert_exporter": "python",
   "pygments_lexer": "ipython3",
   "version": "3.7.10"
  }
 },
 "nbformat": 4,
 "nbformat_minor": 2
}
