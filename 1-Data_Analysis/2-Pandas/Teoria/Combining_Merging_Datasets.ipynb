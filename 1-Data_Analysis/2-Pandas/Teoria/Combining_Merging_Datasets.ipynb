{
 "cells": [
  {
   "cell_type": "markdown",
   "id": "quick-trauma",
   "metadata": {},
   "source": [
    "# Combining & Merging datasets\n",
    "\n",
    "https://pandas.pydata.org/pandas-docs/stable/user_guide/merging.html"
   ]
  },
  {
   "cell_type": "markdown",
   "id": "processed-arena",
   "metadata": {},
   "source": [
    "Data contained in pandas objects can be combined together in a number of ways:"
   ]
  },
  {
   "cell_type": "markdown",
   "id": "several-addiction",
   "metadata": {},
   "source": [
    "1. [**Database-Style DataFrame Joins**](#Database-Style-DataFrame-Joins)\n",
    "\n",
    "    - [**Merge**](#Merge) [`pd.merge(df1, df2)`](https://pandas.pydata.org/pandas-docs/stable/reference/api/pandas.DataFrame.merge.html#pandas.DataFrame.merge): for combining data on common columns or indices\n",
    "\n",
    "    - [**Join**](#Join) [`df1.join(df2)`](https://pandas.pydata.org/pandas-docs/stable/reference/api/pandas.DataFrame.join.html#pandas.DataFrame.join): for combining data on a key column or an index\n",
    "    \n",
    "\n",
    "2. [**Concatenating Along an Axis**](#Concatenating-Along-an-Axis)\n",
    "\n",
    "    - [**Concat**](#Concat) [`pd.concat([df1, df2])`](https://pandas.pydata.org/pandas-docs/stable/reference/api/pandas.concat.html#pandas.concat): for combining DataFrames across rows or columns\n",
    "\n",
    "    - [**Append**](#Append) [`df1.append(df2)`](https://pandas.pydata.org/pandas-docs/stable/reference/api/pandas.DataFrame.append.html): stacking vertically"
   ]
  },
  {
   "cell_type": "markdown",
   "id": "satellite-commodity",
   "metadata": {},
   "source": [
    "------------------------------------------------------------------------------------------------------------------------------"
   ]
  },
  {
   "cell_type": "markdown",
   "id": "established-richmond",
   "metadata": {},
   "source": [
    "## Database-Style DataFrame Joins"
   ]
  },
  {
   "cell_type": "markdown",
   "id": "defensive-surgeon",
   "metadata": {},
   "source": [
    "# Merge"
   ]
  },
  {
   "cell_type": "markdown",
   "id": "creative-bosnia",
   "metadata": {},
   "source": [
    "Merge DataFrame or named Series objects with a database-style join.\n",
    "\n",
    "The join is done on columns or indexes. If joining columns on columns, the DataFrame indexes will be ignored. Otherwise if joining indexes on indexes or indexes on a column or columns, the index will be passed on. When performing a cross merge, no column specifications to merge on are allowed."
   ]
  },
  {
   "cell_type": "markdown",
   "id": "suburban-cleveland",
   "metadata": {},
   "source": [
    "When you use merge(), you’ll provide two required arguments:\n",
    "\n",
    "- The left DataFrame\n",
    "- The right DataFrame\n",
    "\n",
    "After that, you can provide a number of optional arguments to define how your datasets are merged:\n",
    "\n",
    "**how**: This defines what kind of merge to make. It defaults to 'inner', but other possible options include 'outer', 'left', and 'right'.\n",
    "\n",
    "**on**: Use this to tell merge() which columns or indices (also called key columns or key indices) you want to join on. This is optional. If it isn’t specified, and left_index and right_index (covered below) are False, then columns from the two DataFrames that share names will be used as join keys. If you use on, then the column or index you specify must be present in both objects.\n",
    "\n",
    "**left_on and right_on**: Use either of these to specify a column or index that is present only in the left or right objects that you are merging. Both default to None.\n",
    "\n",
    "**left_index and right_index**: Set these to True to use the index of the left or right objects to be merged. Both default to False.\n",
    "\n",
    "**suffixes**: This is a tuple of strings to append to identical column names that are not merge keys. This allows you to keep track of the origins of columns with the same name."
   ]
  },
  {
   "cell_type": "markdown",
   "id": "removed-domain",
   "metadata": {},
   "source": [
    "### Joining (Merging) DataFrames"
   ]
  },
  {
   "cell_type": "markdown",
   "id": "superb-resource",
   "metadata": {},
   "source": [
    "Using the [MovieLens 100k data](http://grouplens.org/datasets/movielens/), let's create two DataFrames:\n",
    "\n",
    "- **movies**: shows information about movies, namely a unique **movie_id** and its **title**\n",
    "- **ratings**: shows the **rating** that a particular **user_id** gave to a particular **movie_id** at a particular **timestamp**"
   ]
  },
  {
   "cell_type": "code",
   "execution_count": null,
   "id": "racial-prisoner",
   "metadata": {},
   "outputs": [],
   "source": [
    "#first things first"
   ]
  },
  {
   "cell_type": "markdown",
   "id": "associate-proportion",
   "metadata": {},
   "source": [
    "#### Movies"
   ]
  },
  {
   "cell_type": "code",
   "execution_count": null,
   "id": "moderate-responsibility",
   "metadata": {},
   "outputs": [],
   "source": [
    "url = \"https://raw.githubusercontent.com/justmarkham/pandas-videos/master/data/u.item\""
   ]
  },
  {
   "cell_type": "code",
   "execution_count": null,
   "id": "agreed-depth",
   "metadata": {},
   "outputs": [],
   "source": [
    "movie_cols = ['movie_id', 'title']\n",
    "movies = pd.read_csv(url, sep='|', header=None, names=movie_cols, usecols=[0, 1])"
   ]
  },
  {
   "cell_type": "code",
   "execution_count": null,
   "id": "suffering-mayor",
   "metadata": {},
   "outputs": [],
   "source": []
  },
  {
   "cell_type": "code",
   "execution_count": null,
   "id": "passing-sponsorship",
   "metadata": {},
   "outputs": [],
   "source": []
  },
  {
   "cell_type": "markdown",
   "id": "chronic-gross",
   "metadata": {},
   "source": [
    "#### Ratings"
   ]
  },
  {
   "cell_type": "code",
   "execution_count": null,
   "id": "forty-lodge",
   "metadata": {},
   "outputs": [],
   "source": [
    "url1 = \"https://raw.githubusercontent.com/justmarkham/pandas-videos/master/data/u.data\""
   ]
  },
  {
   "cell_type": "code",
   "execution_count": null,
   "id": "numeric-protection",
   "metadata": {},
   "outputs": [],
   "source": [
    "rating_cols = ['user_id', 'movie_id', 'rating', 'timestamp']\n",
    "ratings = pd.read_table(url1, sep='\\t', header=None, names=rating_cols)"
   ]
  },
  {
   "cell_type": "code",
   "execution_count": null,
   "id": "swiss-activation",
   "metadata": {},
   "outputs": [],
   "source": []
  },
  {
   "cell_type": "code",
   "execution_count": null,
   "id": "departmental-tennessee",
   "metadata": {},
   "outputs": [],
   "source": []
  },
  {
   "cell_type": "code",
   "execution_count": null,
   "id": "white-czech",
   "metadata": {},
   "outputs": [],
   "source": []
  },
  {
   "cell_type": "markdown",
   "id": "meaningful-improvement",
   "metadata": {},
   "source": [
    "#### Merging Movies and Ratings"
   ]
  },
  {
   "cell_type": "markdown",
   "id": "hybrid-craft",
   "metadata": {},
   "source": [
    "Let's pretend that you want to examine the ratings DataFrame, but you want to know the **title** of each movie rather than its **movie_id**. The best way to accomplish this objective is by \"joining\" (or \"merging\") the DataFrames using the Pandas `merge` function:"
   ]
  },
  {
   "cell_type": "code",
   "execution_count": null,
   "id": "tutorial-macedonia",
   "metadata": {},
   "outputs": [],
   "source": []
  },
  {
   "cell_type": "code",
   "execution_count": null,
   "id": "convenient-fabric",
   "metadata": {},
   "outputs": [],
   "source": []
  },
  {
   "cell_type": "code",
   "execution_count": null,
   "id": "opened-jackson",
   "metadata": {},
   "outputs": [],
   "source": []
  },
  {
   "cell_type": "code",
   "execution_count": null,
   "id": "reverse-progressive",
   "metadata": {},
   "outputs": [],
   "source": []
  },
  {
   "cell_type": "code",
   "execution_count": null,
   "id": "listed-longer",
   "metadata": {},
   "outputs": [],
   "source": []
  },
  {
   "cell_type": "markdown",
   "id": "russian-fraction",
   "metadata": {},
   "source": [
    "Here's what just happened:\n",
    "\n",
    "- Pandas noticed that movies and ratings had one column in common, namely **movie_id**. This is the \"key\" on which the DataFrames will be joined.\n",
    "- The first **movie_id** in movies is 1. Thus, Pandas looked through every row in the ratings DataFrame, searching for a movie_id of 1. Every time it found such a row, it recorded the **user_id**, **rating**, and **timestamp** listed in that row. In this case, it found 452 matching rows.\n",
    "- The second **movie_id** in movies is 2. Again, Pandas did a search of ratings and found 131 matching rows.\n",
    "- This process was repeated for all of the remaining rows in movies.\n",
    "\n",
    "At the end of the process, the movie_ratings DataFrame is created, which contains the two columns from movies (**movie_id** and **title**) and the three other colums from ratings (**user_id**, **rating**, and **timestamp**).\n",
    "\n",
    "- **movie_id** 1 and its **title** are listed 452 times, next to the **user_id**, **rating**, and **timestamp** for each of the 452 matching ratings.\n",
    "- **movie_id** 2 and its **title** are listed 131 times, next to the **user_id**, **rating**, and **timestamp** for each of the 131 matching ratings.\n",
    "- And so on, for every movie in the dataset."
   ]
  },
  {
   "cell_type": "code",
   "execution_count": null,
   "id": "lightweight-nicholas",
   "metadata": {},
   "outputs": [],
   "source": []
  },
  {
   "cell_type": "markdown",
   "id": "skilled-turkey",
   "metadata": {},
   "source": [
    "Notice the shapes of the three DataFrames:\n",
    "\n",
    "- There are 1682 rows in the movies DataFrame.\n",
    "- There are 100000 rows in the ratings DataFrame.\n",
    "- The `merge` function resulted in a movie_ratings DataFrame with 100000 rows, because every row from ratings matched a row from movies.\n",
    "- The movie_ratings DataFrame has 5 columns, namely the 2 columns from movies, plus the 4 columns from ratings, minus the 1 column in common.\n",
    "\n",
    "By default, the `merge` function joins the DataFrames using all column names that are in common (**movie_id**, in this case). The [documentation](https://pandas.pydata.org/pandas-docs/stable/generated/pandas.merge.html) explains how you can override this behavior."
   ]
  },
  {
   "cell_type": "markdown",
   "id": "measured-orleans",
   "metadata": {},
   "source": [
    "**What if the columns you want to join on don't have the same name?**"
   ]
  },
  {
   "cell_type": "code",
   "execution_count": null,
   "id": "simple-tampa",
   "metadata": {},
   "outputs": [],
   "source": []
  },
  {
   "cell_type": "code",
   "execution_count": null,
   "id": "hollow-villa",
   "metadata": {},
   "outputs": [],
   "source": []
  },
  {
   "cell_type": "code",
   "execution_count": null,
   "id": "parental-grain",
   "metadata": {},
   "outputs": [],
   "source": []
  },
  {
   "cell_type": "markdown",
   "id": "gentle-premises",
   "metadata": {},
   "source": [
    "#### What if you want to join on one index?"
   ]
  },
  {
   "cell_type": "code",
   "execution_count": null,
   "id": "anticipated-square",
   "metadata": {},
   "outputs": [],
   "source": []
  },
  {
   "cell_type": "code",
   "execution_count": null,
   "id": "related-review",
   "metadata": {},
   "outputs": [],
   "source": []
  },
  {
   "cell_type": "markdown",
   "id": "controlling-morgan",
   "metadata": {},
   "source": [
    "#### What if you want to join on two indexes?"
   ]
  },
  {
   "cell_type": "code",
   "execution_count": null,
   "id": "annual-institution",
   "metadata": {},
   "outputs": [],
   "source": []
  },
  {
   "cell_type": "code",
   "execution_count": null,
   "id": "retired-brooklyn",
   "metadata": {},
   "outputs": [],
   "source": []
  },
  {
   "cell_type": "markdown",
   "id": "expensive-cleaning",
   "metadata": {},
   "source": [
    "### Types of join"
   ]
  },
  {
   "cell_type": "markdown",
   "id": "genuine-korean",
   "metadata": {},
   "source": [
    "There are actually four types of joins supported by the Pandas `merge` function. Here's how they are described by the documentation:\n",
    "\n",
    "- **inner:** use intersection of keys from both frames, similar to a SQL inner join; preserve the order of the left keys\n",
    "- **outer:** use union of keys from both frames, similar to a SQL full outer join; sort keys lexicographically\n",
    "- **left:** use only keys from left frame, similar to a SQL left outer join; preserve key order\n",
    "- **right:** use only keys from right frame, similar to a SQL right outer join; preserve key order\n",
    "\n",
    "The default is the \"inner join\", which was used when creating the movie_ratings DataFrame.\n",
    "\n",
    "It's easiest to understand the different types by looking at some simple examples:"
   ]
  },
  {
   "cell_type": "markdown",
   "id": "demographic-cheese",
   "metadata": {},
   "source": [
    "![join](https://www.dofactory.com/img/sql/sql-joins.png)"
   ]
  },
  {
   "cell_type": "code",
   "execution_count": null,
   "id": "built-appreciation",
   "metadata": {},
   "outputs": [],
   "source": [
    "A = pd.DataFrame({'color': ['green', 'yellow', 'red'], 'num':[1, 2, 3]})\n",
    "A"
   ]
  },
  {
   "cell_type": "code",
   "execution_count": null,
   "id": "verbal-daily",
   "metadata": {},
   "outputs": [],
   "source": [
    "B = pd.DataFrame({'color': ['green', 'yellow', 'pink'], 'size':['S', 'M', 'L']})\n",
    "B"
   ]
  },
  {
   "cell_type": "markdown",
   "id": "extraordinary-suffering",
   "metadata": {},
   "source": [
    "#### Inner join\n",
    "\n",
    "Only include observations found in both A and B:"
   ]
  },
  {
   "cell_type": "code",
   "execution_count": null,
   "id": "baking-volleyball",
   "metadata": {},
   "outputs": [],
   "source": []
  },
  {
   "cell_type": "markdown",
   "id": "floating-repeat",
   "metadata": {},
   "source": [
    "#### Outer join\n",
    "\n",
    "Include observations found in either A or B:"
   ]
  },
  {
   "cell_type": "code",
   "execution_count": null,
   "id": "younger-router",
   "metadata": {},
   "outputs": [],
   "source": []
  },
  {
   "cell_type": "markdown",
   "id": "collectible-costume",
   "metadata": {},
   "source": [
    "#### Left join\n",
    "\n",
    "Include all observations found in A:"
   ]
  },
  {
   "cell_type": "code",
   "execution_count": null,
   "id": "entertaining-collaboration",
   "metadata": {},
   "outputs": [],
   "source": []
  },
  {
   "cell_type": "markdown",
   "id": "regional-mechanism",
   "metadata": {},
   "source": [
    "#### Right join\n",
    "\n",
    "Include all observations found in B:"
   ]
  },
  {
   "cell_type": "code",
   "execution_count": null,
   "id": "prime-david",
   "metadata": {},
   "outputs": [],
   "source": []
  },
  {
   "cell_type": "markdown",
   "id": "subject-storm",
   "metadata": {},
   "source": [
    "# Join"
   ]
  },
  {
   "cell_type": "markdown",
   "id": "digital-texas",
   "metadata": {},
   "source": [
    "Join columns of another DataFrame.\n",
    "\n",
    "Join columns with other DataFrame either on index or on a key column. Efficiently join multiple DataFrame objects by index at once by passing a list.\n",
    "\n",
    "If we want to join using the key columns, we need to set key to be the index in both df and other. The joined DataFrame will have key as its index.\n",
    "\n",
    "While `merge` is a module function, `.join` is an object function that lives on your DataFrame. This enables you to specify only one DataFrame, which will join the DataFrame you call `.join` on.\n",
    "\n",
    "Under the hood, `.join` uses `merge`"
   ]
  },
  {
   "cell_type": "code",
   "execution_count": null,
   "id": "surprising-clerk",
   "metadata": {},
   "outputs": [],
   "source": []
  },
  {
   "cell_type": "code",
   "execution_count": null,
   "id": "modern-prospect",
   "metadata": {},
   "outputs": [],
   "source": [
    "#con las películas\n"
   ]
  },
  {
   "cell_type": "code",
   "execution_count": null,
   "id": "wanted-border",
   "metadata": {},
   "outputs": [],
   "source": []
  },
  {
   "cell_type": "code",
   "execution_count": null,
   "id": "appropriate-battery",
   "metadata": {},
   "outputs": [],
   "source": []
  },
  {
   "cell_type": "code",
   "execution_count": null,
   "id": "instant-simulation",
   "metadata": {},
   "outputs": [],
   "source": [
    "#si tienen mismo index, igual que al hacer pd.merge(movies_index, ratings_index, left_index=True, right_index=True)\n"
   ]
  },
  {
   "cell_type": "markdown",
   "id": "medical-request",
   "metadata": {},
   "source": [
    "# Concatenating Along an Axis"
   ]
  },
  {
   "cell_type": "markdown",
   "id": "experimental-paris",
   "metadata": {},
   "source": [
    "# Concat"
   ]
  },
  {
   "cell_type": "markdown",
   "id": "sticky-morocco",
   "metadata": {},
   "source": [
    "Concatenate pandas objects along a particular axis with optional set logic along the other axes.\n",
    "\n",
    "Can also add a layer of hierarchical indexing on the concatenation axis, which may be useful if the labels are the same (or overlapping) on the passed axis number."
   ]
  },
  {
   "cell_type": "markdown",
   "id": "eleven-advice",
   "metadata": {},
   "source": [
    "Concatenation is a bit different from the merging techniques you saw above. With merging, you can expect the resulting dataset to have rows from the parent datasets mixed in together, often based on some commonality. Depending on the type of merge, you might also lose rows that don’t have matches in the other dataset.\n",
    "\n",
    "With concatenation, your datasets are just stitched together along an axis — either the row axis or column axis. Visually, a concatenation with no parameters along rows would look like this:"
   ]
  },
  {
   "cell_type": "markdown",
   "id": "forced-whale",
   "metadata": {},
   "source": [
    "![](https://files.realpython.com/media/concat_axis0.2ec65b5f72bc.png)"
   ]
  },
  {
   "cell_type": "markdown",
   "id": "flying-independence",
   "metadata": {},
   "source": [
    "To implement this in code, you’ll use concat() and pass it a list of DataFrames that you want to concatenate. "
   ]
  },
  {
   "cell_type": "markdown",
   "id": "tough-holocaust",
   "metadata": {},
   "source": [
    "**objs**: This parameter takes any sequence (typically a list) of Series or DataFrame objects to be concatenated. You can also provide a dictionary. In this case, the keys will be used for the keys options.\n",
    "\n",
    "**axis**: Like in the other techniques, this represents the axis you will concatenate along. The default value is 0, which concatenates along the index (or row axis), while 1 concatenates along columns (vertically). You can also use the string values index or columns.\n",
    "\n",
    "**join**: This is similar to the how parameter in the other techniques, but it only accepts the values inner or outer. The default value is outer, which preserves data, while inner would eliminate data that does not have a match in the other dataset."
   ]
  },
  {
   "cell_type": "code",
   "execution_count": null,
   "id": "comparable-wrapping",
   "metadata": {},
   "outputs": [],
   "source": [
    "df1 = pd.DataFrame(np.arange(6).reshape(3,2), index = [\"a\", \"b\", \"c\"], columns = [\"one\", \"two\"])\n",
    "df2 = pd.DataFrame(5 + np.arange(4).reshape(2,2), index = [\"a\", \"c\"], columns = [\"three\", \"four\"])"
   ]
  },
  {
   "cell_type": "code",
   "execution_count": null,
   "id": "respiratory-honduras",
   "metadata": {},
   "outputs": [],
   "source": []
  },
  {
   "cell_type": "code",
   "execution_count": null,
   "id": "cleared-guard",
   "metadata": {},
   "outputs": [],
   "source": []
  },
  {
   "cell_type": "code",
   "execution_count": null,
   "id": "tender-gabriel",
   "metadata": {},
   "outputs": [],
   "source": []
  },
  {
   "cell_type": "markdown",
   "id": "mounted-mobility",
   "metadata": {},
   "source": [
    "A potential issue is that the concatenated pieces are not identifiable in the result. Suppose instead you wanted to create a hierarchical index on the concatenation axis. To do this, use the `keys` argument."
   ]
  },
  {
   "cell_type": "code",
   "execution_count": null,
   "id": "finished-bonus",
   "metadata": {},
   "outputs": [],
   "source": []
  },
  {
   "cell_type": "markdown",
   "id": "frequent-stranger",
   "metadata": {},
   "source": [
    "If you pass a dict of objects instead of a list, the dict's keys will be used for the keys option: \n"
   ]
  },
  {
   "cell_type": "code",
   "execution_count": null,
   "id": "corrected-belle",
   "metadata": {},
   "outputs": [],
   "source": []
  },
  {
   "cell_type": "code",
   "execution_count": null,
   "id": "vocational-blocking",
   "metadata": {},
   "outputs": [],
   "source": [
    "#usando movies y ratings vemos que para este problema concat no sirve\n"
   ]
  },
  {
   "cell_type": "markdown",
   "id": "multiple-principal",
   "metadata": {},
   "source": [
    "# Append\n",
    "\n",
    "Because direct array concatenation is so common, ``Series`` and ``DataFrame`` objects have an ``append`` method that can accomplish the same thing in fewer keystrokes.\n",
    "\n",
    "Append is the specific case `(axis=0, join='outer')` of concat\n",
    "\n",
    "For example, rather than calling ``pd.concat([df1, df2])``, you can simply call ``df1.append(df2)``:"
   ]
  },
  {
   "cell_type": "code",
   "execution_count": null,
   "id": "coastal-party",
   "metadata": {},
   "outputs": [],
   "source": [
    "df_a = pd.DataFrame([[1, 2], [3, 4]], columns=list('AB'))\n",
    "df2_a = pd.DataFrame([[5, 6], [7, 8]], columns=list('AB'))"
   ]
  },
  {
   "cell_type": "code",
   "execution_count": null,
   "id": "powerful-plain",
   "metadata": {},
   "outputs": [],
   "source": []
  },
  {
   "cell_type": "code",
   "execution_count": null,
   "id": "stunning-bargain",
   "metadata": {},
   "outputs": [],
   "source": []
  },
  {
   "cell_type": "code",
   "execution_count": null,
   "id": "graphic-atlantic",
   "metadata": {},
   "outputs": [],
   "source": []
  },
  {
   "cell_type": "code",
   "execution_count": null,
   "id": "dated-bridal",
   "metadata": {},
   "outputs": [],
   "source": [
    "# concat también tiene el parámetro ignore_index = True\n"
   ]
  }
 ],
 "metadata": {
  "kernelspec": {
   "display_name": "Python 3",
   "language": "python",
   "name": "python3"
  },
  "language_info": {
   "codemirror_mode": {
    "name": "ipython",
    "version": 3
   },
   "file_extension": ".py",
   "mimetype": "text/x-python",
   "name": "python",
   "nbconvert_exporter": "python",
   "pygments_lexer": "ipython3",
   "version": "3.8.6"
  }
 },
 "nbformat": 4,
 "nbformat_minor": 5
}
